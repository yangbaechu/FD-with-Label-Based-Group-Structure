{
 "cells": [
  {
   "cell_type": "markdown",
   "metadata": {},
   "source": [
    "## 1. 데이터 준비"
   ]
  },
  {
   "cell_type": "code",
   "execution_count": 1,
   "metadata": {
    "execution": {
     "iopub.execute_input": "2023-09-09T02:45:30.866064Z",
     "iopub.status.busy": "2023-09-09T02:45:30.865821Z",
     "iopub.status.idle": "2023-09-09T02:45:32.351589Z",
     "shell.execute_reply": "2023-09-09T02:45:32.350513Z",
     "shell.execute_reply.started": "2023-09-09T02:45:30.866039Z"
    },
    "tags": []
   },
   "outputs": [],
   "source": [
    "%matplotlib inline\n",
    "# Standard library imports\n",
    "import datetime\n",
    "from datetime import datetime\n",
    "import os\n",
    "from copy import deepcopy\n",
    "import pickle\n",
    "\n",
    "# Third-party libraries imports\n",
    "import matplotlib.pyplot as plt\n",
    "import numpy as np\n",
    "import pandas as pd\n",
    "import pytz\n",
    "import seaborn as sns\n",
    "import random\n",
    "from itertools import combinations\n",
    "\n",
    "# from IPython.display import clear_output\n",
    "from scipy.spatial import distance\n",
    "from sklearn.decomposition import PCA\n",
    "\n",
    "import torch\n",
    "from torch import nn\n",
    "from torch.utils.data import DataLoader, TensorDataset, Subset\n",
    "from torchvision import datasets, transforms\n",
    "\n",
    "# Local application/library specific imports\n",
    "from data_utils import (generate_server_idcs, CustomSubset, split_3class_unbalanced, split_contain_multiclass,\n",
    "                        split_7plus3class_unbalanced, CombinedCustomSubset)\n",
    "from fl_devices import Server, Client\n",
    "from helper import ExperimentLogger, display_train_stats\n",
    "from models import ConvNet, Representation, Two_class_classifier, Ten_class_classifier, Four_class_classifier\n",
    "\n",
    "\n",
    "torch.manual_seed(42)\n",
    "np.random.seed(42)"
   ]
  },
  {
   "cell_type": "code",
   "execution_count": 2,
   "metadata": {
    "execution": {
     "iopub.execute_input": "2023-09-09T02:45:32.352991Z",
     "iopub.status.busy": "2023-09-09T02:45:32.352645Z",
     "iopub.status.idle": "2023-09-09T02:45:32.356825Z",
     "shell.execute_reply": "2023-09-09T02:45:32.356133Z",
     "shell.execute_reply.started": "2023-09-09T02:45:32.352973Z"
    },
    "tags": []
   },
   "outputs": [],
   "source": [
    "LOCAL_EPOCHS = 25\n",
    "N_CLIENTS = 6\n",
    "NUMBER_OF_CLUSTER = 3\n",
    "ALPHA = 0.1\n",
    "device = \"cuda\" if torch.cuda.is_available() else \"cpu\""
   ]
  },
  {
   "cell_type": "code",
   "execution_count": 3,
   "metadata": {
    "execution": {
     "iopub.execute_input": "2023-09-09T02:45:32.358405Z",
     "iopub.status.busy": "2023-09-09T02:45:32.357901Z",
     "iopub.status.idle": "2023-09-09T02:45:32.434224Z",
     "shell.execute_reply": "2023-09-09T02:45:32.433272Z",
     "shell.execute_reply.started": "2023-09-09T02:45:32.358377Z"
    },
    "tags": []
   },
   "outputs": [],
   "source": [
    "# data = datasets.CIFAR10(root=\"CIFAR10/\", download=False)\n",
    "data = datasets.MNIST(root=\"MNIST/\", download=False)\n",
    "idcs = np.random.permutation(len(data))\n",
    "\n",
    "def cluster(server, clients, number_of_cluster):\n",
    "    label_predicted = pd.DataFrame()\n",
    "    # label_acc = pd.DataFrame()\n",
    "    for i, client in enumerate(clients):\n",
    "        pred = server.check_cluster(client.model)\n",
    "        # print(f'pred: {pred}')\n",
    "        label_predicted = pd.concat([label_predicted, pd.DataFrame(pred, index=[i])])\n",
    "        # label_acc = pd.concat([label_acc, pd.DataFrame(acc, index=[i])])\n",
    "    label_predicted.reset_index(drop=True, inplace=True)\n",
    "    label_predicted.fillna(0, inplace=True)\n",
    "    \n",
    "    print(f'predicted label')\n",
    "    print(label_predicted)\n",
    "\n",
    "    cluster_idcs, number_of_cluster= server.cluster_clients(label_predicted)\n",
    "    return label_predicted, cluster_idcs, number_of_cluster\n",
    "\n",
    "\n",
    "\n",
    "def get_cluster_averages(df, cluster_idcs):\n",
    "    cluster_averages = {}\n",
    "\n",
    "    for i, cluster in enumerate(cluster_idcs):\n",
    "        cluster_data = df.loc[cluster, :]\n",
    "        cluster_average = cluster_data.mean()\n",
    "        cluster_averages[i] = cluster_average\n",
    "\n",
    "    cluster_averages_df = pd.DataFrame(cluster_averages).T\n",
    "\n",
    "    # calculate percentage for each value in a row\n",
    "    cluster_percentages_df = cluster_averages_df.div(cluster_averages_df.sum(axis=1), axis=0).multiply(100)\n",
    "\n",
    "    # apply threshold and rounding\n",
    "    cluster_percentages_df = cluster_percentages_df.where(cluster_percentages_df >= 5, 0).round()\n",
    "\n",
    "    return cluster_percentages_df / 10\n",
    "\n",
    "\n",
    "def get_cluster_weights(cluster_logits, cluster_weight_per_class):\n",
    "    # Step 1: Find the class with the maximum value in each logit in cluster_logits\n",
    "    # Assuming the dimension for classes is the second one\n",
    "    max_classes = [torch.argmax(logit, dim=1) for logit in cluster_logits]\n",
    "    \n",
    "    print(max_classes)\n",
    "    cluster_weights = []\n",
    "    #c luster별로 \n",
    "    for i, iogits in enumerate(cluster_logits):\n",
    "        weights = []\n",
    "        for j, logit in enumerate(logits):\n",
    "            \n",
    "            # print(f'max_classes: {max_classes[i][j]}')\n",
    "            # print(\"Shape of cluster_weight_per_class[{}]: \".format(i), cluster_weight_per_class[i].shape)\n",
    "            weights.append(max_classes[i][j])\n",
    "        print(weights)\n",
    "        cluster_weights.append(weights)\n",
    "\n",
    "def visualize_clusters(label_predicted, real_cluster_distribution):\n",
    "    # Reduce the dimension of the data\n",
    "    pca = PCA(n_components=2)\n",
    "    label_predicted_pca = pca.fit_transform(label_predicted)\n",
    "    \n",
    "    # Define colors for the clusters\n",
    "    colors = ['#1f77b4', '#ff7f0e', '#2ca02c', '#d62728', '#9467bd', '#8c564b', '#e377c2', '#7f7f7f', '#bcbd22', '#17becf']\n",
    "\n",
    "    # Calculate the number of samples in each real cluster\n",
    "    n_samples = len(label_predicted)\n",
    "    real_cluster_sizes = [int(n_samples * dist) for dist in real_cluster_distribution]\n",
    "\n",
    "    # Plot the clusters\n",
    "    plt.figure(figsize=(8, 5))\n",
    "\n",
    "    start_idx = 0  # To keep track of the start index of each real cluster\n",
    "    for i, size in enumerate(real_cluster_sizes):\n",
    "        end_idx = start_idx + size  # Calculate the end index for this real cluster\n",
    "        color = colors[i % len(colors)]  # Determine the color for this real cluster\n",
    "\n",
    "        # Scatter plot for points belonging to this real cluster\n",
    "        for j in range(start_idx, end_idx):\n",
    "            plt.scatter(label_predicted_pca[j, 0], label_predicted_pca[j, 1], c=color, s=50, label=f'Group {i+1}' if j == start_idx else \"\")\n",
    "\n",
    "        start_idx = end_idx  # Update the start index for the next real cluster\n",
    "    \n",
    "    # Remove duplicate labels in legend\n",
    "    handles, labels = plt.gca().get_legend_handles_labels()\n",
    "    by_label = dict(zip(labels, handles))\n",
    "    plt.legend(by_label.values(), by_label.keys(), fontsize='xx-large')\n",
    "\n",
    "    # Remove x and y ticks\n",
    "    plt.xticks([])\n",
    "    plt.yticks([])\n",
    "\n",
    "    # Save the figure with narrow margins\n",
    "    plt.subplots_adjust(left=0.01, right=0.99, top=0.99, bottom=0.01)\n",
    "    current_time = datetime.now().strftime('%Y%m%d%H%M%S')\n",
    "    plt.savefig(f'Figures/cluster_visualization_{current_time}.png', dpi=300, format='png')\n",
    "\n",
    "    \n",
    "    plt.show()\n",
    "\n",
    "\n",
    "\n",
    "#     # Print the real cluster distribution\n",
    "#     print(\"Real cluster distribution:\", real_cluster_distribution)\n",
    "\n",
    "#     # Calculate and print each client's cluster identity based on the real_cluster_distribution\n",
    "#     n_clients = len(label_predicted)\n",
    "#     cumulative_distribution = [0] + [sum(real_cluster_distribution[:i+1]) for i in range(len(real_cluster_distribution))]\n",
    "#     client_cluster_id_real = [next((i for i, val in enumerate(cumulative_distribution) if val > client_idx / n_clients), -1) - 1 for client_idx in range(n_clients)]\n",
    "\n",
    "#     print(\"Real cluster identity for each client:\", client_cluster_id_real)\n",
    "\n",
    "#     # Print each client's cluster identity based on the clusters argument\n",
    "#     client_cluster_id_predicted = [next((i for i, cluster in enumerate(clusters) if client_idx in cluster), -1) for client_idx in range(n_clients)]\n",
    "#     print(\"Predicted cluster identity for each client:\", client_cluster_id_predicted)\n",
    "\n",
    "\n",
    "\n",
    "\n",
    "def test_acc(server, clients, cluster_distribution):\n",
    "    \n",
    "    # Get individual client accuracies\n",
    "    acc_clients = [client.evaluate() for client in clients]\n",
    "\n",
    "    # Compute the average accuracy for each client\n",
    "    client_acc = round(sum(acc_clients) / len(acc_clients), 3) if len(acc_clients) > 0 else 0\n",
    "\n",
    "    # Compute cluster accuracies for this iteration\n",
    "    cluster_accs_iteration = []\n",
    "    start_idx = 0\n",
    "    for distribution in cluster_distribution:\n",
    "        end_idx = start_idx + int(distribution * len(clients))\n",
    "        cluster_acc = round(sum(acc_clients[start_idx:end_idx]) / (end_idx - start_idx) + 0.000001, 3)\n",
    "        cluster_accs_iteration.append(cluster_acc)\n",
    "        start_idx = end_idx\n",
    "\n",
    "    # Compute global accuracy for this iteration\n",
    "    accuracies = [server.evaluate_distil(client.classifier) for client in clients]\n",
    "    global_acc = round(np.mean(accuracies), 3)\n",
    "    \n",
    "    return client_acc, cluster_accs_iteration, global_acc\n",
    "\n",
    "\n",
    "def get_global_logits(client_logits):\n",
    "    avg_logits = torch.mean(torch.stack(client_logits), dim=0)\n",
    "    return avg_logits\n",
    "\n",
    "# def get_cluster_logits(client_logits, cluster_idcs):\n",
    "#     cluster_logits = []\n",
    "#     for i, cluster in enumerate(cluster_idcs):\n",
    "#         cluster_client_logits = [client_logits[i] for i in cluster]\n",
    "#         avg_cluster_logits = torch.mean(torch.stack(cluster_client_logits), dim=0)\n",
    "#         cluster_logits.append(avg_cluster_logits)\n",
    "#     return cluster_logits\n",
    "\n",
    "\n",
    "def get_cluster_averages(df, cluster_idcs):\n",
    "    cluster_averages = {}\n",
    "\n",
    "    for i, cluster in enumerate(cluster_idcs):\n",
    "        cluster_data = df.loc[cluster, :]\n",
    "        cluster_average = cluster_data.mean()\n",
    "        cluster_averages[i] = cluster_average\n",
    "\n",
    "    cluster_averages_df = pd.DataFrame(cluster_averages).T\n",
    "\n",
    "    # calculate percentage for each value in a row\n",
    "    cluster_percentages_df = cluster_averages_df.div(cluster_averages_df.sum(axis=1), axis=0).multiply(100)\n",
    "\n",
    "    # apply threshold and rounding\n",
    "    cluster_percentages_df = cluster_percentages_df.where(cluster_percentages_df >= 5, 0).round()\n",
    "\n",
    "    return cluster_percentages_df / 10\n",
    "\n",
    "def compute_accuracy(global_logits, data_targets, server_idcs):\n",
    "    \"\"\"\n",
    "    Compute accuracy of predictions based on global logits.\n",
    "\n",
    "    Args:\n",
    "    - global_logits (list of Tensors): Each Tensor represents the logits for a data instance, \n",
    "                                       and its size is the number of classes.\n",
    "    - data_targets (list of ints): List of true labels for all data.\n",
    "    - server_idcs (list of ints): Indices of data instances we're interested in.\n",
    "\n",
    "    Returns:\n",
    "    - accuracy (float): Computed accuracy.\n",
    "    \"\"\"\n",
    "    true_labels = [data_targets[i] for i in server_idcs]\n",
    "    \n",
    "    correct_predictions = 0\n",
    "    total_predictions = len(true_labels)\n",
    "\n",
    "    for logits, label in zip(global_logits, true_labels):\n",
    "        predicted_label = np.argmax(logits.cpu().numpy())  # Convert Tensor to numpy and get index of max value\n",
    "        if predicted_label == label:\n",
    "            correct_predictions += 1\n",
    "\n",
    "    accuracy = correct_predictions / total_predictions\n",
    "    return accuracy\n",
    "\n",
    "\n",
    "def save_tensor_to_csv(tensor, filename):\n",
    "    # Convert tensor to numpy array\n",
    "    array = tensor.cpu().detach().numpy()\n",
    "    \n",
    "    # Save numpy array to CSV file\n",
    "    np.savetxt(filename, array, delimiter=\",\")\n",
    "\n",
    "# def get_cluster_weights(cluster_logits, cluster_weight_per_class):\n",
    "#     # Step 1: Find the class with the maximum value in each logit in cluster_logits\n",
    "#     # Assuming the dimension for classes is the second one\n",
    "#     max_classes = [torch.argmax(logit, dim=1) for logit in cluster_logits]\n",
    "    \n",
    "#     print(max_classes)\n",
    "#     cluster_weights = []\n",
    "#     #c luster별로 \n",
    "#     for i, iogits in enumerate(cluster_logits):\n",
    "#         weights = []\n",
    "#         for j, logit in enumerate(logits):\n",
    "            \n",
    "#             # print(f'max_classes: {max_classes[i][j]}')\n",
    "#             # print(\"Shape of cluster_weight_per_class[{}]: \".format(i), cluster_weight_per_class[i].shape)\n",
    "#             weights.append(max_classes[i][j])\n",
    "#         print(weights)\n",
    "#         cluster_weights.append(weights)\n"
   ]
  },
  {
   "cell_type": "code",
   "execution_count": 4,
   "metadata": {
    "execution": {
     "iopub.execute_input": "2023-09-09T02:45:32.435920Z",
     "iopub.status.busy": "2023-09-09T02:45:32.435580Z",
     "iopub.status.idle": "2023-09-09T02:45:32.447756Z",
     "shell.execute_reply": "2023-09-09T02:45:32.447185Z",
     "shell.execute_reply.started": "2023-09-09T02:45:32.435894Z"
    },
    "tags": []
   },
   "outputs": [],
   "source": [
    "def BC_experiments(total_client_data, distill_data, alpha, number_of_cluster, cluster_distribution):\n",
    "    print(f'number_of_cluster: {number_of_cluster}')\n",
    "    data_per_class=int(distill_data//10)\n",
    "    train_idcs, test_idcs = idcs[:total_client_data], idcs[total_client_data:(total_client_data + int(distill_data * 2))]\n",
    "    train_labels = data.targets\n",
    "    test_labels = data.targets\n",
    "    \n",
    "    server_idcs = generate_server_idcs(test_idcs, test_labels, int(distill_data//10))\n",
    "\n",
    "    # client_idcs = split_noniid(train_idcs, train_labels, alpha=alpha, n_clients=N_CLIENTS)\n",
    "    client_idcs, major_class_per_client = split_7plus3class_unbalanced(train_idcs, train_labels, N_CLIENTS, cluster_distribution)\n",
    "    \n",
    "    client_data = [CustomSubset(data, idcs) for idcs in client_idcs]\n",
    "    test_data = CustomSubset(data, server_idcs, transforms.Compose([transforms.ToTensor()]))\n",
    "\n",
    "    for i, client_datum in enumerate(client_data):\n",
    "        client_datum.subset_transform = transforms.Compose([transforms.ToTensor()])\n",
    "\n",
    "    server = Server(ConvNet, lambda x : torch.optim.Adam(x, weight_decay=0.1),test_data)\n",
    "\n",
    "    clients = [Client(Representation, dat, major_class_per_client[i], i) \n",
    "           for i, dat in enumerate(client_data) if len(dat) > 20]\n",
    "    \n",
    "    print(f'client count: {len(clients)}')\n",
    "\n",
    "    client_accs = []\n",
    "    cluster_accs = []\n",
    "    global_accs = []\n",
    "    client_logits = []\n",
    "    \n",
    "    # For Fast experiment\n",
    "    \n",
    "    # 1. Classifier\n",
    "    # for i, client in enumerate(clients):\n",
    "    #     Total_data = CustomSubset(data, np.concatenate((server_idcs, client_idcs[i])), transforms.Compose([transforms.ToTensor()]))\n",
    "    #     model = client.learn_representation(Total_data, client.model)\n",
    "\n",
    "\n",
    "    print('train classifier')\n",
    "    \n",
    "    \n",
    "    for i, client in enumerate(clients):\n",
    "        client.classifier = Ten_class_classifier(client.model).to(device)\n",
    "        client.train_binary_classifier(lr = 1e-3)\n",
    "        client.train_classifier(lr = 1e-3)\n",
    "\n",
    "    client_accs, cluster_accs, global_accs = test_acc(server, clients, cluster_distribution)\n",
    "    print(f'client_acc: {client_accs[-1]}, cluster_acc: {cluster_distribution}: {cluster_accs[-1]},  global_acc: {global_accs[-1]}')\n",
    "    \n",
    "    print('get_global_logit')\n",
    "    print(\"\")\n",
    "    \n",
    "    # 2. get client loigt\n",
    "    for i, client in enumerate(clients):\n",
    "        client_logit = server.get_clients_logit_simclr(client.binary_classifier, client.classifier, client.major_class)\n",
    "        client_logits.append(client_logit)\n",
    "    \n",
    "\n",
    "    # 3. make global logit\n",
    "    global_logits = server.get_global_logits(client_logits)\n",
    "    accuracy = compute_accuracy(global_logits, test_labels, server_idcs)\n",
    "    \n",
    "    print(f\"Global Logit's Accuracy: {accuracy * 100:.2f}%\")\n",
    "    \n",
    "    cluster_logits,  cluster_idcs = server.get_cluster_logits(client_logits, number_of_cluster, t)\n",
    "    clustering_acc = server.evaluate_clustering(cluster_distribution, cluster_idcs)\n",
    "    print(f'clustering_acc: {clustering_acc}')\n",
    "\n",
    "    \n",
    "    distill_loaders = []\n",
    "    \n",
    "    for cluster_logit in cluster_logits:\n",
    "        distill_loader = server.create_distill_loader(data, server_idcs, cluster_logit)\n",
    "        distill_loaders.append(distill_loader)\n",
    "        \n",
    "    # 4.Distillation\n",
    "    for i, client in enumerate(clients):\n",
    "        if i % 10 == 0:\n",
    "            print(f'client {i} distill')\n",
    "        \n",
    "        cluster_idx = next(j for j, cluster in enumerate(cluster_idcs) if i in cluster)\n",
    "   \n",
    "    \n",
    "        client.distill((distill_loaders[cluster_idx]))\n",
    "    \n",
    "    client_accs, cluster_accs, global_accs = test_acc(server, clients, client_accs, cluster_accs, global_accs, cluster_distribution)\n",
    "    \n",
    "    print(f'total_client_data: {total_client_data}, cluster_distribution: {cluster_distribution}')\n",
    "    print(f'acc before distill: {client_accs[-2]}, {cluster_accs[-2]}, {global_accs[-2]}')\n",
    "    print(f'last acc: {client_accs[-1]}, {cluster_accs[-1]}, {global_accs[-1]}')\n",
    "    return client_accs, cluster_accs, global_accs"
   ]
  },
  {
   "cell_type": "code",
   "execution_count": 5,
   "metadata": {
    "execution": {
     "iopub.execute_input": "2023-09-09T02:45:32.448615Z",
     "iopub.status.busy": "2023-09-09T02:45:32.448492Z",
     "iopub.status.idle": "2023-09-09T02:45:32.450572Z",
     "shell.execute_reply": "2023-09-09T02:45:32.450246Z",
     "shell.execute_reply.started": "2023-09-09T02:45:32.448604Z"
    },
    "tags": []
   },
   "outputs": [],
   "source": [
    "# client_accs, cluster_accs, global_accs = SimCLR_distill_experiments(50000, 5000, 1, 3, [1/3, 1/3, 1/3])\n"
   ]
  },
  {
   "cell_type": "code",
   "execution_count": 6,
   "metadata": {
    "execution": {
     "iopub.execute_input": "2023-09-09T02:45:32.451336Z",
     "iopub.status.busy": "2023-09-09T02:45:32.451030Z",
     "iopub.status.idle": "2023-09-09T02:45:32.459767Z",
     "shell.execute_reply": "2023-09-09T02:45:32.459434Z",
     "shell.execute_reply.started": "2023-09-09T02:45:32.451323Z"
    },
    "tags": []
   },
   "outputs": [],
   "source": [
    "def make_global_logit(n_clients, total_client_data, distill_data, number_of_cluster, cluster_distribution, instance_per_class, instance_per_minor_class, instances_per_class_per_client):\n",
    "    data_per_class=int(distill_data//10)\n",
    "    train_idcs, test_idcs = idcs[:total_client_data], idcs[total_client_data:(total_client_data + int(distill_data * 2))]\n",
    "    train_labels = data.targets\n",
    "    test_labels = data.targets\n",
    "    \n",
    "    server_idcs = generate_server_idcs(test_idcs, test_labels, int(distill_data//10))\n",
    "\n",
    "    client_idcs, _ = split_7plus3class_unbalanced(train_idcs, train_labels, n_clients, cluster_distribution, instance_per_class, instance_per_minor_class)\n",
    "    #client_idcs = split_contain_multiclass(train_idcs, train_labels, n_clients, instance_per_class, instances_per_class_per_client)\n",
    "    \n",
    "    client_data = [CustomSubset(data, idcs) for idcs in client_idcs]\n",
    "    test_data = CustomSubset(data, server_idcs, transforms.Compose([transforms.ToTensor()]))\n",
    "\n",
    "    for i, client_datum in enumerate(client_data):\n",
    "        client_datum.subset_transform = transforms.Compose([transforms.ToTensor()])\n",
    "\n",
    "    server = Server(ConvNet, lambda x : torch.optim.Adam(x),test_data)\n",
    "\n",
    "    clients = [Client(Representation, dat, i) \n",
    "           for i, dat in enumerate(client_data) if len(dat) > 20]\n",
    "    \n",
    "    # print(f'client count: {len(clients)}')\n",
    "\n",
    "    client_logits = []\n",
    "    \n",
    "        \n",
    "    # 1. Train classifier\n",
    "    for i, client in enumerate(clients):\n",
    "        client.classifier = Ten_class_classifier(client.model).to(device)\n",
    "        client.train_classifier(lr=1e-3)\n",
    "\n",
    "    client_acc, cluster_accs, global_acc = test_acc(server, clients, cluster_distribution)\n",
    "    \n",
    "    # 2. get client loigt\n",
    "    for i, client in enumerate(clients):\n",
    "        client_logits.append(server.get_clients_logit(client.classifier))\n",
    "\n",
    "    # 3. make global logit\n",
    "    global_logits = server.get_global_logits(client_logits)\n",
    "    accuracy = compute_accuracy(global_logits, test_labels, server_idcs)\n",
    "    \n",
    "    print(f\"Global Logit's Accuracy: {accuracy * 100:.2f}%\")\n",
    "    \n",
    "    return server, clients, client_logits, global_logits, number_of_cluster, server_idcs, cluster_distribution, client_acc, cluster_accs, global_acc\n",
    "\n",
    "def distill_with_cluster_logit(server, clients, client_logits, global_logits, number_of_cluster, server_idcs, cluster_distribution, t):\n",
    "    cluster_logits,  cluster_idcs, label_predicted = server.get_cluster_logits(client_logits, number_of_cluster, t)\n",
    "    visualize_clusters(label_predicted, cluster_distribution)\n",
    "    silhouette, ari = server.evaluate_clustering(label_predicted, cluster_distribution, cluster_idcs)\n",
    "    \n",
    "    print(f'silhouette: {silhouette}, ari: {ari}')\n",
    "\n",
    "    cluster_distill_loaders = []\n",
    "    \n",
    "    for cluster_logit in cluster_logits:\n",
    "        distill_loader = server.create_distill_loader(data, server_idcs, cluster_logit)\n",
    "        cluster_distill_loaders.append(distill_loader)\n",
    "        \n",
    "    for i, client in enumerate(clients):\n",
    "        if i % 10 == 0:\n",
    "            print(f'client {i} distill')\n",
    "        \n",
    "        cluster_idx = next(j for j, cluster in enumerate(cluster_idcs) if i in cluster)\n",
    "        \n",
    "        client.distill((cluster_distill_loaders[cluster_idx]))\n",
    "    \n",
    "    client_acc, cluster_accs, global_acc = test_acc(server, clients, cluster_distribution)\n",
    "    \n",
    "    return client_acc, cluster_accs, global_acc\n",
    "\n",
    "\n",
    "def get_cluster_acc(server, clients, client_logits, global_logits, number_of_cluster, server_idcs, cluster_distribution, t):\n",
    "    cluster_logits,  cluster_idcs, label_predicted = server.get_cluster_logits(client_logits, number_of_cluster, t)\n",
    "    visualize_clusters(label_predicted, cluster_distribution)\n",
    "    silhouette, ari = server.evaluate_clustering(label_predicted, cluster_distribution, cluster_idcs)\n",
    "    \n",
    "    print(f'silhouette: {silhouette}, ari: {ari}')\n",
    "    return silhouette, ari\n",
    "\n",
    "\n",
    "def distill_with_global_logit(server, clients, client_logits, global_logits, number_of_cluster, server_idcs, cluster_distribution):\n",
    "    distill_loader = server.create_distill_loader(data, server_idcs, global_logits)\n",
    "    \n",
    "    for i, client in enumerate(clients):\n",
    "        if i % 10 == 0:\n",
    "            print(f'client {i} distill')\n",
    "        client.distill(distill_loader)\n",
    "    \n",
    "    client_acc, cluster_accs, global_acc = test_acc(server, clients, cluster_distribution)\n",
    "    \n",
    "    return client_acc, cluster_accs, global_acc\n",
    "\n",
    "def copy_classifiers(clients):\n",
    "    classifiers_state = []\n",
    "    for client in clients:\n",
    "        classifier_state = client.classifier.state_dict()\n",
    "        classifiers_state.append(classifier_state)\n",
    "    return classifiers_state\n"
   ]
  },
  {
   "cell_type": "code",
   "execution_count": 7,
   "metadata": {
    "execution": {
     "iopub.execute_input": "2023-09-09T02:45:32.461710Z",
     "iopub.status.busy": "2023-09-09T02:45:32.461422Z",
     "iopub.status.idle": "2023-09-09T02:45:32.470920Z",
     "shell.execute_reply": "2023-09-09T02:45:32.470532Z",
     "shell.execute_reply.started": "2023-09-09T02:45:32.461697Z"
    }
   },
   "outputs": [],
   "source": [
    "def cluster_train_result_exp(n_clients, total_client_data, distill_data, number_of_cluster, cluster_distribution, instance_per_class, instances_per_class_per_client, t):\n",
    "   \n",
    "    client_accs = []\n",
    "    cluster_accs = []\n",
    "    global_accs = []\n",
    "    \n",
    "    (\n",
    "        server, clients, client_logits, global_logits,\n",
    "        number_of_cluster, server_idcs, cluster_distribution,\n",
    "        new_client_acc, new_cluster_accs, new_global_acc\n",
    "    ) = make_global_logit(\n",
    "        n_clients, total_client_data, distill_data,\n",
    "        number_of_cluster, cluster_distribution,\n",
    "        instance_per_class, instances_per_class_per_client\n",
    "    )\n",
    "\n",
    "    \n",
    "    print(f'acc before distill: {new_client_acc}, {new_cluster_accs}, {new_global_acc}')\n",
    "    client_accs.append(new_client_acc)\n",
    "    cluster_accs.append(new_cluster_accs)\n",
    "    global_accs.append(new_global_acc)\n",
    "\n",
    "    classifiers_state = copy_classifiers(clients)\n",
    "    \n",
    "    new_client_acc, new_cluster_accs, new_global_acc = distill_with_cluster_logit(server, clients, client_logits, global_logits, number_of_cluster, server_idcs, cluster_distribution, t)\n",
    "    \n",
    "    \n",
    "    for i, client in enumerate(clients):\n",
    "        client.classifier.load_state_dict(classifiers_state[i])\n",
    "    \n",
    "    client_accs.append(new_client_acc)\n",
    "    cluster_accs.append(new_cluster_accs)\n",
    "    global_accs.append(new_global_acc)\n",
    "    \n",
    "    new_client_acc, new_cluster_accs, new_global_acc = distill_with_global_logit(server, clients, client_logits, global_logits, number_of_cluster, server_idcs, cluster_distribution)\n",
    "   \n",
    "    \n",
    "    client_accs.append(new_client_acc)\n",
    "    cluster_accs.append(new_cluster_accs)\n",
    "    global_accs.append(new_global_acc)\n",
    "    \n",
    "    print(f'acc after global distill: {client_accs[1]}, {cluster_accs[1]}, {global_accs[1]}')\n",
    "    print(f'acc after cluster distill: {client_accs[-1]}, {cluster_accs[-1]}, {global_accs[-1]}')\n",
    "    return client_accs, cluster_accs, global_accs\n",
    "\n",
    "def clustering_exp(n_clients, total_client_data, distill_data, number_of_cluster, cluster_distribution, instance_per_class, instance_per_minor_class, instances_per_class_per_client, t):\n",
    "   \n",
    "    client_accs = []\n",
    "    cluster_accs = []\n",
    "    global_accs = []\n",
    "    \n",
    "    (\n",
    "        server, clients, client_logits, global_logits,\n",
    "        number_of_cluster, server_idcs, cluster_distribution,\n",
    "        new_client_acc, new_cluster_accs, new_global_acc\n",
    "    ) = make_global_logit(\n",
    "        n_clients, total_client_data, distill_data,\n",
    "        number_of_cluster, cluster_distribution,\n",
    "        instance_per_class, instance_per_minor_class, instances_per_class_per_client\n",
    "    )\n",
    "\n",
    "    \n",
    "    print(f'acc before distill: {new_client_acc}, {new_cluster_accs}, {new_global_acc}')\n",
    "    client_accs.append(new_client_acc)\n",
    "    cluster_accs.append(new_cluster_accs)\n",
    "    global_accs.append(new_global_acc)\n",
    "\n",
    "    classifiers_state = copy_classifiers(clients)\n",
    "    \n",
    "    sil, ari = get_cluster_acc(server, clients, client_logits, global_logits, number_of_cluster, server_idcs, cluster_distribution, t)\n",
    "    return sil, ari\n",
    "\n",
    "\n",
    "def get_combination(array_length, class_per_cluster):\n",
    "    if class_per_cluster == 1:\n",
    "        combinations = [[0], [1], [2], [3], [4], [5], [6], [7], [8], [9]]\n",
    "    elif class_per_cluster == 2:\n",
    "        combinations = [[0,1], [2,3], [4,5], [6,7], [8,9], [0,5], [1,6], [2,7], [3,8], [4,9], [0,3], [1,4], [2,5], [6,8], [7,9], [0,4], [1,5], [2,9], [3,7], [8,6]]\n",
    "    elif class_per_cluster == 3:\n",
    "        combinations = [[0,1,2], [3,4,5], [6,7,8], [9,0,1], [2,3,4], [5,6,7], [8,9,0], [1,2,3], [4,5,6], [7,8,9]]\n",
    "    elif class_per_cluster == 4:\n",
    "        combinations = [[0,1,2,3],[4,5,6,7],[8,9,0,1],[2,3,4,5],[6,7,8,9],[2,4,6,8],[1,3,5,9],[0,3,6,9],[1,4,7,0],[2,5,8,1]]\n",
    "    elif class_per_cluster == 5:\n",
    "        combinations = [[0,1,2,3,4],[4,5,6,7,8],[8,9,0,1,2],[2,3,4,5,6],[6,7,8,9,0],[2,4,6,8,0],[1,3,5,7,9],[0,2,3,6,9],[1,4,6,7,0],[2,5,6,8,1]]\n",
    "    else:\n",
    "        return \"Invalid class_per_cluster\"\n",
    "    \n",
    "    return combinations[:array_length]\n"
   ]
  },
  {
   "cell_type": "code",
   "execution_count": 34,
   "metadata": {
    "execution": {
     "iopub.execute_input": "2023-09-09T03:19:50.209859Z",
     "iopub.status.busy": "2023-09-09T03:19:50.209729Z",
     "iopub.status.idle": "2023-09-09T03:19:50.215664Z",
     "shell.execute_reply": "2023-09-09T03:19:50.215088Z",
     "shell.execute_reply.started": "2023-09-09T03:19:50.209847Z"
    },
    "tags": []
   },
   "outputs": [],
   "source": [
    "def model_clustering_exp(n_clients, total_client_data, distill_data, number_of_cluster, cluster_distribution, instance_per_class, instances_per_class_per_client):\n",
    "    print(f'number_of_cluster: {number_of_cluster}')\n",
    "    data_per_class=int(distill_data//10)\n",
    "    train_idcs, test_idcs = idcs[:total_client_data], idcs[total_client_data:(total_client_data + int(distill_data * 2))]\n",
    "    train_labels = data.targets\n",
    "    test_labels = data.targets\n",
    "    \n",
    "    server_idcs = generate_server_idcs(test_idcs, test_labels, int(distill_data//10))\n",
    "\n",
    "    # client_idcs = split_noniid(train_idcs, train_labels, alpha=alpha, n_clients=N_CLIENTS)\n",
    "    client_idcs = split_contain_multiclass(train_idcs, train_labels, n_clients, instance_per_class, instances_per_class_per_client)\n",
    "    \n",
    "    client_data = [CustomSubset(data, idcs) for idcs in client_idcs]\n",
    "    test_data = CustomSubset(data, server_idcs, transforms.Compose([transforms.ToTensor()]))\n",
    "\n",
    "    for i, client_datum in enumerate(client_data):\n",
    "        client_datum.subset_transform = transforms.Compose([transforms.ToTensor()])\n",
    "\n",
    "    server = Server(Representation, lambda x : torch.optim.Adam(x),test_data)\n",
    "\n",
    "    clients = [Client(Representation, dat, i) for i, dat in enumerate(client_data) if len(dat) > 20]\n",
    "    \n",
    "\n",
    "    # 1. Train classifier\n",
    "    for i, client in enumerate(clients):\n",
    "        client.train_classifier(lr=1e-3)\n",
    "\n",
    "    similarities = server.compute_pairwise_similarities(clients)\n",
    "    # print('similarities')\n",
    "    # print(type(similarities))\n",
    "    # print(similarities)\n",
    "    cluster_idcs = server.cluster_clients_KMeans(similarities, number_of_cluster)\n",
    "    \n",
    "    visualize_clusters(similarities, cluster_distribution)\n",
    "    silhouette, ari = server.evaluate_clustering(similarities, cluster_distribution, cluster_idcs)\n",
    "    print(f'silhouette: {silhouette}, ari: {ari}')\n",
    "    return silhouette, ari"
   ]
  },
  {
   "cell_type": "code",
   "execution_count": 35,
   "metadata": {
    "execution": {
     "iopub.execute_input": "2023-09-09T03:19:50.216741Z",
     "iopub.status.busy": "2023-09-09T03:19:50.216536Z",
     "iopub.status.idle": "2023-09-09T03:24:00.281571Z",
     "shell.execute_reply": "2023-09-09T03:24:00.280647Z",
     "shell.execute_reply.started": "2023-09-09T03:19:50.216727Z"
    },
    "tags": []
   },
   "outputs": [
    {
     "name": "stdout",
     "output_type": "stream",
     "text": [
      "number_of_cluster: 3\n"
     ]
    },
    {
     "data": {
      "image/png": "[encoded data removed]",
      "text/plain": [
       "<Figure size 800x500 with 1 Axes>"
      ]
     },
     "metadata": {},
     "output_type": "display_data"
    },
    {
     "name": "stdout",
     "output_type": "stream",
     "text": [
      "60\n",
      "60\n",
      "silhouette: 0.003828855697065592, ari: 0.026898502351892187\n",
      "number_of_cluster: 3\n"
     ]
    },
    {
     "data": {
      "image/png": "[encoded data removed]",
      "text/plain": [
       "<Figure size 800x500 with 1 Axes>"
      ]
     },
     "metadata": {},
     "output_type": "display_data"
    },
    {
     "name": "stdout",
     "output_type": "stream",
     "text": [
      "60\n",
      "60\n",
      "silhouette: 0.007565046660602093, ari: 0.051549399696165885\n",
      "number_of_cluster: 3\n"
     ]
    },
    {
     "data": {
      "image/png": "[encoded data removed]",
      "text/plain": [
       "<Figure size 800x500 with 1 Axes>"
      ]
     },
     "metadata": {},
     "output_type": "display_data"
    },
    {
     "name": "stdout",
     "output_type": "stream",
     "text": [
      "60\n",
      "60\n",
      "silhouette: 0.01586744748055935, ari: -0.01776520993563737\n",
      "number_of_cluster: 3\n"
     ]
    },
    {
     "data": {
      "image/png": "[encoded data removed]",
      "text/plain": [
       "<Figure size 800x500 with 1 Axes>"
      ]
     },
     "metadata": {},
     "output_type": "display_data"
    },
    {
     "name": "stdout",
     "output_type": "stream",
     "text": [
      "60\n",
      "60\n",
      "silhouette: 0.004213365726172924, ari: 0.02375229043497297\n"
     ]
    }
   ],
   "source": [
    "import pandas as pd\n",
    "\n",
    "# Initialize empty DataFrame to store results with simplified columns\n",
    "minor_class_ratios = [10, 20, 30, 40, 50]\n",
    "clustering_acc = pd.DataFrame(columns=['silhouette', 'ari'], index=minor_class_ratios)\n",
    "\n",
    "cluster_count = 3\n",
    "t = 3\n",
    "\n",
    "# instance_per_classes = [158, 150, 133, 117, 100, 84]\n",
    "# instance_per_minor_classes = [4, 7, 14, 21, 29, 36]\n",
    "\n",
    "instance_per_classes = [133, 117, 100, 84]\n",
    "instance_per_minor_classes = [7, 21, 29, 36]\n",
    "\n",
    "# instance_per_classes = [50, 50, 50]\n",
    "# instance_per_minor_classes = [2, 3, 4]\n",
    "# Iterate over different minor_class_ratios, instance_per_classes, and instance_per_minor_classes values\n",
    "for minor_class_ratio, instance_per_class, instance_per_minor_class in zip(minor_class_ratios, instance_per_classes, instance_per_minor_classes):\n",
    "    n_clients = cluster_count * 20\n",
    "    instances_per_class_per_client = get_combination(cluster_count, 3)\n",
    "    \n",
    "    # Replace with your actual clustering_exp function\n",
    "    # Assume it accepts t as a parameter\n",
    "    silhouette, ari = model_clustering_exp(\n",
    "        n_clients, 50000, 5000, cluster_count, [1/cluster_count] * cluster_count, instance_per_class,\n",
    "        instances_per_class_per_client\n",
    "    )\n",
    "    \n",
    "    # Update DataFrame\n",
    "    clustering_acc.loc[minor_class_ratio, 'silhouette'] = silhouette\n",
    "    clustering_acc.loc[minor_class_ratio, 'ari'] = ari\n"
   ]
  },
  {
   "cell_type": "code",
   "execution_count": 32,
   "metadata": {
    "execution": {
     "iopub.execute_input": "2023-09-09T03:12:04.874127Z",
     "iopub.status.busy": "2023-09-09T03:12:04.873665Z",
     "iopub.status.idle": "2023-09-09T03:12:04.901067Z",
     "shell.execute_reply": "2023-09-09T03:12:04.900445Z",
     "shell.execute_reply.started": "2023-09-09T03:12:04.874088Z"
    },
    "tags": []
   },
   "outputs": [
    {
     "data": {
      "text/html": [
       "<div>\n",
       "<style scoped>\n",
       "    .dataframe tbody tr th:only-of-type {\n",
       "        vertical-align: middle;\n",
       "    }\n",
       "\n",
       "    .dataframe tbody tr th {\n",
       "        vertical-align: top;\n",
       "    }\n",
       "\n",
       "    .dataframe thead tr th {\n",
       "        text-align: left;\n",
       "    }\n",
       "</style>\n",
       "<table border=\"1\" class=\"dataframe\">\n",
       "  <thead>\n",
       "    <tr>\n",
       "      <th></th>\n",
       "      <th>average_silhouette</th>\n",
       "      <th>ari_1</th>\n",
       "      <th>ari_15</th>\n",
       "      <th>ari_2</th>\n",
       "      <th>ari_25</th>\n",
       "      <th>ari_3</th>\n",
       "    </tr>\n",
       "    <tr>\n",
       "      <th></th>\n",
       "      <th></th>\n",
       "      <th></th>\n",
       "      <th></th>\n",
       "      <th></th>\n",
       "      <th></th>\n",
       "      <th></th>\n",
       "    </tr>\n",
       "  </thead>\n",
       "  <tbody>\n",
       "    <tr>\n",
       "      <th>10</th>\n",
       "      <td>0.871980</td>\n",
       "      <td>0.792079</td>\n",
       "      <td>0.792079</td>\n",
       "      <td>0.792079</td>\n",
       "      <td>0.792079</td>\n",
       "      <td>0.792079</td>\n",
       "    </tr>\n",
       "    <tr>\n",
       "      <th>20</th>\n",
       "      <td>0.688338</td>\n",
       "      <td>0.735879</td>\n",
       "      <td>0.792079</td>\n",
       "      <td>0.792079</td>\n",
       "      <td>0.792079</td>\n",
       "      <td>0.792079</td>\n",
       "    </tr>\n",
       "    <tr>\n",
       "      <th>30</th>\n",
       "      <td>0.592158</td>\n",
       "      <td>0.63261</td>\n",
       "      <td>0.792079</td>\n",
       "      <td>0.792079</td>\n",
       "      <td>0.792079</td>\n",
       "      <td>0.792079</td>\n",
       "    </tr>\n",
       "    <tr>\n",
       "      <th>40</th>\n",
       "      <td>0.489727</td>\n",
       "      <td>0.515188</td>\n",
       "      <td>0.792079</td>\n",
       "      <td>0.792079</td>\n",
       "      <td>0.792079</td>\n",
       "      <td>0.364769</td>\n",
       "    </tr>\n",
       "    <tr>\n",
       "      <th>50</th>\n",
       "      <td>0.368804</td>\n",
       "      <td>0.34464</td>\n",
       "      <td>0.792079</td>\n",
       "      <td>0.792079</td>\n",
       "      <td>0.792079</td>\n",
       "      <td>0.364769</td>\n",
       "    </tr>\n",
       "  </tbody>\n",
       "</table>\n",
       "</div>"
      ],
      "text/plain": [
       "   average_silhouette     ari_1    ari_15     ari_2    ari_25     ari_3\n",
       "                                                                       \n",
       "10           0.871980  0.792079  0.792079  0.792079  0.792079  0.792079\n",
       "20           0.688338  0.735879  0.792079  0.792079  0.792079  0.792079\n",
       "30           0.592158   0.63261  0.792079  0.792079  0.792079  0.792079\n",
       "40           0.489727  0.515188  0.792079  0.792079  0.792079  0.364769\n",
       "50           0.368804   0.34464  0.792079  0.792079  0.792079  0.364769"
      ]
     },
     "execution_count": 32,
     "metadata": {},
     "output_type": "execute_result"
    }
   ],
   "source": [
    "# Concatenate all DataFrames along the column axis\n",
    "all_dfs = [clustering_acc_1, clustering_acc_15, clustering_acc_2, clustering_acc_25, clustering_acc_3]\n",
    "concat_df = pd.concat(all_dfs, keys=['1', '15', '2', '25', '3'], axis=1)\n",
    "\n",
    "# Calculate the average for 'silhouette'\n",
    "average_silhouette = concat_df.xs('silhouette', axis=1, level=1).mean(axis=1)\n",
    "\n",
    "# Rename 'ari' columns based on keys and drop original 'ari' columns\n",
    "ari_df = pd.DataFrame()\n",
    "for key in ['1', '15', '2', '25', '3']:\n",
    "    ari_df[f'ari_{key}'] = concat_df[(key, 'ari')]\n",
    "\n",
    "# Drop the original 'ari' and 'silhouette' columns\n",
    "for key in ['1', '15', '2', '25', '3']:\n",
    "    del concat_df[(key, 'ari')]\n",
    "    del concat_df[(key, 'silhouette')]\n",
    "\n",
    "# Add the average silhouette value and renamed 'ari' columns to the DataFrame\n",
    "concat_df['average_silhouette', ''] = average_silhouette\n",
    "for col in ari_df.columns:\n",
    "    concat_df[col, ''] = ari_df[col]\n",
    "\n",
    "concat_df"
   ]
  },
  {
   "cell_type": "code",
   "execution_count": 27,
   "metadata": {
    "execution": {
     "iopub.execute_input": "2023-09-09T03:03:37.130570Z",
     "iopub.status.busy": "2023-09-09T03:03:37.130097Z",
     "iopub.status.idle": "2023-09-09T03:03:37.133674Z",
     "shell.execute_reply": "2023-09-09T03:03:37.132928Z",
     "shell.execute_reply.started": "2023-09-09T03:03:37.130549Z"
    }
   },
   "outputs": [],
   "source": [
    "clustering_acc_3  = clustering_acc"
   ]
  },
  {
   "cell_type": "code",
   "execution_count": 29,
   "metadata": {
    "execution": {
     "iopub.execute_input": "2023-09-09T03:03:49.511834Z",
     "iopub.status.busy": "2023-09-09T03:03:49.511180Z",
     "iopub.status.idle": "2023-09-09T03:03:49.521184Z",
     "shell.execute_reply": "2023-09-09T03:03:49.520815Z",
     "shell.execute_reply.started": "2023-09-09T03:03:49.511794Z"
    },
    "tags": []
   },
   "outputs": [
    {
     "data": {
      "text/html": [
       "<div>\n",
       "<style scoped>\n",
       "    .dataframe tbody tr th:only-of-type {\n",
       "        vertical-align: middle;\n",
       "    }\n",
       "\n",
       "    .dataframe tbody tr th {\n",
       "        vertical-align: top;\n",
       "    }\n",
       "\n",
       "    .dataframe thead th {\n",
       "        text-align: right;\n",
       "    }\n",
       "</style>\n",
       "<table border=\"1\" class=\"dataframe\">\n",
       "  <thead>\n",
       "    <tr style=\"text-align: right;\">\n",
       "      <th></th>\n",
       "      <th>silhouette</th>\n",
       "      <th>ari</th>\n",
       "    </tr>\n",
       "  </thead>\n",
       "  <tbody>\n",
       "    <tr>\n",
       "      <th>10</th>\n",
       "      <td>0.869423</td>\n",
       "      <td>0.792079</td>\n",
       "    </tr>\n",
       "    <tr>\n",
       "      <th>20</th>\n",
       "      <td>0.652026</td>\n",
       "      <td>0.792079</td>\n",
       "    </tr>\n",
       "    <tr>\n",
       "      <th>30</th>\n",
       "      <td>0.596141</td>\n",
       "      <td>0.792079</td>\n",
       "    </tr>\n",
       "    <tr>\n",
       "      <th>40</th>\n",
       "      <td>0.420051</td>\n",
       "      <td>0.364769</td>\n",
       "    </tr>\n",
       "    <tr>\n",
       "      <th>50</th>\n",
       "      <td>0.407865</td>\n",
       "      <td>0.364769</td>\n",
       "    </tr>\n",
       "  </tbody>\n",
       "</table>\n",
       "</div>"
      ],
      "text/plain": [
       "   silhouette       ari\n",
       "10   0.869423  0.792079\n",
       "20   0.652026  0.792079\n",
       "30   0.596141  0.792079\n",
       "40   0.420051  0.364769\n",
       "50   0.407865  0.364769"
      ]
     },
     "execution_count": 29,
     "metadata": {},
     "output_type": "execute_result"
    }
   ],
   "source": [
    "clustering_acc_3"
   ]
  },
  {
   "cell_type": "code",
   "execution_count": 25,
   "metadata": {
    "execution": {
     "iopub.execute_input": "2023-09-09T03:00:18.638458Z",
     "iopub.status.busy": "2023-09-09T03:00:18.638017Z",
     "iopub.status.idle": "2023-09-09T03:00:18.644713Z",
     "shell.execute_reply": "2023-09-09T03:00:18.644152Z",
     "shell.execute_reply.started": "2023-09-09T03:00:18.638437Z"
    }
   },
   "outputs": [
    {
     "data": {
      "text/html": [
       "<div>\n",
       "<style scoped>\n",
       "    .dataframe tbody tr th:only-of-type {\n",
       "        vertical-align: middle;\n",
       "    }\n",
       "\n",
       "    .dataframe tbody tr th {\n",
       "        vertical-align: top;\n",
       "    }\n",
       "\n",
       "    .dataframe thead th {\n",
       "        text-align: right;\n",
       "    }\n",
       "</style>\n",
       "<table border=\"1\" class=\"dataframe\">\n",
       "  <thead>\n",
       "    <tr style=\"text-align: right;\">\n",
       "      <th></th>\n",
       "      <th>silhouette</th>\n",
       "      <th>ari</th>\n",
       "    </tr>\n",
       "  </thead>\n",
       "  <tbody>\n",
       "    <tr>\n",
       "      <th>10</th>\n",
       "      <td>0.875505</td>\n",
       "      <td>0.792079</td>\n",
       "    </tr>\n",
       "    <tr>\n",
       "      <th>20</th>\n",
       "      <td>0.666739</td>\n",
       "      <td>0.792079</td>\n",
       "    </tr>\n",
       "    <tr>\n",
       "      <th>30</th>\n",
       "      <td>0.661675</td>\n",
       "      <td>0.792079</td>\n",
       "    </tr>\n",
       "    <tr>\n",
       "      <th>40</th>\n",
       "      <td>0.536449</td>\n",
       "      <td>0.792079</td>\n",
       "    </tr>\n",
       "    <tr>\n",
       "      <th>50</th>\n",
       "      <td>0.376338</td>\n",
       "      <td>0.792079</td>\n",
       "    </tr>\n",
       "  </tbody>\n",
       "</table>\n",
       "</div>"
      ],
      "text/plain": [
       "   silhouette       ari\n",
       "10   0.875505  0.792079\n",
       "20   0.666739  0.792079\n",
       "30   0.661675  0.792079\n",
       "40   0.536449  0.792079\n",
       "50   0.376338  0.792079"
      ]
     },
     "execution_count": 25,
     "metadata": {},
     "output_type": "execute_result"
    }
   ],
   "source": [
    "clustering_acc_25"
   ]
  },
  {
   "cell_type": "code",
   "execution_count": 22,
   "metadata": {
    "execution": {
     "iopub.execute_input": "2023-09-09T02:57:36.190331Z",
     "iopub.status.busy": "2023-09-09T02:57:36.190138Z",
     "iopub.status.idle": "2023-09-09T02:57:36.196754Z",
     "shell.execute_reply": "2023-09-09T02:57:36.196204Z",
     "shell.execute_reply.started": "2023-09-09T02:57:36.190312Z"
    }
   },
   "outputs": [
    {
     "data": {
      "text/html": [
       "<div>\n",
       "<style scoped>\n",
       "    .dataframe tbody tr th:only-of-type {\n",
       "        vertical-align: middle;\n",
       "    }\n",
       "\n",
       "    .dataframe tbody tr th {\n",
       "        vertical-align: top;\n",
       "    }\n",
       "\n",
       "    .dataframe thead th {\n",
       "        text-align: right;\n",
       "    }\n",
       "</style>\n",
       "<table border=\"1\" class=\"dataframe\">\n",
       "  <thead>\n",
       "    <tr style=\"text-align: right;\">\n",
       "      <th></th>\n",
       "      <th>silhouette</th>\n",
       "      <th>ari</th>\n",
       "    </tr>\n",
       "  </thead>\n",
       "  <tbody>\n",
       "    <tr>\n",
       "      <th>10</th>\n",
       "      <td>0.88463</td>\n",
       "      <td>0.792079</td>\n",
       "    </tr>\n",
       "    <tr>\n",
       "      <th>20</th>\n",
       "      <td>0.651658</td>\n",
       "      <td>0.792079</td>\n",
       "    </tr>\n",
       "    <tr>\n",
       "      <th>30</th>\n",
       "      <td>0.620193</td>\n",
       "      <td>0.792079</td>\n",
       "    </tr>\n",
       "    <tr>\n",
       "      <th>40</th>\n",
       "      <td>0.578526</td>\n",
       "      <td>0.792079</td>\n",
       "    </tr>\n",
       "    <tr>\n",
       "      <th>50</th>\n",
       "      <td>0.364684</td>\n",
       "      <td>0.792079</td>\n",
       "    </tr>\n",
       "  </tbody>\n",
       "</table>\n",
       "</div>"
      ],
      "text/plain": [
       "   silhouette       ari\n",
       "10    0.88463  0.792079\n",
       "20   0.651658  0.792079\n",
       "30   0.620193  0.792079\n",
       "40   0.578526  0.792079\n",
       "50   0.364684  0.792079"
      ]
     },
     "execution_count": 22,
     "metadata": {},
     "output_type": "execute_result"
    }
   ],
   "source": [
    "clustering_acc_2"
   ]
  },
  {
   "cell_type": "code",
   "execution_count": 18,
   "metadata": {
    "execution": {
     "iopub.execute_input": "2023-09-09T02:54:22.797468Z",
     "iopub.status.busy": "2023-09-09T02:54:22.797039Z",
     "iopub.status.idle": "2023-09-09T02:54:22.807869Z",
     "shell.execute_reply": "2023-09-09T02:54:22.807011Z",
     "shell.execute_reply.started": "2023-09-09T02:54:22.797432Z"
    }
   },
   "outputs": [
    {
     "data": {
      "text/html": [
       "<div>\n",
       "<style scoped>\n",
       "    .dataframe tbody tr th:only-of-type {\n",
       "        vertical-align: middle;\n",
       "    }\n",
       "\n",
       "    .dataframe tbody tr th {\n",
       "        vertical-align: top;\n",
       "    }\n",
       "\n",
       "    .dataframe thead th {\n",
       "        text-align: right;\n",
       "    }\n",
       "</style>\n",
       "<table border=\"1\" class=\"dataframe\">\n",
       "  <thead>\n",
       "    <tr style=\"text-align: right;\">\n",
       "      <th></th>\n",
       "      <th>silhouette</th>\n",
       "      <th>ari</th>\n",
       "    </tr>\n",
       "  </thead>\n",
       "  <tbody>\n",
       "    <tr>\n",
       "      <th>10</th>\n",
       "      <td>0.872745</td>\n",
       "      <td>0.792079</td>\n",
       "    </tr>\n",
       "    <tr>\n",
       "      <th>20</th>\n",
       "      <td>0.772352</td>\n",
       "      <td>0.792079</td>\n",
       "    </tr>\n",
       "    <tr>\n",
       "      <th>30</th>\n",
       "      <td>0.569483</td>\n",
       "      <td>0.792079</td>\n",
       "    </tr>\n",
       "    <tr>\n",
       "      <th>40</th>\n",
       "      <td>0.540505</td>\n",
       "      <td>0.792079</td>\n",
       "    </tr>\n",
       "    <tr>\n",
       "      <th>50</th>\n",
       "      <td>0.409676</td>\n",
       "      <td>0.792079</td>\n",
       "    </tr>\n",
       "  </tbody>\n",
       "</table>\n",
       "</div>"
      ],
      "text/plain": [
       "   silhouette       ari\n",
       "10   0.872745  0.792079\n",
       "20   0.772352  0.792079\n",
       "30   0.569483  0.792079\n",
       "40   0.540505  0.792079\n",
       "50   0.409676  0.792079"
      ]
     },
     "execution_count": 18,
     "metadata": {},
     "output_type": "execute_result"
    }
   ],
   "source": [
    "clustering_acc_15"
   ]
  },
  {
   "cell_type": "code",
   "execution_count": 19,
   "metadata": {
    "execution": {
     "iopub.execute_input": "2023-09-09T02:54:32.855261Z",
     "iopub.status.busy": "2023-09-09T02:54:32.854829Z",
     "iopub.status.idle": "2023-09-09T02:54:32.865671Z",
     "shell.execute_reply": "2023-09-09T02:54:32.864716Z",
     "shell.execute_reply.started": "2023-09-09T02:54:32.855227Z"
    }
   },
   "outputs": [
    {
     "data": {
      "text/html": [
       "<div>\n",
       "<style scoped>\n",
       "    .dataframe tbody tr th:only-of-type {\n",
       "        vertical-align: middle;\n",
       "    }\n",
       "\n",
       "    .dataframe tbody tr th {\n",
       "        vertical-align: top;\n",
       "    }\n",
       "\n",
       "    .dataframe thead th {\n",
       "        text-align: right;\n",
       "    }\n",
       "</style>\n",
       "<table border=\"1\" class=\"dataframe\">\n",
       "  <thead>\n",
       "    <tr style=\"text-align: right;\">\n",
       "      <th></th>\n",
       "      <th>silhouette</th>\n",
       "      <th>ari</th>\n",
       "    </tr>\n",
       "  </thead>\n",
       "  <tbody>\n",
       "    <tr>\n",
       "      <th>10</th>\n",
       "      <td>0.857598</td>\n",
       "      <td>0.792079</td>\n",
       "    </tr>\n",
       "    <tr>\n",
       "      <th>20</th>\n",
       "      <td>0.698915</td>\n",
       "      <td>0.735879</td>\n",
       "    </tr>\n",
       "    <tr>\n",
       "      <th>30</th>\n",
       "      <td>0.5133</td>\n",
       "      <td>0.63261</td>\n",
       "    </tr>\n",
       "    <tr>\n",
       "      <th>40</th>\n",
       "      <td>0.373106</td>\n",
       "      <td>0.515188</td>\n",
       "    </tr>\n",
       "    <tr>\n",
       "      <th>50</th>\n",
       "      <td>0.285455</td>\n",
       "      <td>0.34464</td>\n",
       "    </tr>\n",
       "  </tbody>\n",
       "</table>\n",
       "</div>"
      ],
      "text/plain": [
       "   silhouette       ari\n",
       "10   0.857598  0.792079\n",
       "20   0.698915  0.735879\n",
       "30     0.5133   0.63261\n",
       "40   0.373106  0.515188\n",
       "50   0.285455   0.34464"
      ]
     },
     "execution_count": 19,
     "metadata": {},
     "output_type": "execute_result"
    }
   ],
   "source": [
    "clustering_acc_1"
   ]
  },
  {
   "cell_type": "code",
   "execution_count": 14,
   "metadata": {
    "execution": {
     "iopub.execute_input": "2023-09-09T02:50:02.798030Z",
     "iopub.status.busy": "2023-09-09T02:50:02.797738Z",
     "iopub.status.idle": "2023-09-09T02:50:02.801503Z",
     "shell.execute_reply": "2023-09-09T02:50:02.800895Z",
     "shell.execute_reply.started": "2023-09-09T02:50:02.798011Z"
    },
    "tags": []
   },
   "outputs": [],
   "source": [
    "clustering_acc_1 = clustering_acc"
   ]
  },
  {
   "cell_type": "code",
   "execution_count": null,
   "metadata": {
    "execution": {
     "iopub.status.busy": "2023-09-09T03:11:45.098290Z",
     "iopub.status.idle": "2023-09-09T03:11:45.098446Z",
     "shell.execute_reply": "2023-09-09T03:11:45.098372Z",
     "shell.execute_reply.started": "2023-09-09T03:11:45.098364Z"
    }
   },
   "outputs": [],
   "source": [
    "instance_per_classes = [158, 150, 133, 117, 100, 84]\n",
    "instance_per_minor_classes = [4, 7, 14, 21, 29, 36]"
   ]
  },
  {
   "cell_type": "code",
   "execution_count": 11,
   "metadata": {
    "execution": {
     "iopub.execute_input": "2023-09-09T02:48:08.095750Z",
     "iopub.status.busy": "2023-09-09T02:48:08.095480Z",
     "iopub.status.idle": "2023-09-09T02:48:08.099832Z",
     "shell.execute_reply": "2023-09-09T02:48:08.099057Z",
     "shell.execute_reply.started": "2023-09-09T02:48:08.095730Z"
    },
    "tags": []
   },
   "outputs": [],
   "source": [
    "# # Initialize empty DataFrames to store results with multi-level columns\n",
    "# multi_col = pd.MultiIndex.from_product([range(1, 6), ['before_distill', 'global_distill', 'cluster_distill']], names=['class_per_cluster', 'Metric'])\n",
    "# df_client_accs = pd.DataFrame(columns=multi_col)\n",
    "# df_cluster_accs = pd.DataFrame(columns=multi_col)\n",
    "# df_global_accs = pd.DataFrame(columns=multi_col)\n",
    "\n",
    "# # Iterate over different cluster_count values\n",
    "# for cluster_count in [2, 4, 6, 8, 10]:\n",
    "#     # Iterate over different class_per_cluster values\n",
    "#     for class_per_cluster in range(1, 6):\n",
    "#         n_clients = cluster_count * 5\n",
    "#         instances_per_class_per_client = get_combination(cluster_count, class_per_cluster)\n",
    "#         print(instances_per_class_per_client)\n",
    "#         # Replace with your actual cluster_train_result_exp function\n",
    "#         client_accs, cluster_accs, global_accs = cluster_train_result_exp(\n",
    "#         n_clients, 50000, 5000, cluster_count, [1/cluster_count] * cluster_count, 50, instances_per_class_per_client, 2\n",
    "#     )     \n",
    "#         # Update DataFrame\n",
    "#         df_client_accs.loc[cluster_count, (class_per_cluster, 'before_distill')] = client_accs[0]\n",
    "#         df_client_accs.loc[cluster_count, (class_per_cluster, 'global_distill')] = client_accs[1]\n",
    "#         df_client_accs.loc[cluster_count, (class_per_cluster, 'cluster_distill')] = client_accs[2]\n",
    "\n",
    "#         df_cluster_accs.loc[cluster_count, (class_per_cluster, 'before_distill')] = cluster_accs[0]\n",
    "#         df_cluster_accs.loc[cluster_count, (class_per_cluster, 'global_distill')] = cluster_accs[1]\n",
    "#         df_cluster_accs.loc[cluster_count, (class_per_cluster, 'cluster_distill')] = cluster_accs[2]\n",
    "\n",
    "#         df_global_accs.loc[cluster_count, (class_per_cluster, 'before_distill')] = global_accs[0]\n",
    "#         df_global_accs.loc[cluster_count, (class_per_cluster, 'global_distill')] = global_accs[1]\n",
    "#         df_global_accs.loc[cluster_count, (class_per_cluster, 'cluster_distill')] = global_accs[2]"
   ]
  },
  {
   "cell_type": "code",
   "execution_count": 12,
   "metadata": {
    "execution": {
     "iopub.execute_input": "2023-09-09T02:48:08.100991Z",
     "iopub.status.busy": "2023-09-09T02:48:08.100733Z",
     "iopub.status.idle": "2023-09-09T02:48:08.106964Z",
     "shell.execute_reply": "2023-09-09T02:48:08.106491Z",
     "shell.execute_reply.started": "2023-09-09T02:48:08.100971Z"
    }
   },
   "outputs": [
    {
     "data": {
      "text/html": [
       "<div>\n",
       "<style scoped>\n",
       "    .dataframe tbody tr th:only-of-type {\n",
       "        vertical-align: middle;\n",
       "    }\n",
       "\n",
       "    .dataframe tbody tr th {\n",
       "        vertical-align: top;\n",
       "    }\n",
       "\n",
       "    .dataframe thead th {\n",
       "        text-align: right;\n",
       "    }\n",
       "</style>\n",
       "<table border=\"1\" class=\"dataframe\">\n",
       "  <thead>\n",
       "    <tr style=\"text-align: right;\">\n",
       "      <th></th>\n",
       "      <th>silhouette</th>\n",
       "      <th>ari</th>\n",
       "    </tr>\n",
       "  </thead>\n",
       "  <tbody>\n",
       "    <tr>\n",
       "      <th>10</th>\n",
       "      <td>0.857598</td>\n",
       "      <td>0.792079</td>\n",
       "    </tr>\n",
       "    <tr>\n",
       "      <th>20</th>\n",
       "      <td>0.698915</td>\n",
       "      <td>0.735879</td>\n",
       "    </tr>\n",
       "    <tr>\n",
       "      <th>30</th>\n",
       "      <td>0.5133</td>\n",
       "      <td>0.63261</td>\n",
       "    </tr>\n",
       "    <tr>\n",
       "      <th>40</th>\n",
       "      <td>0.373106</td>\n",
       "      <td>0.515188</td>\n",
       "    </tr>\n",
       "    <tr>\n",
       "      <th>50</th>\n",
       "      <td>0.285455</td>\n",
       "      <td>0.34464</td>\n",
       "    </tr>\n",
       "  </tbody>\n",
       "</table>\n",
       "</div>"
      ],
      "text/plain": [
       "   silhouette       ari\n",
       "10   0.857598  0.792079\n",
       "20   0.698915  0.735879\n",
       "30     0.5133   0.63261\n",
       "40   0.373106  0.515188\n",
       "50   0.285455   0.34464"
      ]
     },
     "execution_count": 12,
     "metadata": {},
     "output_type": "execute_result"
    }
   ],
   "source": [
    "clustering_acc"
   ]
  },
  {
   "cell_type": "code",
   "execution_count": 13,
   "metadata": {
    "execution": {
     "iopub.execute_input": "2023-09-09T02:48:08.107706Z",
     "iopub.status.busy": "2023-09-09T02:48:08.107546Z",
     "iopub.status.idle": "2023-09-09T02:48:08.268633Z",
     "shell.execute_reply": "2023-09-09T02:48:08.266036Z",
     "shell.execute_reply.started": "2023-09-09T02:48:08.107694Z"
    }
   },
   "outputs": [
    {
     "ename": "NameError",
     "evalue": "name 'df_client_accs' is not defined",
     "output_type": "error",
     "traceback": [
      "\u001b[0;31m---------------------------------------------------------------------------\u001b[0m",
      "\u001b[0;31mNameError\u001b[0m                                 Traceback (most recent call last)",
      "Cell \u001b[0;32mIn[13], line 3\u001b[0m\n\u001b[1;32m      1\u001b[0m \u001b[38;5;66;03m# Task 1: Rename columns 'new_cluster_distill' to 'global', and 'new_global_distill' to 'cluster'\u001b[39;00m\n\u001b[1;32m      2\u001b[0m rename_dict \u001b[38;5;241m=\u001b[39m {\u001b[38;5;124m'\u001b[39m\u001b[38;5;124mnew_cluster_distill\u001b[39m\u001b[38;5;124m'\u001b[39m: \u001b[38;5;124m'\u001b[39m\u001b[38;5;124mglobal\u001b[39m\u001b[38;5;124m'\u001b[39m, \u001b[38;5;124m'\u001b[39m\u001b[38;5;124mnew_global_distill\u001b[39m\u001b[38;5;124m'\u001b[39m: \u001b[38;5;124m'\u001b[39m\u001b[38;5;124mcluster\u001b[39m\u001b[38;5;124m'\u001b[39m}\n\u001b[0;32m----> 3\u001b[0m \u001b[43mdf_client_accs\u001b[49m\u001b[38;5;241m.\u001b[39mrename(columns\u001b[38;5;241m=\u001b[39mrename_dict, level\u001b[38;5;241m=\u001b[39m\u001b[38;5;124m'\u001b[39m\u001b[38;5;124mMetric\u001b[39m\u001b[38;5;124m'\u001b[39m, inplace\u001b[38;5;241m=\u001b[39m\u001b[38;5;28;01mTrue\u001b[39;00m)\n\u001b[1;32m      5\u001b[0m \u001b[38;5;66;03m# Calculate the average for each column and append it to the DataFrame\u001b[39;00m\n\u001b[1;32m      6\u001b[0m average_row \u001b[38;5;241m=\u001b[39m df_client_accs\u001b[38;5;241m.\u001b[39mmean()\n",
      "\u001b[0;31mNameError\u001b[0m: name 'df_client_accs' is not defined"
     ]
    }
   ],
   "source": [
    "# Task 1: Rename columns 'new_cluster_distill' to 'global', and 'new_global_distill' to 'cluster'\n",
    "rename_dict = {'new_cluster_distill': 'global', 'new_global_distill': 'cluster'}\n",
    "df_client_accs.rename(columns=rename_dict, level='Metric', inplace=True)\n",
    "\n",
    "# Calculate the average for each column and append it to the DataFrame\n",
    "average_row = df_client_accs.mean()\n",
    "df_client_accs.loc['Average'] = average_row\n",
    "\n",
    "print(df_client_accs)\n"
   ]
  },
  {
   "cell_type": "code",
   "execution_count": null,
   "metadata": {
    "execution": {
     "iopub.status.busy": "2023-09-09T02:48:08.269221Z",
     "iopub.status.idle": "2023-09-09T02:48:08.269405Z",
     "shell.execute_reply": "2023-09-09T02:48:08.269315Z",
     "shell.execute_reply.started": "2023-09-09T02:48:08.269306Z"
    }
   },
   "outputs": [],
   "source": [
    "df_client_accs"
   ]
  },
  {
   "cell_type": "code",
   "execution_count": null,
   "metadata": {
    "execution": {
     "iopub.status.busy": "2023-09-09T02:48:08.270191Z",
     "iopub.status.idle": "2023-09-09T02:48:08.270470Z",
     "shell.execute_reply": "2023-09-09T02:48:08.270393Z",
     "shell.execute_reply.started": "2023-09-09T02:48:08.270385Z"
    }
   },
   "outputs": [],
   "source": [
    "# Reorganize the columns to move 'diff' to the last position within each 'class_per_cluster'\n",
    "new_columns = []\n",
    "for class_cluster in df_client_accs.columns.levels[0].unique():\n",
    "    sub_columns = df_client_accs[class_cluster].columns.tolist()\n",
    "    if 'diff' in sub_columns:\n",
    "        sub_columns.remove('diff')\n",
    "        sub_columns.append('diff')\n",
    "    for col in sub_columns:\n",
    "        new_columns.append((class_cluster, col))\n",
    "\n",
    "df_client_accs = df_client_accs.reorder_levels(['class_per_cluster', 'Metric'], axis=1).sort_index(axis=1)\n",
    "df_client_accs = df_client_accs[new_columns]\n",
    "\n",
    "print(df_client_accs)\n"
   ]
  },
  {
   "cell_type": "code",
   "execution_count": null,
   "metadata": {
    "execution": {
     "iopub.status.busy": "2023-09-09T02:48:08.270843Z",
     "iopub.status.idle": "2023-09-09T02:48:08.271005Z",
     "shell.execute_reply": "2023-09-09T02:48:08.270928Z",
     "shell.execute_reply.started": "2023-09-09T02:48:08.270921Z"
    }
   },
   "outputs": [],
   "source": [
    "df_client_accs"
   ]
  },
  {
   "cell_type": "code",
   "execution_count": null,
   "metadata": {
    "execution": {
     "iopub.status.busy": "2023-09-09T02:48:08.271606Z",
     "iopub.status.idle": "2023-09-09T02:48:08.271763Z",
     "shell.execute_reply": "2023-09-09T02:48:08.271691Z",
     "shell.execute_reply.started": "2023-09-09T02:48:08.271683Z"
    },
    "tags": []
   },
   "outputs": [],
   "source": [
    "# # Initialize empty DataFrames to store results with multi-level columns\n",
    "# multi_col = pd.MultiIndex.from_product([range(2, 6), ['before_distill', 'global_distill', 'cluster_distill']], names=['class_per_cluster', 'Metric'])\n",
    "# df_client_accs = pd.DataFrame(columns=multi_col)\n",
    "# df_cluster_accs = pd.DataFrame(columns=multi_col)\n",
    "# df_global_accs = pd.DataFrame(columns=multi_col)\n",
    "\n",
    "# # Iterate over different cluster_count values\n",
    "# for cluster_count in [2, 4, 6, 8, 10]:\n",
    "#     # Iterate over different class_per_cluster values\n",
    "#     for class_per_cluster in range(2, 6):\n",
    "#         n_clients = cluster_count * 3\n",
    "#         instances_per_class_per_client = get_combination(cluster_count, class_per_cluster)\n",
    "#         print(instances_per_class_per_client)\n",
    "#         # Replace with your actual cluster_train_result_exp function\n",
    "#         client_accs, cluster_accs, global_accs = cluster_train_result_exp(\n",
    "#         n_clients, 50000, 5000, cluster_count, [1/cluster_count] * cluster_count, 50, instances_per_class_per_client\n",
    "#     )     \n",
    "#         # Update DataFrame\n",
    "#         df_client_accs.loc[cluster_count, (class_per_cluster, 'before_distill')] = client_accs[0]\n",
    "#         df_client_accs.loc[cluster_count, (class_per_cluster, 'global_distill')] = client_accs[2]\n",
    "#         df_client_accs.loc[cluster_count, (class_per_cluster, 'cluster_distill')] = client_accs[1]\n",
    "\n",
    "#         df_cluster_accs.loc[cluster_count, (class_per_cluster, 'before_distill')] = cluster_accs[0]\n",
    "#         df_cluster_accs.loc[cluster_count, (class_per_cluster, 'global_distill')] = cluster_accs[2]\n",
    "#         df_cluster_accs.loc[cluster_count, (class_per_cluster, 'cluster_distill')] = cluster_accs[1]\n",
    "\n",
    "#         df_global_accs.loc[cluster_count, (class_per_cluster, 'before_distill')] = global_accs[0]\n",
    "#         df_global_accs.loc[cluster_count, (class_per_cluster, 'global_distill')] = global_accs[2]\n",
    "#         df_global_accs.loc[cluster_count, (class_per_cluster, 'cluster_distill')] = global_accs[1]"
   ]
  },
  {
   "cell_type": "code",
   "execution_count": null,
   "metadata": {
    "execution": {
     "iopub.status.busy": "2023-09-09T02:48:08.272392Z",
     "iopub.status.idle": "2023-09-09T02:48:08.272545Z",
     "shell.execute_reply": "2023-09-09T02:48:08.272473Z",
     "shell.execute_reply.started": "2023-09-09T02:48:08.272465Z"
    },
    "tags": []
   },
   "outputs": [],
   "source": [
    "clustering_acc"
   ]
  },
  {
   "cell_type": "code",
   "execution_count": null,
   "metadata": {
    "execution": {
     "iopub.status.busy": "2023-09-09T02:48:08.273340Z",
     "iopub.status.idle": "2023-09-09T02:48:08.273624Z",
     "shell.execute_reply": "2023-09-09T02:48:08.273544Z",
     "shell.execute_reply.started": "2023-09-09T02:48:08.273535Z"
    }
   },
   "outputs": [],
   "source": [
    "clustering_acc.style.to_latex()"
   ]
  },
  {
   "cell_type": "code",
   "execution_count": null,
   "metadata": {
    "execution": {
     "iopub.status.busy": "2023-09-09T02:48:08.274103Z",
     "iopub.status.idle": "2023-09-09T02:48:08.274261Z",
     "shell.execute_reply": "2023-09-09T02:48:08.274187Z",
     "shell.execute_reply.started": "2023-09-09T02:48:08.274180Z"
    },
    "tags": []
   },
   "outputs": [],
   "source": [
    "pd.read_csv('results/Second Experiment/filtered')"
   ]
  },
  {
   "cell_type": "code",
   "execution_count": null,
   "metadata": {
    "execution": {
     "iopub.status.busy": "2023-09-09T02:48:08.274768Z",
     "iopub.status.idle": "2023-09-09T02:48:08.274920Z",
     "shell.execute_reply": "2023-09-09T02:48:08.274849Z",
     "shell.execute_reply.started": "2023-09-09T02:48:08.274841Z"
    }
   },
   "outputs": [],
   "source": [
    "model_clustering_acc"
   ]
  },
  {
   "cell_type": "code",
   "execution_count": null,
   "metadata": {
    "execution": {
     "iopub.status.busy": "2023-09-09T02:48:08.275462Z",
     "iopub.status.idle": "2023-09-09T02:48:08.275618Z",
     "shell.execute_reply": "2023-09-09T02:48:08.275545Z",
     "shell.execute_reply.started": "2023-09-09T02:48:08.275537Z"
    },
    "tags": []
   },
   "outputs": [],
   "source": [
    "l = model_clustering_acc.style.to_latex()"
   ]
  },
  {
   "cell_type": "code",
   "execution_count": null,
   "metadata": {
    "execution": {
     "iopub.status.busy": "2023-09-09T02:48:08.276116Z",
     "iopub.status.idle": "2023-09-09T02:48:08.276268Z",
     "shell.execute_reply": "2023-09-09T02:48:08.276198Z",
     "shell.execute_reply.started": "2023-09-09T02:48:08.276190Z"
    }
   },
   "outputs": [],
   "source": [
    "l"
   ]
  },
  {
   "cell_type": "code",
   "execution_count": null,
   "metadata": {
    "execution": {
     "iopub.status.busy": "2023-09-09T02:48:08.276975Z",
     "iopub.status.idle": "2023-09-09T02:48:08.277138Z",
     "shell.execute_reply": "2023-09-09T02:48:08.277058Z",
     "shell.execute_reply.started": "2023-09-09T02:48:08.277051Z"
    },
    "tags": []
   },
   "outputs": [],
   "source": [
    "pd.read_csv('./results/clustering_exp_ours')"
   ]
  },
  {
   "cell_type": "code",
   "execution_count": null,
   "metadata": {
    "execution": {
     "iopub.status.busy": "2023-09-09T02:48:08.277877Z",
     "iopub.status.idle": "2023-09-09T02:48:08.278133Z",
     "shell.execute_reply": "2023-09-09T02:48:08.278012Z",
     "shell.execute_reply.started": "2023-09-09T02:48:08.278000Z"
    },
    "tags": []
   },
   "outputs": [],
   "source": [
    "df_client_accs"
   ]
  },
  {
   "cell_type": "code",
   "execution_count": null,
   "metadata": {
    "execution": {
     "iopub.status.busy": "2023-09-09T02:48:08.279948Z",
     "iopub.status.idle": "2023-09-09T02:48:08.280218Z",
     "shell.execute_reply": "2023-09-09T02:48:08.280095Z",
     "shell.execute_reply.started": "2023-09-09T02:48:08.280083Z"
    },
    "tags": []
   },
   "outputs": [],
   "source": [
    "filtered_df = df_client_accs.iloc[:,3:]"
   ]
  },
  {
   "cell_type": "code",
   "execution_count": null,
   "metadata": {
    "execution": {
     "iopub.status.busy": "2023-09-09T02:48:08.282014Z",
     "iopub.status.idle": "2023-09-09T02:48:08.282273Z",
     "shell.execute_reply": "2023-09-09T02:48:08.282150Z",
     "shell.execute_reply.started": "2023-09-09T02:48:08.282138Z"
    }
   },
   "outputs": [],
   "source": [
    "filtered_df"
   ]
  },
  {
   "cell_type": "code",
   "execution_count": null,
   "metadata": {
    "execution": {
     "iopub.status.busy": "2023-09-09T02:48:08.284071Z",
     "iopub.status.idle": "2023-09-09T02:48:08.284330Z",
     "shell.execute_reply": "2023-09-09T02:48:08.284211Z",
     "shell.execute_reply.started": "2023-09-09T02:48:08.284198Z"
    },
    "tags": []
   },
   "outputs": [],
   "source": [
    "filtered_df.to_csv('./results/Second Experiment/filtered')"
   ]
  },
  {
   "cell_type": "code",
   "execution_count": null,
   "metadata": {
    "execution": {
     "iopub.status.busy": "2023-09-09T02:48:08.286100Z",
     "iopub.status.idle": "2023-09-09T02:48:08.286254Z",
     "shell.execute_reply": "2023-09-09T02:48:08.286182Z",
     "shell.execute_reply.started": "2023-09-09T02:48:08.286175Z"
    },
    "tags": []
   },
   "outputs": [],
   "source": [
    "for class_per_cluster in range(2, 6):\n",
    "    filtered_df.loc[:, (class_per_cluster, 'difference')] = filtered_df.loc[:, (class_per_cluster, 'cluster_distill')] - filtered_df.loc[:, (class_per_cluster, 'global_distill')]\n"
   ]
  },
  {
   "cell_type": "code",
   "execution_count": null,
   "metadata": {
    "execution": {
     "iopub.status.busy": "2023-09-09T02:48:08.287444Z",
     "iopub.status.idle": "2023-09-09T02:48:08.287595Z",
     "shell.execute_reply": "2023-09-09T02:48:08.287524Z",
     "shell.execute_reply.started": "2023-09-09T02:48:08.287517Z"
    },
    "tags": []
   },
   "outputs": [],
   "source": [
    "second_exp = filtered_df#.iloc[:,-4:]\n",
    "second_exp *= 100\n",
    "print(second_exp)"
   ]
  },
  {
   "cell_type": "code",
   "execution_count": null,
   "metadata": {
    "execution": {
     "iopub.status.busy": "2023-09-09T02:48:08.288688Z",
     "iopub.status.idle": "2023-09-09T02:48:08.288833Z",
     "shell.execute_reply": "2023-09-09T02:48:08.288766Z",
     "shell.execute_reply.started": "2023-09-09T02:48:08.288759Z"
    }
   },
   "outputs": [],
   "source": [
    "second_exp_latex = second_exp.style.to_latex()\n",
    "print(second_exp_latex)"
   ]
  },
  {
   "cell_type": "code",
   "execution_count": null,
   "metadata": {
    "execution": {
     "iopub.status.busy": "2023-09-09T02:48:08.289996Z",
     "iopub.status.idle": "2023-09-09T02:48:08.290143Z",
     "shell.execute_reply": "2023-09-09T02:48:08.290075Z",
     "shell.execute_reply.started": "2023-09-09T02:48:08.290068Z"
    },
    "tags": []
   },
   "outputs": [],
   "source": [
    "latex_table = filtered_df.style.to_latex()\n",
    "print(latex_table)"
   ]
  },
  {
   "cell_type": "code",
   "execution_count": null,
   "metadata": {
    "execution": {
     "iopub.status.busy": "2023-09-09T02:48:08.291372Z",
     "iopub.status.idle": "2023-09-09T02:48:08.291520Z",
     "shell.execute_reply": "2023-09-09T02:48:08.291451Z",
     "shell.execute_reply.started": "2023-09-09T02:48:08.291444Z"
    }
   },
   "outputs": [],
   "source": [
    "df_client_accs.mean()"
   ]
  },
  {
   "cell_type": "code",
   "execution_count": null,
   "metadata": {
    "execution": {
     "iopub.status.busy": "2023-09-09T02:48:08.291988Z",
     "iopub.status.idle": "2023-09-09T02:48:08.292136Z",
     "shell.execute_reply": "2023-09-09T02:48:08.292068Z",
     "shell.execute_reply.started": "2023-09-09T02:48:08.292060Z"
    },
    "tags": []
   },
   "outputs": [],
   "source": [
    "df_mean = df_client_accs.mean()\n",
    "df_mean = df_mean.reset_index()\n",
    "df_mean.columns = ['class_per_cluster', 'Metric', 'Value']\n",
    "\n",
    "# Pivot the table so Metrics become columns\n",
    "df_pivot = df_mean.pivot(index='class_per_cluster', columns='Metric', values='Value')\n",
    "\n",
    "# Create a new feature\n",
    "df_pivot['cluster_global_diff'] = df_pivot['cluster_distill'] - df_pivot['global_distill']\n",
    "\n",
    "# Reset the index for the final DataFrame\n",
    "df_pivot.reset_index(inplace=True)\n",
    "df_pivot_filtered = df_pivot.iloc[1:]\n",
    "\n",
    "plt.bar(df_pivot_filtered['class_per_cluster'], df_pivot_filtered['cluster_global_diff'])\n",
    "plt.xlabel('Class Per Cluster')\n",
    "plt.ylabel('Cluster Global Difference')\n",
    "plt.title('Bar Graph of Cluster Global Difference by Class Per Cluster')\n",
    "xticks = np.arange(min(df_pivot_filtered['class_per_cluster']), max(df_pivot_filtered['class_per_cluster']) + 1)\n",
    "xticks = [tick for tick in xticks if tick >= 0]  # Remove negative numbers, if any\n",
    "plt.xticks(xticks)\n",
    "\n",
    "plt.show()\n"
   ]
  },
  {
   "cell_type": "code",
   "execution_count": null,
   "metadata": {
    "execution": {
     "iopub.status.busy": "2023-09-09T02:48:08.292807Z",
     "iopub.status.idle": "2023-09-09T02:48:08.292957Z",
     "shell.execute_reply": "2023-09-09T02:48:08.292888Z",
     "shell.execute_reply.started": "2023-09-09T02:48:08.292881Z"
    }
   },
   "outputs": [],
   "source": [
    "df_global_accs"
   ]
  },
  {
   "cell_type": "code",
   "execution_count": null,
   "metadata": {
    "execution": {
     "iopub.status.busy": "2023-09-09T02:48:08.293522Z",
     "iopub.status.idle": "2023-09-09T02:48:08.293669Z",
     "shell.execute_reply": "2023-09-09T02:48:08.293600Z",
     "shell.execute_reply.started": "2023-09-09T02:48:08.293593Z"
    },
    "tags": []
   },
   "outputs": [],
   "source": [
    "def Global_TC_experiments(total_client_data, distill_data, alpha, number_of_cluster, cluster_distribution):\n",
    "    print(f'number_of_cluster: {number_of_cluster}')\n",
    "    data_per_class=int(distill_data//10)\n",
    "    train_idcs, test_idcs = idcs[:total_client_data], idcs[total_client_data:(total_client_data + int(distill_data * 2))]\n",
    "    train_labels = data.targets\n",
    "    test_labels = data.targets\n",
    "    \n",
    "    server_idcs = generate_server_idcs(test_idcs, test_labels, int(distill_data//10))\n",
    "\n",
    "    # client_idcs = split_noniid(train_idcs, train_labels, alpha=alpha, n_clients=N_CLIENTS)\n",
    "    client_idcs, major_class_per_client = split_7plus3class_unbalanced(train_idcs, train_labels, N_CLIENTS, cluster_distribution, data_per_class_3, data_per_class_7)\n",
    "    \n",
    "    client_data = [CustomSubset(data, idcs) for idcs in client_idcs]\n",
    "    test_data = CustomSubset(data, server_idcs, transforms.Compose([transforms.ToTensor()]))\n",
    "\n",
    "    for i, client_datum in enumerate(client_data):\n",
    "        client_datum.subset_transform = transforms.Compose([transforms.ToTensor()])\n",
    "\n",
    "    server = Server(ConvNet, lambda x : torch.optim.Adam(x),test_data)\n",
    "\n",
    "    clients = [Client(Representation, dat, major_class_per_client[i], i) \n",
    "           for i, dat in enumerate(client_data) if len(dat) > 20]\n",
    "    \n",
    "    print(f'client count: {len(clients)}')\n",
    "\n",
    "    client_accs = []\n",
    "    cluster_accs = []\n",
    "    global_accs = []\n",
    "    client_logits = []\n",
    "    \n",
    "    # # 0. Representational Learning\n",
    "    # for i, client in enumerate(clients):\n",
    "    #     Total_data = CustomSubset(data, np.concatenate((server_idcs, client_idcs[i])), transforms.Compose([transforms.ToTensor()]))\n",
    "    #     # print(f'data used to trian representation: {len(Total_data)}')\n",
    "    #     client.learn_representation(Total_data)\n",
    "        \n",
    "    # 1. Train classifier\n",
    "    for i, client in enumerate(clients):\n",
    "        client.classifier = Ten_class_classifier(client.model).to(device)\n",
    "        client.train_classifier(lr=1e-3)\n",
    "\n",
    "    client_accs, cluster_accs, global_accs = test_acc(server, clients, client_accs, cluster_accs, global_accs, cluster_distribution)\n",
    "    print(f'client_acc: {client_accs[-1]}, cluster_acc: {cluster_distribution}: {cluster_accs[-1]},  global_acc: {global_accs[-1]}')\n",
    "    \n",
    "    # 2. get cluster loigt\n",
    "    for i, client in enumerate(clients):\n",
    "        client_logits.append(server.get_clients_logit(client.classifier))\n",
    "    \n",
    "\n",
    "    # 3. make global logit\n",
    "    global_logits = server.get_global_logits(client_logits)\n",
    "    accuracy = compute_accuracy(global_logits, test_labels, server_idcs)\n",
    "    \n",
    "    print(f\"Global Logit's Accuracy: {accuracy * 100:.2f}%\") \n",
    "    \n",
    "    \n",
    "     # 4. Distillation\n",
    "    distill_loader = server.create_distill_loader(data, server_idcs, global_logits)\n",
    "    \n",
    "    for i, client in enumerate(clients):\n",
    "        if i % 10 == 0:\n",
    "            print(f'client {i} distill')\n",
    "        client.distill(distill_loader)\n",
    "    \n",
    "    client_accs, cluster_accs, global_accs = test_acc(server, clients, client_accs, cluster_accs, global_accs, cluster_distribution)\n",
    "    \n",
    "    print(f'total_client_data: {total_client_data}, cluster_distribution: {cluster_distribution}')\n",
    "    print(f'acc before distill: {client_accs[-2]}, {cluster_accs[-2]}, {global_accs[-2]}')\n",
    "    print(f'last acc: {client_accs[-1]}, {cluster_accs[-1]}, {global_accs[-1]}')\n",
    "    return client_accs, cluster_accs, global_accs"
   ]
  },
  {
   "cell_type": "code",
   "execution_count": null,
   "metadata": {
    "execution": {
     "iopub.status.busy": "2023-09-09T02:48:08.294074Z",
     "iopub.status.idle": "2023-09-09T02:48:08.294219Z",
     "shell.execute_reply": "2023-09-09T02:48:08.294151Z",
     "shell.execute_reply.started": "2023-09-09T02:48:08.294144Z"
    },
    "tags": []
   },
   "outputs": [],
   "source": [
    "# TC_experiments(50000, 5000, 1, 3, [1/3, 1/3, 1/3], 117, 21)"
   ]
  },
  {
   "cell_type": "code",
   "execution_count": null,
   "metadata": {
    "execution": {
     "iopub.status.busy": "2023-09-09T02:48:08.294697Z",
     "iopub.status.idle": "2023-09-09T02:48:08.294908Z",
     "shell.execute_reply": "2023-09-09T02:48:08.294837Z",
     "shell.execute_reply.started": "2023-09-09T02:48:08.294830Z"
    },
    "tags": []
   },
   "outputs": [],
   "source": [
    "clustering_by_model_experiments(50000, 5000, 1, 3, [1/3, 1/3, 1/3], 100, 0)"
   ]
  },
  {
   "cell_type": "code",
   "execution_count": null,
   "metadata": {
    "execution": {
     "iopub.status.busy": "2023-09-09T02:48:08.295415Z",
     "iopub.status.idle": "2023-09-09T02:48:08.295571Z",
     "shell.execute_reply": "2023-09-09T02:48:08.295497Z",
     "shell.execute_reply.started": "2023-09-09T02:48:08.295490Z"
    },
    "tags": []
   },
   "outputs": [],
   "source": [
    "now = datetime.datetime.now(pytz.timezone('Asia/Seoul'))\n",
    "date_time = now.strftime(\"%m%d_%H%M\")\n",
    "\n",
    "columns = pd.MultiIndex.from_product([['client_accs', 'cluster_accs', 'global_accs'], ['before_distill', 'after_distill']],\n",
    "                                     names=['acc_type', 'distill_state'])\n",
    "\n",
    "desired_pairs = [(50000, 5000)]\n",
    "cluster_distribution = [1/3, 1/3, 1/3]\n",
    "experiments = ['cluster_distill', 'sim', 'global_distill']\n",
    "index = pd.MultiIndex.from_product([experiments, desired_pairs], names=['experiment', 'data_pair'])\n",
    "\n",
    "df = pd.DataFrame(index=index, columns=columns)\n",
    "runs = 2  # number of times each experiment should be run\n",
    "\n",
    "for exp in experiments:\n",
    "    for pair in desired_pairs:\n",
    "        total_client_accs = [0, 0]\n",
    "        total_cluster_accs = [0, 0]\n",
    "        total_global_accs = [0, 0]\n",
    "\n",
    "        for _ in range(runs):\n",
    "            client_data, distill_data = pair\n",
    "\n",
    "            if exp == 'sim':\n",
    "                client_accs, cluster_accs, global_accs = SimCLR_distill_experiments(client_data, distill_data, ALPHA, NUMBER_OF_CLUSTER, cluster_distribution)\n",
    "            elif exp == 'global_distill':\n",
    "                client_accs, cluster_accs, global_accs = global_distill_experiments(client_data, distill_data, ALPHA, NUMBER_OF_CLUSTER, cluster_distribution)\n",
    "            else:\n",
    "                client_accs, cluster_accs, global_accs = four_class_classification_experiments(client_data, distill_data, ALPHA, NUMBER_OF_CLUSTER, cluster_distribution)\n",
    "\n",
    "            total_client_accs = [x+y for x, y in zip(total_client_accs, [client_accs[-2], client_accs[-1]])]\n",
    "            total_cluster_accs = [x+y for x, y in zip(total_cluster_accs, [cluster_accs[-2], cluster_accs[-1]])]\n",
    "            total_global_accs = [x+y for x, y in zip(total_global_accs, [global_accs[-2], global_accs[-1]])]\n",
    "\n",
    "        avg_client_accs = [x/runs for x in total_client_accs]\n",
    "        avg_cluster_accs = [x/runs for x in total_cluster_accs]\n",
    "        avg_global_accs = [x/runs for x in total_global_accs]\n",
    "\n",
    "        df.loc[(exp, pair), ('client_accs', 'before_distill')] = avg_client_accs[0]\n",
    "        df.loc[(exp, pair), ('client_accs', 'after_distill')] = avg_client_accs[1]\n",
    "        df.loc[(exp, pair), ('global_accs', 'before_distill')] = avg_global_accs[0]\n",
    "        df.loc[(exp, pair), ('global_accs', 'after_distill')] = avg_global_accs[1]\n",
    "        df.loc[(exp, pair), ('cluster_accs', 'before_distill')] = avg_cluster_accs[0]\n",
    "        df.loc[(exp, pair), ('cluster_accs', 'after_distill')] = avg_cluster_accs[1]\n",
    "\n",
    "directory = f'results/SimCLR'\n",
    "if not os.path.exists(directory):\n",
    "    os.makedirs(directory)\n",
    "cluster_distribution_str = \"_\".join(map(str, cluster_distribution))\n",
    "file_name = f'{directory}/client:{N_CLIENTS}_cluster:{NUMBER_OF_CLUSTER}_distribution:{cluster_distribution_str}_{date_time}.csv'\n",
    "df = df.round(decimals=3)\n",
    "df.to_csv(file_name)"
   ]
  },
  {
   "cell_type": "code",
   "execution_count": null,
   "metadata": {
    "execution": {
     "iopub.status.busy": "2023-09-09T02:48:08.296097Z",
     "iopub.status.idle": "2023-09-09T02:48:08.296257Z",
     "shell.execute_reply": "2023-09-09T02:48:08.296183Z",
     "shell.execute_reply.started": "2023-09-09T02:48:08.296176Z"
    },
    "tags": []
   },
   "outputs": [],
   "source": [
    "df = pd.read_csv('results/global_distill/CIFAR_0720_0435.csv', index_col=[0,1], header=[0,1])\n",
    "\n",
    "# 그릴 데이터와 제목을 리스트로 저장\n",
    "heatmap_data = [('client_accs', 'change_after_distill', 'Client Accuracy change after Distillation'),\n",
    "                ('global_accs', 'change_after_distill', 'Global Accuracy change after Distillation')]\n",
    "\n",
    "# Compute change in accuracy\n",
    "df[('client_accs', 'change_after_distill')] = df[('client_accs', 'after_distill')] - df[('client_accs', 'before_distill')]\n",
    "df[('global_accs', 'change_after_distill')] = df[('global_accs', 'after_distill')] - df[('global_accs', 'before_distill')]\n",
    "\n",
    "# 전체 데이터의 최솟값, 최댓값 계산\n",
    "vmin = min(df[data1][data2].min() for data1, data2, _ in heatmap_data)\n",
    "vmax = max(df[data1][data2].max() for data1, data2, _ in heatmap_data)\n",
    "\n",
    "for data1, data2, title in heatmap_data:\n",
    "    plt.figure(figsize=(9, 5))\n",
    "    sns.heatmap(df[(data1, data2)].unstack(), annot=True, cmap='coolwarm', center=0, vmin=-0.1, vmax=0.2)\n",
    "    plt.title(title)\n",
    "    plt.show()\n"
   ]
  },
  {
   "cell_type": "markdown",
   "metadata": {},
   "source": [
    "## 2.Clustering 실험"
   ]
  },
  {
   "cell_type": "code",
   "execution_count": null,
   "metadata": {
    "execution": {
     "iopub.status.busy": "2023-09-09T02:48:08.296859Z",
     "iopub.status.idle": "2023-09-09T02:48:08.297016Z",
     "shell.execute_reply": "2023-09-09T02:48:08.296940Z",
     "shell.execute_reply.started": "2023-09-09T02:48:08.296933Z"
    },
    "tags": []
   },
   "outputs": [],
   "source": [
    "def do_clustering_experiments(total_client_data=total_client_data, data_per_class=data_per_class, ALPHA=ALPHA):\n",
    "    train_idcs, test_idcs = idcs[:int(total_client_data*10)], idcs[int(total_client_data*10):]\n",
    "    train_labels = data.train_labels.numpy()\n",
    "    test_labels = data.train_labels.numpy()[int(total_client_data*10):]\n",
    "\n",
    "    client_idcs = split_noniid(train_idcs, train_labels, alpha=ALPHA, n_clients=N_CLIENTS)#, data_per_class=int(total_client_data/10))\n",
    "    # server_idcs = generate_server_idcs(test_idcs, test_labels, int(total_client_data*10))\n",
    "\n",
    "    client_data = [CustomSubset(data, idcs) for idcs in client_idcs]\n",
    "    test_data = CustomSubset(data, test_idcs, transforms.Compose([transforms.ToTensor()]))\n",
    "    \n",
    "    for i, client_datum in enumerate(client_data):\n",
    "        client_datum.subset_transform = transforms.Compose([transforms.ToTensor()])\n",
    "\n",
    "    server = Server(resnet18, lambda x : torch.optim.SGD(x, lr=0.1, momentum=0.9),test_data)\n",
    "\n",
    "    \n",
    "    distillation_data_file = f'distillation_data_{data_per_class}_per_class.pth'\n",
    "\n",
    "    # Check if the file already exists\n",
    "    if not os.path.exists(distillation_data_file):\n",
    "        # The file does not exist, generate and save the distillation data\n",
    "        distillation_data = server.make_distillation_data(data_per_class=data_per_class)\n",
    "        torch.save(distillation_data, distillation_data_file)\n",
    "\n",
    "    # Load the distillation data\n",
    "    distillation_data = torch.load(distillation_data_file)\n",
    "\n",
    "    clients = [Client(resnet18, lambda x : torch.optim.SGD(x, lr=0.1, momentum=0.9), dat, i, distillation_data) \n",
    "               for i, dat in enumerate(client_data)]\n",
    "\n",
    "    def aggregate(cluster_indices_new):\n",
    "        cluster_indices = cluster_indices_new\n",
    "        client_clusters = [[clients[i] for i in idcs] for idcs in cluster_indices]\n",
    "\n",
    "        server.aggregate_clusterwise(client_clusters)\n",
    "\n",
    "        return cluster_indices\n",
    "\n",
    "    cfl_stats = ExperimentLogger()\n",
    "\n",
    "    cluster_indices = [np.arange(len(clients)).astype(\"int\")]\n",
    "    client_clusters = [[clients[i] for i in idcs] for idcs in cluster_indices]\n",
    "\n",
    "\n",
    "    for epoch in range(1, LOCAL_EPOCHS+1):\n",
    "\n",
    "        if epoch == 1:\n",
    "            for client in clients:\n",
    "                client.synchronize_with_server(server)\n",
    "\n",
    "        participating_clients = server.select_clients(clients, frac=1.0)\n",
    "\n",
    "        for client in participating_clients:\n",
    "            if epoch == 1:\n",
    "                client.distill()\n",
    "\n",
    "            train_stats = client.compute_weight_update(epochs=1) #train client\n",
    "\n",
    "            if epoch == 1000:\n",
    "                client.reset()\n",
    "\n",
    "        cluster_indices_new = []\n",
    "\n",
    "        for idc in cluster_indices:\n",
    "            max_norm = server.compute_max_update_norm([clients[i] for i in idc])\n",
    "            mean_norm = server.compute_mean_update_norm([clients[i] for i in idc])\n",
    "\n",
    "            #cluster 나누는 기준\n",
    "            if epoch == LOCAL_EPOCHS: #무조건 한번 나누기\n",
    "                similarities = server.compute_pairwise_similarities(clients)\n",
    "\n",
    "                server.cache_model(idc, clients[idc[0]].W, acc_clients)\n",
    "\n",
    "                c1, c2, c3 = server.cluster_clients_GMM(similarities[idc][:,idc])\n",
    "                cluster_indices_new += [c1, c2, c3]\n",
    "\n",
    "        if epoch == 1000:\n",
    "            cluster_indices = aggregate(cluster_indices_new)\n",
    "\n",
    "        acc_clients = [client.evaluate() for client in clients]\n",
    "\n",
    "        if epoch == LOCAL_EPOCHS: #무조건 한번 나누기\n",
    "            label_accuracies = pd.DataFrame()\n",
    "            label_predicted = pd.DataFrame()\n",
    "            label_soft_sum = pd.DataFrame()\n",
    "            label_diff = pd.DataFrame()\n",
    "\n",
    "            for i, client in enumerate(clients):\n",
    "                acc, pred, sum_, diff = server.evaluate(client.model)\n",
    "                # Convert each dictionary to a DataFrame and append to the respective DataFrame\n",
    "                label_accuracies = label_accuracies.append(pd.DataFrame(acc, index=[i]))\n",
    "                label_predicted = label_predicted.append(pd.DataFrame(pred, index=[i]))\n",
    "                label_soft_sum = label_soft_sum.append(pd.DataFrame(sum_, index=[i]))\n",
    "                label_diff = label_diff.append(pd.DataFrame(diff, index=[i]))\n",
    "\n",
    "            # Reset index for all DataFrames\n",
    "            label_accuracies.reset_index(drop=True, inplace=True)\n",
    "            label_predicted.reset_index(drop=True, inplace=True)\n",
    "            label_soft_sum.reset_index(drop=True, inplace=True)\n",
    "            label_diff.reset_index(drop=True, inplace=True)\n",
    "\n",
    "        if epoch == 1:\n",
    "            first_accuracies = pd.DataFrame()\n",
    "            for i, client in enumerate(clients):\n",
    "                first_acc, pred, sum_, diff = server.evaluate(client.model)\n",
    "                first_accuracies = pd.concat([first_accuracies, pd.DataFrame(first_acc, index=[i])])\n",
    "            first_accuracies = first_accuracies.fillna(0)\n",
    "\n",
    "            client_acc_after_distill = sum(acc_clients)/len(acc_clients)\n",
    "            global_acc_after_distill = np.mean(np.ravel(first_accuracies.values))\n",
    "\n",
    "\n",
    "        elif epoch == LOCAL_EPOCHS:\n",
    "            client_acc_final = sum(acc_clients)/len(acc_clients)\n",
    "            global_acc_final = np.mean(np.ravel(label_accuracies.values))\n",
    "\n",
    "        average_dw = server.get_average_dw(clients)\n",
    "        #print(average_dw)\n",
    "        cfl_stats.log({\"acc_clients\" : acc_clients, \"mean_norm\" : mean_norm, \"max_norm\" : max_norm,\n",
    "                      \"rounds\" : epoch, \"clusters\" : cluster_indices, \"average_dw\": average_dw})\n",
    "\n",
    "\n",
    "        display_train_stats(cfl_stats, EPS_1, EPS_2, LOCAL_EPOCHS)\n",
    "\n",
    "\n",
    "    for idc in cluster_indices:    \n",
    "        server.cache_model(idc, clients[idc[0]].W, acc_clients)\n",
    "    \n",
    "    client_acc_after_distill = round(client_acc_after_distill, 3)\n",
    "    global_acc_after_distill = round(global_acc_after_distill, 3)\n",
    "    client_acc_final = round(client_acc_final, 3)\n",
    "    global_acc_final = round(global_acc_final, 3)\n",
    "    \n",
    "    return client_acc_after_distill, global_acc_after_distill, client_acc_final, global_acc_final\n",
    "\n",
    "    print(client_acc_after_distill, global_acc_after_distill)\n",
    "    print(client_acc_final, global_acc_final)"
   ]
  },
  {
   "cell_type": "code",
   "execution_count": null,
   "metadata": {
    "execution": {
     "iopub.status.busy": "2023-09-09T02:48:08.297436Z",
     "iopub.status.idle": "2023-09-09T02:48:08.297581Z",
     "shell.execute_reply": "2023-09-09T02:48:08.297513Z",
     "shell.execute_reply.started": "2023-09-09T02:48:08.297506Z"
    },
    "tags": []
   },
   "outputs": [],
   "source": [
    "first_accuracies"
   ]
  },
  {
   "cell_type": "code",
   "execution_count": null,
   "metadata": {
    "execution": {
     "iopub.status.busy": "2023-09-09T02:48:08.298074Z",
     "iopub.status.idle": "2023-09-09T02:48:08.298281Z",
     "shell.execute_reply": "2023-09-09T02:48:08.298212Z",
     "shell.execute_reply.started": "2023-09-09T02:48:08.298204Z"
    },
    "tags": []
   },
   "outputs": [],
   "source": [
    "label_accuracies.sort_index(axis=1)"
   ]
  },
  {
   "cell_type": "code",
   "execution_count": null,
   "metadata": {
    "execution": {
     "iopub.status.busy": "2023-09-09T02:48:08.298738Z",
     "iopub.status.idle": "2023-09-09T02:48:08.298890Z",
     "shell.execute_reply": "2023-09-09T02:48:08.298819Z",
     "shell.execute_reply.started": "2023-09-09T02:48:08.298812Z"
    }
   },
   "outputs": [],
   "source": [
    "label_soft_sum.sort_index(axis=1)"
   ]
  },
  {
   "cell_type": "code",
   "execution_count": null,
   "metadata": {
    "execution": {
     "iopub.status.busy": "2023-09-09T02:48:08.299332Z",
     "iopub.status.idle": "2023-09-09T02:48:08.299542Z",
     "shell.execute_reply": "2023-09-09T02:48:08.299470Z",
     "shell.execute_reply.started": "2023-09-09T02:48:08.299463Z"
    }
   },
   "outputs": [],
   "source": [
    "label_diff.sort_index(axis=1)"
   ]
  },
  {
   "cell_type": "code",
   "execution_count": null,
   "metadata": {
    "execution": {
     "iopub.status.busy": "2023-09-09T02:48:08.299984Z",
     "iopub.status.idle": "2023-09-09T02:48:08.300143Z",
     "shell.execute_reply": "2023-09-09T02:48:08.300071Z",
     "shell.execute_reply.started": "2023-09-09T02:48:08.300064Z"
    }
   },
   "outputs": [],
   "source": [
    "label_predicted.sort_index(axis=1)"
   ]
  },
  {
   "cell_type": "code",
   "execution_count": null,
   "metadata": {
    "execution": {
     "iopub.status.busy": "2023-09-09T02:48:08.300630Z",
     "iopub.status.idle": "2023-09-09T02:48:08.300776Z",
     "shell.execute_reply": "2023-09-09T02:48:08.300707Z",
     "shell.execute_reply.started": "2023-09-09T02:48:08.300700Z"
    },
    "tags": []
   },
   "outputs": [],
   "source": [
    "from sklearn.decomposition import PCA\n",
    "# Instantiate PCA\n",
    "pca = PCA(n_components=2)\n",
    "\n",
    "# Apply PCA to the dataframes\n",
    "label_accuracies_pca = pca.fit_transform(label_accuracies)\n",
    "label_predicted_pca = pca.fit_transform(label_predicted)\n",
    "label_soft_sum_pca = pca.fit_transform(label_soft_sum)\n",
    "label_diff_pca = pca.fit_transform(label_diff)\n",
    "transformed_data = pca.fit_transform(similarities)\n",
    "\n",
    "# Create labels\n",
    "labels = [0, 0, 0, 1, 1, 1, 2, 2, 2]\n",
    "\n",
    "fig, axs = plt.subplots(2, 2, figsize=(10, 10))\n",
    "\n",
    "# Scatter plots with larger dots\n",
    "dot_size = 50\n",
    "axs[0, 0].scatter(label_accuracies_pca[:, 0], label_accuracies_pca[:, 1], c=labels, s=dot_size)\n",
    "axs[0, 0].set_title('Label Accuracies')\n",
    "axs[0, 1].scatter(label_predicted_pca[:, 0], label_predicted_pca[:, 1], c=labels, s=dot_size)\n",
    "axs[0, 1].set_title('Label Predicted')\n",
    "axs[1, 0].scatter(label_soft_sum_pca[:, 0], label_soft_sum_pca[:, 1], c=labels, s=dot_size)\n",
    "axs[1, 0].set_title('Label Soft Sum')\n",
    "axs[1, 1].scatter(label_diff_pca[:, 0], label_diff_pca[:, 1], c=labels, s=dot_size)\n",
    "axs[1, 1].set_title('Label Soft Diff')\n",
    "\n",
    "plt.show()"
   ]
  },
  {
   "cell_type": "code",
   "execution_count": null,
   "metadata": {
    "execution": {
     "iopub.status.busy": "2023-09-09T02:48:08.301202Z",
     "iopub.status.idle": "2023-09-09T02:48:08.301349Z",
     "shell.execute_reply": "2023-09-09T02:48:08.301280Z",
     "shell.execute_reply.started": "2023-09-09T02:48:08.301273Z"
    }
   },
   "outputs": [],
   "source": [
    "from sklearn.metrics import silhouette_score\n",
    "\n",
    "# Calculate Silhouette Scores\n",
    "silhouette_accuracies = silhouette_score(label_accuracies_pca, labels)\n",
    "silhouette_predicted = silhouette_score(label_predicted_pca, labels)\n",
    "silhouette_soft_sum = silhouette_score(label_soft_sum_pca, labels)\n",
    "silhouette_diff = silhouette_score(label_diff_pca, labels)\n",
    "silhouette_transformed_data = silhouette_score(transformed_data, labels)\n",
    "\n",
    "print('Silhouette Score for Accuracies:', silhouette_accuracies)\n",
    "print('Silhouette Score for Predicted:', silhouette_predicted)\n",
    "print('Silhouette Score for Soft Sum:', silhouette_soft_sum)\n",
    "print('Silhouette Score for diff:', silhouette_diff)\n",
    "print('Silhouette Score for Model params:', silhouette_transformed_data)\n",
    "\n"
   ]
  },
  {
   "cell_type": "code",
   "execution_count": null,
   "metadata": {
    "execution": {
     "iopub.status.busy": "2023-09-09T02:48:08.301937Z",
     "iopub.status.idle": "2023-09-09T02:48:08.302150Z",
     "shell.execute_reply": "2023-09-09T02:48:08.302076Z",
     "shell.execute_reply.started": "2023-09-09T02:48:08.302069Z"
    }
   },
   "outputs": [],
   "source": [
    "#df.sort_index(axis=1)"
   ]
  },
  {
   "cell_type": "markdown",
   "metadata": {},
   "source": [
    "데이터 Cluster 별 모델 파라미터 분포"
   ]
  },
  {
   "cell_type": "code",
   "execution_count": null,
   "metadata": {},
   "outputs": [],
   "source": []
  },
  {
   "cell_type": "code",
   "execution_count": null,
   "metadata": {
    "execution": {
     "iopub.status.busy": "2023-09-09T02:48:08.302794Z",
     "iopub.status.idle": "2023-09-09T02:48:08.303118Z",
     "shell.execute_reply": "2023-09-09T02:48:08.303027Z",
     "shell.execute_reply.started": "2023-09-09T02:48:08.303018Z"
    },
    "tags": []
   },
   "outputs": [],
   "source": [
    "from sklearn.decomposition import PCA\n",
    "import matplotlib.pyplot as plt\n",
    "import numpy as np\n",
    "\n",
    "# Fit and transform your data to 2D\n",
    "pca = PCA(n_components=2)\n",
    "transformed_data = pca.fit_transform(similarities)\n",
    "\n",
    "# Assign labels based on index ranges\n",
    "labels = [0, 0, 0, 1, 1, 1, 2, 2, 2]\n",
    "unique_labels = np.unique(labels)\n",
    "colors = plt.cm.Spectral(np.linspace(0, 0.35, len(unique_labels)))\n",
    "\n",
    "# Plot the transformed data with labels\n",
    "for label, color in zip(unique_labels, colors):\n",
    "    idx = np.where(labels == label)\n",
    "    plt.scatter(transformed_data[idx, 0], transformed_data[idx, 1], color=color, label=f'Cluster {label}')\n",
    "\n",
    "# Add a legend\n",
    "plt.legend()\n",
    "\n",
    "plt.show()\n"
   ]
  }
 ],
 "metadata": {
  "kernelspec": {
   "display_name": "torch1.12.1-py3.8-cuda11.3",
   "language": "python",
   "name": "torch1.12.1-py3.8-cuda11.3"
  },
  "language_info": {
   "codemirror_mode": {
    "name": "ipython",
    "version": 3
   },
   "file_extension": ".py",
   "mimetype": "text/x-python",
   "name": "python",
   "nbconvert_exporter": "python",
   "pygments_lexer": "ipython3",
   "version": "3.8.10"
  },
  "vscode": {
   "interpreter": {
    "hash": "f79394e62bebc70f4ea6374f6a04753660b8235adfdaf8a6dfe67d7c0f65c745"
   }
  }
 },
 "nbformat": 4,
 "nbformat_minor": 4
}

{
 "cells": [
  {
   "cell_type": "markdown",
   "id": "5dcc94fb-f197-4571-a4c8-c09c6f067fb1",
   "metadata": {},
   "source": [
    "## 1. Prepare Data, Network"
   ]
  },
  {
   "cell_type": "code",
   "execution_count": 1,
   "id": "407c1471-43b9-4740-901c-5527993b073c",
   "metadata": {
    "execution": {
     "iopub.execute_input": "2023-08-11T06:31:31.820758Z",
     "iopub.status.busy": "2023-08-11T06:31:31.820526Z",
     "iopub.status.idle": "2023-08-11T06:31:50.620848Z",
     "shell.execute_reply": "2023-08-11T06:31:50.619810Z",
     "shell.execute_reply.started": "2023-08-11T06:31:31.820734Z"
    },
    "tags": []
   },
   "outputs": [
    {
     "name": "stderr",
     "output_type": "stream",
     "text": [
      "/usr/local/lib/python3.8/dist-packages/sklearn/datasets/_openml.py:932: FutureWarning: The default value of `parser` will change from `'liac-arff'` to `'auto'` in 1.4. You can set `parser='auto'` to silence this warning. Therefore, an `ImportError` will be raised from 1.4 if the dataset is dense and pandas is not installed. Note that the pandas parser may return different data types. See the Notes Section in fetch_openml's API doc for details.\n",
      "  warn(\n"
     ]
    },
    {
     "name": "stdout",
     "output_type": "stream",
     "text": [
      "torch.Size([6000, 1, 28, 28])\n",
      "torch.Size([6000])\n",
      "torch.Size([10000, 1, 28, 28])\n",
      "torch.Size([10000])\n"
     ]
    }
   ],
   "source": [
    "from sklearn.datasets import fetch_openml\n",
    "import torch\n",
    "import numpy as np\n",
    "\n",
    "mnist = fetch_openml('mnist_784')\n",
    "\n",
    "device = torch.device('cuda:0') if torch.cuda.is_available() else torch.device('cpu')\n",
    "\n",
    "X_train = torch.tensor(np.array(mnist.data)).float().reshape(-1, 1, 28, 28)[:6000].to(device)\n",
    "y_train = torch.tensor(np.array(list(map(np.int_, mnist.target))))[:6000].to(device)\n",
    "\n",
    "X_test = torch.tensor(np.array(mnist.data)).float().reshape(-1, 1, 28, 28)[60000:].to(device)\n",
    "y_test = torch.tensor(np.array(list(map(np.int_, mnist.target))))[60000:].to(device)\n",
    "\n",
    "print(X_train.shape) # torch.Size([60000, 1, 28, 28])\n",
    "print(y_train.shape) # torch.Size([60000])\n",
    "\n",
    "print(X_test.shape) # torch.Size([10000, 1, 28, 28])\n",
    "print(y_test.shape) # torch.Size([10000])"
   ]
  },
  {
   "cell_type": "code",
   "execution_count": 2,
   "id": "c095b4e6-4e97-4f81-936b-0848621b4355",
   "metadata": {
    "execution": {
     "iopub.execute_input": "2023-08-11T06:31:50.622370Z",
     "iopub.status.busy": "2023-08-11T06:31:50.622076Z",
     "iopub.status.idle": "2023-08-11T06:31:50.627149Z",
     "shell.execute_reply": "2023-08-11T06:31:50.626467Z",
     "shell.execute_reply.started": "2023-08-11T06:31:50.622354Z"
    }
   },
   "outputs": [],
   "source": [
    "def cutout_and_rotate(image):\n",
    "    image = image.clone().detach() # 얕은 복사 문제 주의(원본 유지)\n",
    "    x_start = np.random.randint(20) # cut out 시작할 x축 위치(0~19 중 1개)\n",
    "    y_start = np.random.randint(20) # cut out 시작할 y축 위치(0~19 중 1개)\n",
    "\n",
    "    image[..., x_start:x_start+9, y_start:y_start+9] = 255 / 2 # 해당 부분 회색 마킹\n",
    "    return torch.rot90(image, 1, [-2, -1]) # 마지막 두 axis 기준 90도 회전"
   ]
  },
  {
   "cell_type": "code",
   "execution_count": 3,
   "id": "0d3a2744-b6d5-48a9-a28a-f8780b826a59",
   "metadata": {
    "execution": {
     "iopub.execute_input": "2023-08-11T06:31:50.628438Z",
     "iopub.status.busy": "2023-08-11T06:31:50.627980Z",
     "iopub.status.idle": "2023-08-11T06:31:50.634405Z",
     "shell.execute_reply": "2023-08-11T06:31:50.633873Z",
     "shell.execute_reply.started": "2023-08-11T06:31:50.628417Z"
    }
   },
   "outputs": [],
   "source": [
    "import torch.nn as nn\n",
    "import torch.nn.functional as F\n",
    "\n",
    "class CNN(nn.Module):\n",
    "    def __init__(self):\n",
    "        super(CNN, self).__init__()\n",
    "        self.conv1 = nn.Conv2d(in_channels=1, out_channels=10, kernel_size=5, stride=1)\n",
    "        self.conv2 = nn.Conv2d(in_channels=10, out_channels=20, kernel_size=5, stride=1)\n",
    "        self.fc = nn.Linear(4 * 4 * 20, 100)\n",
    "\n",
    "    def forward(self, x):\n",
    "        x = F.relu(self.conv1(x)) # (batch, 1, 28, 28) -> (batch, 10, 24, 24)\n",
    "\n",
    "        x = F.max_pool2d(x, kernel_size=2, stride=2) # (batch, 10, 24, 24) -> (batch, 10, 12, 12)\n",
    "\n",
    "        x = F.relu(self.conv2(x)) # (batch, 10, 12, 12) -> (batch, 20, 8, 8)\n",
    "\n",
    "        x = F.max_pool2d(x, kernel_size=2, stride=2) # (batch, 20, 8, 8) -> (batch, 20, 4, 4)\n",
    "\n",
    "        x = x.view(-1, 4 * 4 * 20) # (batch, 20, 4, 4) -> (batch, 320)\n",
    "\n",
    "        x = F.relu(self.fc(x)) # (batch, 320) -> (batch, 100)\n",
    "        return x # (batch, 100)"
   ]
  },
  {
   "cell_type": "code",
   "execution_count": 4,
   "id": "389537d6-1aa2-4aac-9045-4cbf692cb0c3",
   "metadata": {
    "execution": {
     "iopub.execute_input": "2023-08-11T06:31:50.635740Z",
     "iopub.status.busy": "2023-08-11T06:31:50.635200Z",
     "iopub.status.idle": "2023-08-11T06:31:50.643739Z",
     "shell.execute_reply": "2023-08-11T06:31:50.643289Z",
     "shell.execute_reply.started": "2023-08-11T06:31:50.635718Z"
    },
    "tags": []
   },
   "outputs": [],
   "source": [
    "class SimCLR_Loss(nn.Module):\n",
    "    def __init__(self, batch_size, temperature):\n",
    "        super().__init__()\n",
    "        self.batch_size = batch_size\n",
    "        self.temperature = temperature\n",
    "\n",
    "        self.mask = self.mask_correlated_samples(batch_size)\n",
    "        self.criterion = nn.CrossEntropyLoss(reduction=\"sum\")\n",
    "        self.similarity_f = nn.CosineSimilarity(dim=2)\n",
    "\n",
    "    # loss 분모 부분의 negative sample 간의 내적 합만을 가져오기 위한 마스킹 행렬\n",
    "    def mask_correlated_samples(self, batch_size):\n",
    "        N = 2 * batch_size\n",
    "        mask = torch.ones((N, N), dtype=bool)\n",
    "        mask = mask.fill_diagonal_(0)\n",
    "        \n",
    "        for i in range(batch_size):\n",
    "            mask[i, batch_size + i] = 0\n",
    "            mask[batch_size + i, i] = 0\n",
    "        return mask\n",
    "\n",
    "    def forward(self, z_i, z_j):\n",
    "\n",
    "        N = 2 * self.batch_size\n",
    "\n",
    "        z = torch.cat((z_i, z_j), dim=0)\n",
    "\n",
    "        sim = self.similarity_f(z.unsqueeze(1), z.unsqueeze(0)) / self.temperature\n",
    "\n",
    "        # loss 분자 부분의 원본 - augmentation 이미지 간의 내적 합을 가져오기 위한 부분\n",
    "        sim_i_j = torch.diag(sim, self.batch_size)\n",
    "        sim_j_i = torch.diag(sim, -self.batch_size)\n",
    "        \n",
    "        positive_samples = torch.cat((sim_i_j, sim_j_i), dim=0).reshape(N, 1)\n",
    "        negative_samples = sim[self.mask].reshape(N, -1)\n",
    "\n",
    "\n",
    "        labels = torch.from_numpy(np.array([0]*N)).reshape(-1).to(positive_samples.device).long()\n",
    "\n",
    "        logits = torch.cat((positive_samples, negative_samples), dim=1)\n",
    "        loss = self.criterion(logits, labels)\n",
    "        loss /= N\n",
    "        \n",
    "        return loss"
   ]
  },
  {
   "cell_type": "markdown",
   "id": "698e59dd-c8a0-4a5c-8db2-ac1d14c6cd13",
   "metadata": {},
   "source": [
    "## 2. Representation Learning"
   ]
  },
  {
   "cell_type": "code",
   "execution_count": 5,
   "id": "08165b15-664c-49b8-a7f6-f7ca637a2bdd",
   "metadata": {
    "execution": {
     "iopub.execute_input": "2023-08-11T06:31:50.644609Z",
     "iopub.status.busy": "2023-08-11T06:31:50.644473Z",
     "iopub.status.idle": "2023-08-11T06:31:56.045026Z",
     "shell.execute_reply": "2023-08-11T06:31:56.043920Z",
     "shell.execute_reply.started": "2023-08-11T06:31:50.644596Z"
    },
    "tags": []
   },
   "outputs": [
    {
     "data": {
      "application/vnd.jupyter.widget-view+json": {
       "model_id": "fae27f53afe349b28b1ba6cd4582a179",
       "version_major": 2,
       "version_minor": 0
      },
      "text/plain": [
       "  0%|          | 0/60 [00:00<?, ?it/s]"
      ]
     },
     "metadata": {},
     "output_type": "display_data"
    },
    {
     "name": "stdout",
     "output_type": "stream",
     "text": [
      "Epoch : 1, Avg Loss : 5.0641\n"
     ]
    },
    {
     "data": {
      "application/vnd.jupyter.widget-view+json": {
       "model_id": "4e4ee2d2a23e4d578b14eeda99b76f14",
       "version_major": 2,
       "version_minor": 0
      },
      "text/plain": [
       "  0%|          | 0/60 [00:00<?, ?it/s]"
      ]
     },
     "metadata": {},
     "output_type": "display_data"
    },
    {
     "name": "stdout",
     "output_type": "stream",
     "text": [
      "Epoch : 2, Avg Loss : 4.4673\n"
     ]
    },
    {
     "data": {
      "application/vnd.jupyter.widget-view+json": {
       "model_id": "7c85068464714844959fd5de67d82831",
       "version_major": 2,
       "version_minor": 0
      },
      "text/plain": [
       "  0%|          | 0/60 [00:00<?, ?it/s]"
      ]
     },
     "metadata": {},
     "output_type": "display_data"
    },
    {
     "name": "stdout",
     "output_type": "stream",
     "text": [
      "Epoch : 3, Avg Loss : 4.2546\n"
     ]
    },
    {
     "data": {
      "application/vnd.jupyter.widget-view+json": {
       "model_id": "baf17eaf53b24fe7a4a99eea53ee36a4",
       "version_major": 2,
       "version_minor": 0
      },
      "text/plain": [
       "  0%|          | 0/60 [00:00<?, ?it/s]"
      ]
     },
     "metadata": {},
     "output_type": "display_data"
    },
    {
     "name": "stdout",
     "output_type": "stream",
     "text": [
      "Epoch : 4, Avg Loss : 4.1615\n"
     ]
    },
    {
     "data": {
      "application/vnd.jupyter.widget-view+json": {
       "model_id": "a756b71c0a3d49c0917da2bdd94d19ee",
       "version_major": 2,
       "version_minor": 0
      },
      "text/plain": [
       "  0%|          | 0/60 [00:00<?, ?it/s]"
      ]
     },
     "metadata": {},
     "output_type": "display_data"
    },
    {
     "name": "stdout",
     "output_type": "stream",
     "text": [
      "Epoch : 5, Avg Loss : 4.1046\n"
     ]
    },
    {
     "data": {
      "application/vnd.jupyter.widget-view+json": {
       "model_id": "87040944b8b64bd5bc8885a9e1b3c3d7",
       "version_major": 2,
       "version_minor": 0
      },
      "text/plain": [
       "  0%|          | 0/60 [00:00<?, ?it/s]"
      ]
     },
     "metadata": {},
     "output_type": "display_data"
    },
    {
     "name": "stdout",
     "output_type": "stream",
     "text": [
      "Epoch : 6, Avg Loss : 4.0618\n"
     ]
    },
    {
     "data": {
      "application/vnd.jupyter.widget-view+json": {
       "model_id": "2fd5e99876c34c4b8019a794c40ebe93",
       "version_major": 2,
       "version_minor": 0
      },
      "text/plain": [
       "  0%|          | 0/60 [00:00<?, ?it/s]"
      ]
     },
     "metadata": {},
     "output_type": "display_data"
    },
    {
     "name": "stdout",
     "output_type": "stream",
     "text": [
      "Epoch : 7, Avg Loss : 4.0375\n"
     ]
    },
    {
     "data": {
      "application/vnd.jupyter.widget-view+json": {
       "model_id": "9a332a43b38d4375a1dd91dfcf9c4dae",
       "version_major": 2,
       "version_minor": 0
      },
      "text/plain": [
       "  0%|          | 0/60 [00:00<?, ?it/s]"
      ]
     },
     "metadata": {},
     "output_type": "display_data"
    },
    {
     "name": "stdout",
     "output_type": "stream",
     "text": [
      "Epoch : 8, Avg Loss : 4.0179\n"
     ]
    },
    {
     "data": {
      "application/vnd.jupyter.widget-view+json": {
       "model_id": "8a368af59b6d4933b265c56926076d26",
       "version_major": 2,
       "version_minor": 0
      },
      "text/plain": [
       "  0%|          | 0/60 [00:00<?, ?it/s]"
      ]
     },
     "metadata": {},
     "output_type": "display_data"
    },
    {
     "name": "stdout",
     "output_type": "stream",
     "text": [
      "Epoch : 9, Avg Loss : 3.9973\n"
     ]
    },
    {
     "data": {
      "application/vnd.jupyter.widget-view+json": {
       "model_id": "83513373392849f68e6c5a684ec93690",
       "version_major": 2,
       "version_minor": 0
      },
      "text/plain": [
       "  0%|          | 0/60 [00:00<?, ?it/s]"
      ]
     },
     "metadata": {},
     "output_type": "display_data"
    },
    {
     "name": "stdout",
     "output_type": "stream",
     "text": [
      "Epoch : 10, Avg Loss : 3.9855\n"
     ]
    }
   ],
   "source": [
    "from torch.utils.data import TensorDataset\n",
    "from torch.utils.data import DataLoader\n",
    "from tqdm.notebook import tqdm\n",
    "\n",
    "X_train_aug = cutout_and_rotate(X_train) # 각 X_train 데이터에 대하여 augmentation\n",
    "X_train_aug = X_train_aug.to(device) # 학습을 위하여 GPU에 선언\n",
    "\n",
    "dataset = TensorDataset(X_train, X_train_aug) # augmentation된 데이터와 pair\n",
    "batch_size = 100\n",
    "\n",
    "dataloader = DataLoader(\n",
    "            dataset,\n",
    "            batch_size = batch_size)\n",
    "\n",
    "model = CNN() # 모델 변수 선언\n",
    "loss_func = SimCLR_Loss(batch_size, temperature = 0.5) # loss 함수 선언\n",
    "\n",
    "# train 코드 예시\n",
    "epochs = 10\n",
    "model.to(device)\n",
    "model.train()\n",
    "\n",
    "optimizer = torch.optim.Adam(model.parameters(), lr=1e-4)\n",
    "\n",
    "for i in range(1, epochs + 1):\n",
    "    total_loss = 0\n",
    "    for data in tqdm(dataloader):\n",
    "        origin_vec = model(data[0])\n",
    "        aug_vec = model(data[1])\n",
    "\n",
    "        loss = loss_func(origin_vec, aug_vec)\n",
    "        total_loss += loss.item()\n",
    "\n",
    "        optimizer.zero_grad()\n",
    "        loss.backward()\n",
    "        optimizer.step()\n",
    "\n",
    "    print('Epoch : %d, Avg Loss : %.4f'%(i, total_loss / len(dataloader)))"
   ]
  },
  {
   "cell_type": "markdown",
   "id": "488659ad-54aa-4204-aadf-631d98180976",
   "metadata": {},
   "source": [
    "## 3. Classification"
   ]
  },
  {
   "cell_type": "markdown",
   "id": "31acac92-5ffe-4555-9df0-0b62993889fd",
   "metadata": {
    "execution": {
     "iopub.execute_input": "2023-08-08T07:44:08.749883Z",
     "iopub.status.busy": "2023-08-08T07:44:08.749342Z",
     "iopub.status.idle": "2023-08-08T07:44:08.755487Z",
     "shell.execute_reply": "2023-08-08T07:44:08.754319Z",
     "shell.execute_reply.started": "2023-08-08T07:44:08.749845Z"
    }
   },
   "source": [
    "### 1) Prepare dataset"
   ]
  },
  {
   "cell_type": "code",
   "execution_count": 6,
   "id": "bfd50b77-0847-4c3e-87be-9393a0c07b74",
   "metadata": {
    "execution": {
     "iopub.execute_input": "2023-08-11T06:31:56.046576Z",
     "iopub.status.busy": "2023-08-11T06:31:56.046371Z",
     "iopub.status.idle": "2023-08-11T06:31:56.644702Z",
     "shell.execute_reply": "2023-08-11T06:31:56.643590Z",
     "shell.execute_reply.started": "2023-08-11T06:31:56.046558Z"
    },
    "tags": []
   },
   "outputs": [],
   "source": [
    "from torchvision.datasets import MNIST\n",
    "from torch.utils.data import DataLoader, TensorDataset\n",
    "import torch\n",
    "import torch.nn as nn\n",
    "from tqdm import tqdm\n",
    "from torchvision import datasets, transforms\n",
    "\n",
    "major_class_num = 420\n",
    "minor_class_num = 180\n",
    "# Define the transformations: Convert images to tensor & normalize\n",
    "MNIST_transform = transforms.Compose([\n",
    "    transforms.ToTensor(),\n",
    "    transforms.Normalize((0.5,), (0.5,))  # Normalizing with mean=0.5 and std=0.5 for MNIST\n",
    "])\n",
    "trainset = datasets.MNIST(root='./data', train=True, download=True, transform=MNIST_transform)\n",
    "\n",
    "major_classes = [0, 1, 2] # Define major classes\n",
    "minor_classes = [3, 4, 5, 6, 7, 8, 9] # Define minor classes\n",
    "\n",
    "images = []\n",
    "targets = []\n",
    "\n",
    "# Select samples from major classes\n",
    "for i in major_classes:\n",
    "    class_indices = np.where(np.array(trainset.targets) == i)[0]\n",
    "    selected_indices = class_indices[:major_class_num]\n",
    "\n",
    "    for idx in selected_indices:\n",
    "        images.append(trainset[idx][0])\n",
    "        targets.append(0) # New label: 0 for major\n",
    "\n",
    "# Select samples from minor classes\n",
    "for i in minor_classes:\n",
    "    class_indices = np.where(np.array(trainset.targets) == i)[0]\n",
    "    selected_indices = class_indices[:minor_class_num]\n",
    "\n",
    "    for idx in selected_indices:\n",
    "        images.append(trainset[idx][0])\n",
    "        targets.append(1) # New label: 1 for minor\n",
    "\n",
    "# Convert to PyTorch tensors\n",
    "images = torch.stack(images)\n",
    "targets = torch.tensor(targets, dtype=torch.long)\n",
    "\n",
    "# Create a TensorDataset with the selected instances and modified labels\n",
    "subset = TensorDataset(images, targets)\n",
    "class_dataloader = DataLoader(subset, batch_size=64, shuffle=True)\n"
   ]
  },
  {
   "cell_type": "markdown",
   "id": "6fe497dd-dcb2-490d-8ba4-721cc185f58b",
   "metadata": {},
   "source": [
    "### 2) Train Classifier\n"
   ]
  },
  {
   "cell_type": "code",
   "execution_count": 7,
   "id": "5ee3e040-7c32-48d4-80e6-b531bde4b8d7",
   "metadata": {
    "execution": {
     "iopub.execute_input": "2023-08-11T06:31:56.647350Z",
     "iopub.status.busy": "2023-08-11T06:31:56.647131Z",
     "iopub.status.idle": "2023-08-11T06:31:56.651202Z",
     "shell.execute_reply": "2023-08-11T06:31:56.650375Z",
     "shell.execute_reply.started": "2023-08-11T06:31:56.647331Z"
    }
   },
   "outputs": [],
   "source": [
    "import os\n",
    "os.environ['CUDA_LAUNCH_BLOCKING'] = '1'"
   ]
  },
  {
   "cell_type": "code",
   "execution_count": 10,
   "id": "4dc25123-3be1-46ae-a1c4-4a491ed5746e",
   "metadata": {
    "execution": {
     "iopub.execute_input": "2023-08-11T06:35:41.796438Z",
     "iopub.status.busy": "2023-08-11T06:35:41.795954Z",
     "iopub.status.idle": "2023-08-11T06:35:43.090299Z",
     "shell.execute_reply": "2023-08-11T06:35:43.089464Z",
     "shell.execute_reply.started": "2023-08-11T06:35:41.796404Z"
    },
    "tags": []
   },
   "outputs": [
    {
     "name": "stderr",
     "output_type": "stream",
     "text": [
      "100%|██████████| 40/40 [00:00<00:00, 296.28it/s]\n"
     ]
    },
    {
     "name": "stdout",
     "output_type": "stream",
     "text": [
      "Epoch : 1, Train Accuracy : 56.90%\n"
     ]
    },
    {
     "name": "stderr",
     "output_type": "stream",
     "text": [
      "100%|██████████| 40/40 [00:00<00:00, 312.73it/s]\n"
     ]
    },
    {
     "name": "stdout",
     "output_type": "stream",
     "text": [
      "Epoch : 2, Train Accuracy : 91.23%\n"
     ]
    },
    {
     "name": "stderr",
     "output_type": "stream",
     "text": [
      "100%|██████████| 40/40 [00:00<00:00, 317.54it/s]\n"
     ]
    },
    {
     "name": "stdout",
     "output_type": "stream",
     "text": [
      "Epoch : 3, Train Accuracy : 93.57%\n"
     ]
    },
    {
     "name": "stderr",
     "output_type": "stream",
     "text": [
      "100%|██████████| 40/40 [00:00<00:00, 319.52it/s]\n"
     ]
    },
    {
     "name": "stdout",
     "output_type": "stream",
     "text": [
      "Epoch : 4, Train Accuracy : 94.01%\n"
     ]
    },
    {
     "name": "stderr",
     "output_type": "stream",
     "text": [
      "100%|██████████| 40/40 [00:00<00:00, 319.76it/s]\n"
     ]
    },
    {
     "name": "stdout",
     "output_type": "stream",
     "text": [
      "Epoch : 5, Train Accuracy : 93.93%\n"
     ]
    },
    {
     "name": "stderr",
     "output_type": "stream",
     "text": [
      "100%|██████████| 40/40 [00:00<00:00, 302.18it/s]\n"
     ]
    },
    {
     "name": "stdout",
     "output_type": "stream",
     "text": [
      "Epoch : 6, Train Accuracy : 94.17%\n"
     ]
    },
    {
     "name": "stderr",
     "output_type": "stream",
     "text": [
      "100%|██████████| 40/40 [00:00<00:00, 317.62it/s]\n"
     ]
    },
    {
     "name": "stdout",
     "output_type": "stream",
     "text": [
      "Epoch : 7, Train Accuracy : 94.13%\n"
     ]
    },
    {
     "name": "stderr",
     "output_type": "stream",
     "text": [
      "100%|██████████| 40/40 [00:00<00:00, 331.91it/s]\n"
     ]
    },
    {
     "name": "stdout",
     "output_type": "stream",
     "text": [
      "Epoch : 8, Train Accuracy : 94.17%\n"
     ]
    },
    {
     "name": "stderr",
     "output_type": "stream",
     "text": [
      "100%|██████████| 40/40 [00:00<00:00, 330.67it/s]\n"
     ]
    },
    {
     "name": "stdout",
     "output_type": "stream",
     "text": [
      "Epoch : 9, Train Accuracy : 94.40%\n"
     ]
    },
    {
     "name": "stderr",
     "output_type": "stream",
     "text": [
      "100%|██████████| 40/40 [00:00<00:00, 320.55it/s]"
     ]
    },
    {
     "name": "stdout",
     "output_type": "stream",
     "text": [
      "Epoch : 10, Train Accuracy : 94.84%\n"
     ]
    },
    {
     "name": "stderr",
     "output_type": "stream",
     "text": [
      "\n"
     ]
    }
   ],
   "source": [
    "class CNN_classifier(nn.Module):\n",
    "    def __init__(self, model):\n",
    "        super().__init__()\n",
    "        self.CNN = model\n",
    "        self.mlp = nn.Linear(100, 2) # Only two classes: major and minor\n",
    "\n",
    "    def forward(self, x):\n",
    "        x = self.CNN(x)\n",
    "        x = self.mlp(x)\n",
    "        return x\n",
    "\n",
    "\n",
    "classifier = CNN_classifier(model).to(device)\n",
    "classifier_loss = nn.CrossEntropyLoss()\n",
    "epochs = 10\n",
    "classifier.train()\n",
    "optimizer = torch.optim.Adam(classifier.parameters(), lr=1e-4)\n",
    "\n",
    "for i in range(1, epochs + 1):\n",
    "    correct = 0\n",
    "    for data, labels in tqdm(class_dataloader):\n",
    "        data, labels = data.to(device), labels.to(device)\n",
    "        # print(labels.min(), labels.max()) # Should print 0 and 1\n",
    "        logits = classifier(data)\n",
    "        loss = classifier_loss(logits, labels)\n",
    "\n",
    "        optimizer.zero_grad()\n",
    "        loss.backward()\n",
    "        optimizer.step()\n",
    "\n",
    "        correct += torch.sum(torch.argmax(logits, 1) == labels).item()\n",
    "\n",
    "    print('Epoch : %d, Train Accuracy : %.2f%%' % (i, correct * 100 / len(subset)))"
   ]
  },
  {
   "cell_type": "markdown",
   "id": "959ef1f0-9490-458a-a2f8-35afca8eea84",
   "metadata": {
    "execution": {
     "iopub.execute_input": "2023-08-08T07:49:22.774749Z",
     "iopub.status.busy": "2023-08-08T07:49:22.774234Z",
     "iopub.status.idle": "2023-08-08T07:49:22.779510Z",
     "shell.execute_reply": "2023-08-08T07:49:22.778527Z",
     "shell.execute_reply.started": "2023-08-08T07:49:22.774714Z"
    }
   },
   "source": [
    "### 2) Test Classification model"
   ]
  },
  {
   "cell_type": "code",
   "execution_count": 12,
   "id": "5dfc1bfd-c6bd-4e16-92e8-79d1c9844e1b",
   "metadata": {
    "execution": {
     "iopub.execute_input": "2023-08-11T06:36:07.796721Z",
     "iopub.status.busy": "2023-08-11T06:36:07.796259Z",
     "iopub.status.idle": "2023-08-11T06:36:07.939628Z",
     "shell.execute_reply": "2023-08-11T06:36:07.938865Z",
     "shell.execute_reply.started": "2023-08-11T06:36:07.796687Z"
    },
    "tags": []
   },
   "outputs": [
    {
     "name": "stderr",
     "output_type": "stream",
     "text": [
      "100%|██████████| 15/15 [00:00<00:00, 736.58it/s]"
     ]
    },
    {
     "name": "stdout",
     "output_type": "stream",
     "text": [
      "Test Accuracy : 95.62%\n"
     ]
    },
    {
     "name": "stderr",
     "output_type": "stream",
     "text": [
      "\n"
     ]
    }
   ],
   "source": [
    "testset = datasets.MNIST(root='./data', train=False, download=True, transform=MNIST_transform)\n",
    "\n",
    "# Prepare the custom test dataset\n",
    "test_major_class_num = 180 # You can set appropriate numbers\n",
    "test_minor_class_num = 60\n",
    "test_images = []\n",
    "test_targets = []\n",
    "\n",
    "for i in range(10):\n",
    "    class_indices = np.where(np.array(testset.targets) == i)[0]\n",
    "    num_samples = test_major_class_num if i < 3 else test_minor_class_num\n",
    "    selected_indices = class_indices[:num_samples]\n",
    "\n",
    "    for idx in selected_indices:\n",
    "        test_images.append(testset[idx][0])\n",
    "        test_targets.append(0 if i < 3 else 1) # New labels: 0 for major, 1 for minor\n",
    "\n",
    "# Convert to PyTorch tensors\n",
    "test_images = torch.stack(test_images)\n",
    "test_targets = torch.tensor(test_targets, dtype=torch.long)\n",
    "\n",
    "# Create a TensorDataset with the selected instances and modified labels\n",
    "test_subset = TensorDataset(test_images, test_targets)\n",
    "test_dataloader = DataLoader(test_subset, batch_size=64, shuffle=False)\n",
    "\n",
    "# Evaluate the classifier\n",
    "classifier.eval() # Set to evaluation mode\n",
    "correct = 0\n",
    "with torch.no_grad():\n",
    "    for data, labels in tqdm(test_dataloader):\n",
    "        data, labels = data.to(device), labels.to(device)\n",
    "        logits = classifier(data)\n",
    "        correct += torch.sum(torch.argmax(logits, 1) == labels).item()\n",
    "\n",
    "print('Test Accuracy : %.2f%%' % (correct * 100 / len(test_subset)))\n"
   ]
  },
  {
   "cell_type": "code",
   "execution_count": 18,
   "id": "ae760d03-d6e7-48a1-a3e1-4e3c8f6926d9",
   "metadata": {
    "execution": {
     "iopub.execute_input": "2023-08-11T06:45:11.847121Z",
     "iopub.status.busy": "2023-08-11T06:45:11.846482Z",
     "iopub.status.idle": "2023-08-11T06:45:12.250552Z",
     "shell.execute_reply": "2023-08-11T06:45:12.249775Z",
     "shell.execute_reply.started": "2023-08-11T06:45:11.847086Z"
    },
    "tags": []
   },
   "outputs": [
    {
     "name": "stderr",
     "output_type": "stream",
     "text": [
      "100%|██████████| 63/63 [00:00<00:00, 1355.83it/s]"
     ]
    },
    {
     "name": "stdout",
     "output_type": "stream",
     "text": [
      "Test Accuracy : 93.40%\n"
     ]
    },
    {
     "name": "stderr",
     "output_type": "stream",
     "text": [
      "\n"
     ]
    },
    {
     "data": {
      "image/png": "[encoded data removed]",
      "text/plain": [
       "<Figure size 800x600 with 2 Axes>"
      ]
     },
     "metadata": {},
     "output_type": "display_data"
    }
   ],
   "source": [
    "# Load the MNIST test set\n",
    "testset = MNIST(root='./data', train=False, download=True, transform=transforms.ToTensor())\n",
    "\n",
    "# Prepare the custom test dataset with 4000 instances\n",
    "test_images = []\n",
    "test_targets = []\n",
    "\n",
    "for i, (image, target) in enumerate(testset):\n",
    "    if len(test_images) >= 4000:\n",
    "        break\n",
    "    label = 0 if target < 3 else 1  # New labels: 0 for major, 1 for minor\n",
    "    test_images.append(image)\n",
    "    test_targets.append(label)\n",
    "\n",
    "# Convert to PyTorch tensors\n",
    "test_images = torch.stack(test_images)\n",
    "test_targets = torch.tensor(test_targets, dtype=torch.long)\n",
    "\n",
    "# Create a TensorDataset with the selected test instances and labels\n",
    "test_subset = TensorDataset(test_images, test_targets)\n",
    "test_dataloader = DataLoader(test_subset, batch_size=64, shuffle=False)\n",
    "\n",
    "# Testing the model\n",
    "classifier.eval()  # Set the model to evaluation mode\n",
    "correct = 0\n",
    "predicted_labels = []\n",
    "true_labels = []\n",
    "\n",
    "with torch.no_grad():\n",
    "    for data, labels in tqdm(test_dataloader):\n",
    "        data, labels = data.to(device), labels.to(device)\n",
    "        logits = classifier(data)\n",
    "        preds = torch.argmax(logits, 1)\n",
    "        correct += torch.sum(preds == labels).item()\n",
    "\n",
    "        # Store predicted and true labels\n",
    "        predicted_labels.extend(preds.cpu().numpy())\n",
    "        true_labels.extend(labels.cpu().numpy())\n",
    "\n",
    "print('Test Accuracy : %.2f%%' % (correct * 100 / len(test_subset)))\n",
    "\n",
    "# Create the confusion matrix\n",
    "confusion = np.zeros((2, 2), dtype=int)\n",
    "for true, pred in zip(true_labels, predicted_labels):\n",
    "    confusion[true][pred] += 1\n",
    "\n",
    "# Plot the confusion matrix\n",
    "plt.figure(figsize=(8, 6))\n",
    "sns.heatmap(confusion, annot=True, fmt=\"d\", cmap=\"Blues\", xticklabels=['Major', 'Minor'], yticklabels=['Major', 'Minor'])\n",
    "plt.title('Confusion Matrix')\n",
    "plt.ylabel('Actual Label')\n",
    "plt.xlabel('Predicted Label')\n",
    "plt.show()"
   ]
  }
 ],
 "metadata": {
  "kernelspec": {
   "display_name": "torch1.12.1-py3.8-cuda11.3",
   "language": "python",
   "name": "torch1.12.1-py3.8-cuda11.3"
  },
  "language_info": {
   "codemirror_mode": {
    "name": "ipython",
    "version": 3
   },
   "file_extension": ".py",
   "mimetype": "text/x-python",
   "name": "python",
   "nbconvert_exporter": "python",
   "pygments_lexer": "ipython3",
   "version": "3.8.10"
  }
 },
 "nbformat": 4,
 "nbformat_minor": 5
}

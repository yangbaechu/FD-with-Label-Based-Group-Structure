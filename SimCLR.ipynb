{
 "cells": [
  {
   "cell_type": "markdown",
   "id": "5dcc94fb-f197-4571-a4c8-c09c6f067fb1",
   "metadata": {},
   "source": [
    "## 1. Prepare Data, Network"
   ]
  },
  {
   "cell_type": "code",
   "execution_count": 1,
   "id": "407c1471-43b9-4740-901c-5527993b073c",
   "metadata": {
    "execution": {
     "iopub.execute_input": "2023-08-09T00:33:34.049118Z",
     "iopub.status.busy": "2023-08-09T00:33:34.048684Z",
     "iopub.status.idle": "2023-08-09T00:33:53.052333Z",
     "shell.execute_reply": "2023-08-09T00:33:53.051531Z",
     "shell.execute_reply.started": "2023-08-09T00:33:34.049092Z"
    }
   },
   "outputs": [
    {
     "name": "stderr",
     "output_type": "stream",
     "text": [
      "/usr/local/lib/python3.8/dist-packages/sklearn/datasets/_openml.py:932: FutureWarning: The default value of `parser` will change from `'liac-arff'` to `'auto'` in 1.4. You can set `parser='auto'` to silence this warning. Therefore, an `ImportError` will be raised from 1.4 if the dataset is dense and pandas is not installed. Note that the pandas parser may return different data types. See the Notes Section in fetch_openml's API doc for details.\n",
      "  warn(\n"
     ]
    },
    {
     "name": "stdout",
     "output_type": "stream",
     "text": [
      "torch.Size([6000, 1, 28, 28])\n",
      "torch.Size([6000])\n",
      "torch.Size([10000, 1, 28, 28])\n",
      "torch.Size([10000])\n"
     ]
    }
   ],
   "source": [
    "from sklearn.datasets import fetch_openml\n",
    "import torch\n",
    "import numpy as np\n",
    "\n",
    "mnist = fetch_openml('mnist_784')\n",
    "\n",
    "device = torch.device('cuda:0') if torch.cuda.is_available() else torch.device('cpu')\n",
    "\n",
    "X_train = torch.tensor(np.array(mnist.data)).float().reshape(-1, 1, 28, 28)[:6000].to(device)\n",
    "y_train = torch.tensor(np.array(list(map(np.int_, mnist.target))))[:6000].to(device)\n",
    "\n",
    "X_test = torch.tensor(np.array(mnist.data)).float().reshape(-1, 1, 28, 28)[60000:].to(device)\n",
    "y_test = torch.tensor(np.array(list(map(np.int_, mnist.target))))[60000:].to(device)\n",
    "\n",
    "print(X_train.shape) # torch.Size([60000, 1, 28, 28])\n",
    "print(y_train.shape) # torch.Size([60000])\n",
    "\n",
    "print(X_test.shape) # torch.Size([10000, 1, 28, 28])\n",
    "print(y_test.shape) # torch.Size([10000])"
   ]
  },
  {
   "cell_type": "code",
   "execution_count": 2,
   "id": "c095b4e6-4e97-4f81-936b-0848621b4355",
   "metadata": {
    "execution": {
     "iopub.execute_input": "2023-08-09T00:33:53.053673Z",
     "iopub.status.busy": "2023-08-09T00:33:53.053278Z",
     "iopub.status.idle": "2023-08-09T00:33:53.057208Z",
     "shell.execute_reply": "2023-08-09T00:33:53.056765Z",
     "shell.execute_reply.started": "2023-08-09T00:33:53.053655Z"
    }
   },
   "outputs": [],
   "source": [
    "def cutout_and_rotate(image):\n",
    "    image = image.clone().detach() # 얕은 복사 문제 주의(원본 유지)\n",
    "    x_start = np.random.randint(20) # cut out 시작할 x축 위치(0~19 중 1개)\n",
    "    y_start = np.random.randint(20) # cut out 시작할 y축 위치(0~19 중 1개)\n",
    "\n",
    "    image[..., x_start:x_start+9, y_start:y_start+9] = 255 / 2 # 해당 부분 회색 마킹\n",
    "    return torch.rot90(image, 1, [-2, -1]) # 마지막 두 axis 기준 90도 회전"
   ]
  },
  {
   "cell_type": "code",
   "execution_count": 3,
   "id": "0d3a2744-b6d5-48a9-a28a-f8780b826a59",
   "metadata": {
    "execution": {
     "iopub.execute_input": "2023-08-09T00:33:53.058074Z",
     "iopub.status.busy": "2023-08-09T00:33:53.057761Z",
     "iopub.status.idle": "2023-08-09T00:33:53.062038Z",
     "shell.execute_reply": "2023-08-09T00:33:53.061495Z",
     "shell.execute_reply.started": "2023-08-09T00:33:53.058061Z"
    }
   },
   "outputs": [],
   "source": [
    "import torch.nn as nn\n",
    "import torch.nn.functional as F\n",
    "\n",
    "class CNN(nn.Module):\n",
    "    def __init__(self):\n",
    "        super(CNN, self).__init__()\n",
    "        self.conv1 = nn.Conv2d(in_channels=1, out_channels=10, kernel_size=5, stride=1)\n",
    "        self.conv2 = nn.Conv2d(in_channels=10, out_channels=20, kernel_size=5, stride=1)\n",
    "        self.fc = nn.Linear(4 * 4 * 20, 100)\n",
    "\n",
    "    def forward(self, x):\n",
    "        x = F.relu(self.conv1(x)) # (batch, 1, 28, 28) -> (batch, 10, 24, 24)\n",
    "\n",
    "        x = F.max_pool2d(x, kernel_size=2, stride=2) # (batch, 10, 24, 24) -> (batch, 10, 12, 12)\n",
    "\n",
    "        x = F.relu(self.conv2(x)) # (batch, 10, 12, 12) -> (batch, 20, 8, 8)\n",
    "\n",
    "        x = F.max_pool2d(x, kernel_size=2, stride=2) # (batch, 20, 8, 8) -> (batch, 20, 4, 4)\n",
    "\n",
    "        x = x.view(-1, 4 * 4 * 20) # (batch, 20, 4, 4) -> (batch, 320)\n",
    "\n",
    "        x = F.relu(self.fc(x)) # (batch, 320) -> (batch, 100)\n",
    "        return x # (batch, 100)"
   ]
  },
  {
   "cell_type": "code",
   "execution_count": 4,
   "id": "389537d6-1aa2-4aac-9045-4cbf692cb0c3",
   "metadata": {
    "execution": {
     "iopub.execute_input": "2023-08-09T00:33:53.063571Z",
     "iopub.status.busy": "2023-08-09T00:33:53.063220Z",
     "iopub.status.idle": "2023-08-09T00:33:53.068678Z",
     "shell.execute_reply": "2023-08-09T00:33:53.068265Z",
     "shell.execute_reply.started": "2023-08-09T00:33:53.063557Z"
    },
    "tags": []
   },
   "outputs": [],
   "source": [
    "class SimCLR_Loss(nn.Module):\n",
    "    def __init__(self, batch_size, temperature):\n",
    "        super().__init__()\n",
    "        self.batch_size = batch_size\n",
    "        self.temperature = temperature\n",
    "\n",
    "        self.mask = self.mask_correlated_samples(batch_size)\n",
    "        self.criterion = nn.CrossEntropyLoss(reduction=\"sum\")\n",
    "        self.similarity_f = nn.CosineSimilarity(dim=2)\n",
    "\n",
    "    # loss 분모 부분의 negative sample 간의 내적 합만을 가져오기 위한 마스킹 행렬\n",
    "    def mask_correlated_samples(self, batch_size):\n",
    "        N = 2 * batch_size\n",
    "        mask = torch.ones((N, N), dtype=bool)\n",
    "        mask = mask.fill_diagonal_(0)\n",
    "        \n",
    "        for i in range(batch_size):\n",
    "            mask[i, batch_size + i] = 0\n",
    "            mask[batch_size + i, i] = 0\n",
    "        return mask\n",
    "\n",
    "    def forward(self, z_i, z_j):\n",
    "\n",
    "        N = 2 * self.batch_size\n",
    "\n",
    "        z = torch.cat((z_i, z_j), dim=0)\n",
    "\n",
    "        sim = self.similarity_f(z.unsqueeze(1), z.unsqueeze(0)) / self.temperature\n",
    "\n",
    "        # loss 분자 부분의 원본 - augmentation 이미지 간의 내적 합을 가져오기 위한 부분\n",
    "        sim_i_j = torch.diag(sim, self.batch_size)\n",
    "        sim_j_i = torch.diag(sim, -self.batch_size)\n",
    "        \n",
    "        positive_samples = torch.cat((sim_i_j, sim_j_i), dim=0).reshape(N, 1)\n",
    "        negative_samples = sim[self.mask].reshape(N, -1)\n",
    "\n",
    "\n",
    "        labels = torch.from_numpy(np.array([0]*N)).reshape(-1).to(positive_samples.device).long()\n",
    "\n",
    "        logits = torch.cat((positive_samples, negative_samples), dim=1)\n",
    "        loss = self.criterion(logits, labels)\n",
    "        loss /= N\n",
    "        \n",
    "        return loss"
   ]
  },
  {
   "cell_type": "markdown",
   "id": "698e59dd-c8a0-4a5c-8db2-ac1d14c6cd13",
   "metadata": {},
   "source": [
    "## 2. Representation Learning"
   ]
  },
  {
   "cell_type": "code",
   "execution_count": 5,
   "id": "08165b15-664c-49b8-a7f6-f7ca637a2bdd",
   "metadata": {
    "execution": {
     "iopub.execute_input": "2023-08-09T00:33:53.069517Z",
     "iopub.status.busy": "2023-08-09T00:33:53.069210Z",
     "iopub.status.idle": "2023-08-09T00:33:58.405386Z",
     "shell.execute_reply": "2023-08-09T00:33:58.404478Z",
     "shell.execute_reply.started": "2023-08-09T00:33:53.069496Z"
    },
    "tags": []
   },
   "outputs": [
    {
     "data": {
      "application/vnd.jupyter.widget-view+json": {
       "model_id": "3892486e3c324e06a9c647d46c5841ed",
       "version_major": 2,
       "version_minor": 0
      },
      "text/plain": [
       "  0%|          | 0/60 [00:00<?, ?it/s]"
      ]
     },
     "metadata": {},
     "output_type": "display_data"
    },
    {
     "name": "stdout",
     "output_type": "stream",
     "text": [
      "Epoch : 1, Avg Loss : 5.1635\n"
     ]
    },
    {
     "data": {
      "application/vnd.jupyter.widget-view+json": {
       "model_id": "e5bb1d6d98ff456183d8f1406d01b14e",
       "version_major": 2,
       "version_minor": 0
      },
      "text/plain": [
       "  0%|          | 0/60 [00:00<?, ?it/s]"
      ]
     },
     "metadata": {},
     "output_type": "display_data"
    },
    {
     "name": "stdout",
     "output_type": "stream",
     "text": [
      "Epoch : 2, Avg Loss : 4.5886\n"
     ]
    },
    {
     "data": {
      "application/vnd.jupyter.widget-view+json": {
       "model_id": "77aae9f969604c64b0e4bfddbec0390c",
       "version_major": 2,
       "version_minor": 0
      },
      "text/plain": [
       "  0%|          | 0/60 [00:00<?, ?it/s]"
      ]
     },
     "metadata": {},
     "output_type": "display_data"
    },
    {
     "name": "stdout",
     "output_type": "stream",
     "text": [
      "Epoch : 3, Avg Loss : 4.3515\n"
     ]
    },
    {
     "data": {
      "application/vnd.jupyter.widget-view+json": {
       "model_id": "63144b296588438bb88f1859c97907f6",
       "version_major": 2,
       "version_minor": 0
      },
      "text/plain": [
       "  0%|          | 0/60 [00:00<?, ?it/s]"
      ]
     },
     "metadata": {},
     "output_type": "display_data"
    },
    {
     "name": "stdout",
     "output_type": "stream",
     "text": [
      "Epoch : 4, Avg Loss : 4.2582\n"
     ]
    },
    {
     "data": {
      "application/vnd.jupyter.widget-view+json": {
       "model_id": "44fecc1802b046318f5c43d2774fa26b",
       "version_major": 2,
       "version_minor": 0
      },
      "text/plain": [
       "  0%|          | 0/60 [00:00<?, ?it/s]"
      ]
     },
     "metadata": {},
     "output_type": "display_data"
    },
    {
     "name": "stdout",
     "output_type": "stream",
     "text": [
      "Epoch : 5, Avg Loss : 4.1908\n"
     ]
    },
    {
     "data": {
      "application/vnd.jupyter.widget-view+json": {
       "model_id": "469a2ec7749a42aaae4dea9773315313",
       "version_major": 2,
       "version_minor": 0
      },
      "text/plain": [
       "  0%|          | 0/60 [00:00<?, ?it/s]"
      ]
     },
     "metadata": {},
     "output_type": "display_data"
    },
    {
     "name": "stdout",
     "output_type": "stream",
     "text": [
      "Epoch : 6, Avg Loss : 4.1398\n"
     ]
    },
    {
     "data": {
      "application/vnd.jupyter.widget-view+json": {
       "model_id": "a2fa40747aef451b89f67bed3f3ca481",
       "version_major": 2,
       "version_minor": 0
      },
      "text/plain": [
       "  0%|          | 0/60 [00:00<?, ?it/s]"
      ]
     },
     "metadata": {},
     "output_type": "display_data"
    },
    {
     "name": "stdout",
     "output_type": "stream",
     "text": [
      "Epoch : 7, Avg Loss : 4.1013\n"
     ]
    },
    {
     "data": {
      "application/vnd.jupyter.widget-view+json": {
       "model_id": "9e0239ec0863485ab7f62ee98235aaa6",
       "version_major": 2,
       "version_minor": 0
      },
      "text/plain": [
       "  0%|          | 0/60 [00:00<?, ?it/s]"
      ]
     },
     "metadata": {},
     "output_type": "display_data"
    },
    {
     "name": "stdout",
     "output_type": "stream",
     "text": [
      "Epoch : 8, Avg Loss : 4.0849\n"
     ]
    },
    {
     "data": {
      "application/vnd.jupyter.widget-view+json": {
       "model_id": "a0708e75e52f464bb6e6aefd3ff1a56f",
       "version_major": 2,
       "version_minor": 0
      },
      "text/plain": [
       "  0%|          | 0/60 [00:00<?, ?it/s]"
      ]
     },
     "metadata": {},
     "output_type": "display_data"
    },
    {
     "name": "stdout",
     "output_type": "stream",
     "text": [
      "Epoch : 9, Avg Loss : 4.0585\n"
     ]
    },
    {
     "data": {
      "application/vnd.jupyter.widget-view+json": {
       "model_id": "1893598ef5034efe9ceb1d3691560bcf",
       "version_major": 2,
       "version_minor": 0
      },
      "text/plain": [
       "  0%|          | 0/60 [00:00<?, ?it/s]"
      ]
     },
     "metadata": {},
     "output_type": "display_data"
    },
    {
     "name": "stdout",
     "output_type": "stream",
     "text": [
      "Epoch : 10, Avg Loss : 4.0338\n"
     ]
    }
   ],
   "source": [
    "from torch.utils.data import TensorDataset\n",
    "from torch.utils.data import DataLoader\n",
    "from tqdm.notebook import tqdm\n",
    "\n",
    "X_train_aug = cutout_and_rotate(X_train) # 각 X_train 데이터에 대하여 augmentation\n",
    "X_train_aug = X_train_aug.to(device) # 학습을 위하여 GPU에 선언\n",
    "\n",
    "dataset = TensorDataset(X_train, X_train_aug) # augmentation된 데이터와 pair\n",
    "batch_size = 100\n",
    "\n",
    "dataloader = DataLoader(\n",
    "            dataset,\n",
    "            batch_size = batch_size)\n",
    "\n",
    "model = CNN() # 모델 변수 선언\n",
    "loss_func = SimCLR_Loss(batch_size, temperature = 0.5) # loss 함수 선언\n",
    "\n",
    "# train 코드 예시\n",
    "epochs = 10\n",
    "model.to(device)\n",
    "model.train()\n",
    "\n",
    "optimizer = torch.optim.Adam(model.parameters(), lr=1e-4)\n",
    "\n",
    "for i in range(1, epochs + 1):\n",
    "    total_loss = 0\n",
    "    for data in tqdm(dataloader):\n",
    "        origin_vec = model(data[0])\n",
    "        aug_vec = model(data[1])\n",
    "\n",
    "        loss = loss_func(origin_vec, aug_vec)\n",
    "        total_loss += loss.item()\n",
    "\n",
    "        optimizer.zero_grad()\n",
    "        loss.backward()\n",
    "        optimizer.step()\n",
    "\n",
    "    print('Epoch : %d, Avg Loss : %.4f'%(i, total_loss / len(dataloader)))"
   ]
  },
  {
   "cell_type": "markdown",
   "id": "488659ad-54aa-4204-aadf-631d98180976",
   "metadata": {},
   "source": [
    "## 3. Classification"
   ]
  },
  {
   "cell_type": "markdown",
   "id": "31acac92-5ffe-4555-9df0-0b62993889fd",
   "metadata": {
    "execution": {
     "iopub.execute_input": "2023-08-08T07:44:08.749883Z",
     "iopub.status.busy": "2023-08-08T07:44:08.749342Z",
     "iopub.status.idle": "2023-08-08T07:44:08.755487Z",
     "shell.execute_reply": "2023-08-08T07:44:08.754319Z",
     "shell.execute_reply.started": "2023-08-08T07:44:08.749845Z"
    }
   },
   "source": [
    "### 1) Prepare dataset"
   ]
  },
  {
   "cell_type": "code",
   "execution_count": 6,
   "id": "bfd50b77-0847-4c3e-87be-9393a0c07b74",
   "metadata": {
    "execution": {
     "iopub.execute_input": "2023-08-09T00:33:58.406834Z",
     "iopub.status.busy": "2023-08-09T00:33:58.406503Z",
     "iopub.status.idle": "2023-08-09T00:33:58.940723Z",
     "shell.execute_reply": "2023-08-09T00:33:58.939365Z",
     "shell.execute_reply.started": "2023-08-09T00:33:58.406817Z"
    },
    "tags": []
   },
   "outputs": [],
   "source": [
    "from torchvision.datasets import MNIST\n",
    "from torch.utils.data import DataLoader, TensorDataset\n",
    "import torch\n",
    "import torch.nn as nn\n",
    "from tqdm import tqdm\n",
    "from torchvision import datasets, transforms\n",
    "\n",
    "MNIST_transform = transforms.Compose([\n",
    "    transforms.ToTensor(),\n",
    "    transforms.Normalize((0.1307,), (0.3081,))\n",
    "])\n",
    "\n",
    "trainset = datasets.MNIST(root='./data', train=True, download=True, transform=MNIST_transform)\n",
    "# Prepare the custom dataset\n",
    "major_class_num = 280\n",
    "minor_class_num = 120\n",
    "images = []\n",
    "targets = []\n",
    "\n",
    "for i in range(10):\n",
    "    class_indices = np.where(np.array(trainset.targets) == i)[0]\n",
    "    num_samples = major_class_num if i < 3 else minor_class_num\n",
    "    selected_indices = class_indices[:num_samples]\n",
    "\n",
    "    for idx in selected_indices:\n",
    "        images.append(trainset[idx][0])\n",
    "        targets.append(0 if i < 3 else 1) # New labels: 0 for major, 1 for minor\n",
    "\n",
    "# Convert to PyTorch tensors\n",
    "images = torch.stack(images)\n",
    "targets = torch.tensor(targets, dtype=torch.long)\n",
    "\n",
    "# Create a TensorDataset with the selected instances and modified labels\n",
    "subset = TensorDataset(images, targets)\n",
    "class_dataloader = DataLoader(subset, batch_size=64, shuffle=True)\n"
   ]
  },
  {
   "cell_type": "markdown",
   "id": "6fe497dd-dcb2-490d-8ba4-721cc185f58b",
   "metadata": {},
   "source": [
    "### 2) Train Classifier"
   ]
  },
  {
   "cell_type": "code",
   "execution_count": 7,
   "id": "4dc25123-3be1-46ae-a1c4-4a491ed5746e",
   "metadata": {
    "execution": {
     "iopub.execute_input": "2023-08-09T00:33:58.942435Z",
     "iopub.status.busy": "2023-08-09T00:33:58.942223Z",
     "iopub.status.idle": "2023-08-09T00:33:59.090545Z",
     "shell.execute_reply": "2023-08-09T00:33:59.089187Z",
     "shell.execute_reply.started": "2023-08-09T00:33:58.942417Z"
    },
    "tags": []
   },
   "outputs": [
    {
     "name": "stderr",
     "output_type": "stream",
     "text": [
      "  0%|          | 0/188 [00:00<?, ?it/s]../aten/src/ATen/native/cuda/Loss.cu:271: nll_loss_forward_reduce_cuda_kernel_2d: block: [0,0,0], thread: [0,0,0] Assertion `t >= 0 && t < n_classes` failed.\n",
      "../aten/src/ATen/native/cuda/Loss.cu:271: nll_loss_forward_reduce_cuda_kernel_2d: block: [0,0,0], thread: [2,0,0] Assertion `t >= 0 && t < n_classes` failed.\n",
      "../aten/src/ATen/native/cuda/Loss.cu:271: nll_loss_forward_reduce_cuda_kernel_2d: block: [0,0,0], thread: [4,0,0] Assertion `t >= 0 && t < n_classes` failed.\n",
      "../aten/src/ATen/native/cuda/Loss.cu:271: nll_loss_forward_reduce_cuda_kernel_2d: block: [0,0,0], thread: [5,0,0] Assertion `t >= 0 && t < n_classes` failed.\n",
      "../aten/src/ATen/native/cuda/Loss.cu:271: nll_loss_forward_reduce_cuda_kernel_2d: block: [0,0,0], thread: [7,0,0] Assertion `t >= 0 && t < n_classes` failed.\n",
      "../aten/src/ATen/native/cuda/Loss.cu:271: nll_loss_forward_reduce_cuda_kernel_2d: block: [0,0,0], thread: [9,0,0] Assertion `t >= 0 && t < n_classes` failed.\n",
      "../aten/src/ATen/native/cuda/Loss.cu:271: nll_loss_forward_reduce_cuda_kernel_2d: block: [0,0,0], thread: [10,0,0] Assertion `t >= 0 && t < n_classes` failed.\n",
      "../aten/src/ATen/native/cuda/Loss.cu:271: nll_loss_forward_reduce_cuda_kernel_2d: block: [0,0,0], thread: [11,0,0] Assertion `t >= 0 && t < n_classes` failed.\n",
      "../aten/src/ATen/native/cuda/Loss.cu:271: nll_loss_forward_reduce_cuda_kernel_2d: block: [0,0,0], thread: [12,0,0] Assertion `t >= 0 && t < n_classes` failed.\n",
      "../aten/src/ATen/native/cuda/Loss.cu:271: nll_loss_forward_reduce_cuda_kernel_2d: block: [0,0,0], thread: [13,0,0] Assertion `t >= 0 && t < n_classes` failed.\n",
      "../aten/src/ATen/native/cuda/Loss.cu:271: nll_loss_forward_reduce_cuda_kernel_2d: block: [0,0,0], thread: [15,0,0] Assertion `t >= 0 && t < n_classes` failed.\n",
      "../aten/src/ATen/native/cuda/Loss.cu:271: nll_loss_forward_reduce_cuda_kernel_2d: block: [0,0,0], thread: [16,0,0] Assertion `t >= 0 && t < n_classes` failed.\n",
      "../aten/src/ATen/native/cuda/Loss.cu:271: nll_loss_forward_reduce_cuda_kernel_2d: block: [0,0,0], thread: [17,0,0] Assertion `t >= 0 && t < n_classes` failed.\n",
      "../aten/src/ATen/native/cuda/Loss.cu:271: nll_loss_forward_reduce_cuda_kernel_2d: block: [0,0,0], thread: [18,0,0] Assertion `t >= 0 && t < n_classes` failed.\n",
      "../aten/src/ATen/native/cuda/Loss.cu:271: nll_loss_forward_reduce_cuda_kernel_2d: block: [0,0,0], thread: [19,0,0] Assertion `t >= 0 && t < n_classes` failed.\n",
      "../aten/src/ATen/native/cuda/Loss.cu:271: nll_loss_forward_reduce_cuda_kernel_2d: block: [0,0,0], thread: [20,0,0] Assertion `t >= 0 && t < n_classes` failed.\n",
      "../aten/src/ATen/native/cuda/Loss.cu:271: nll_loss_forward_reduce_cuda_kernel_2d: block: [0,0,0], thread: [22,0,0] Assertion `t >= 0 && t < n_classes` failed.\n",
      "../aten/src/ATen/native/cuda/Loss.cu:271: nll_loss_forward_reduce_cuda_kernel_2d: block: [0,0,0], thread: [25,0,0] Assertion `t >= 0 && t < n_classes` failed.\n",
      "../aten/src/ATen/native/cuda/Loss.cu:271: nll_loss_forward_reduce_cuda_kernel_2d: block: [0,0,0], thread: [26,0,0] Assertion `t >= 0 && t < n_classes` failed.\n",
      "../aten/src/ATen/native/cuda/Loss.cu:271: nll_loss_forward_reduce_cuda_kernel_2d: block: [0,0,0], thread: [27,0,0] Assertion `t >= 0 && t < n_classes` failed.\n",
      "../aten/src/ATen/native/cuda/Loss.cu:271: nll_loss_forward_reduce_cuda_kernel_2d: block: [0,0,0], thread: [28,0,0] Assertion `t >= 0 && t < n_classes` failed.\n",
      "../aten/src/ATen/native/cuda/Loss.cu:271: nll_loss_forward_reduce_cuda_kernel_2d: block: [0,0,0], thread: [29,0,0] Assertion `t >= 0 && t < n_classes` failed.\n",
      "../aten/src/ATen/native/cuda/Loss.cu:271: nll_loss_forward_reduce_cuda_kernel_2d: block: [0,0,0], thread: [30,0,0] Assertion `t >= 0 && t < n_classes` failed.\n",
      "../aten/src/ATen/native/cuda/Loss.cu:271: nll_loss_forward_reduce_cuda_kernel_2d: block: [0,0,0], thread: [31,0,0] Assertion `t >= 0 && t < n_classes` failed.\n",
      "  0%|          | 0/188 [00:00<?, ?it/s]\n"
     ]
    },
    {
     "ename": "RuntimeError",
     "evalue": "CUDA error: device-side assert triggered\nCUDA kernel errors might be asynchronously reported at some other API call,so the stacktrace below might be incorrect.\nFor debugging consider passing CUDA_LAUNCH_BLOCKING=1.",
     "output_type": "error",
     "traceback": [
      "\u001b[0;31m---------------------------------------------------------------------------\u001b[0m",
      "\u001b[0;31mRuntimeError\u001b[0m                              Traceback (most recent call last)",
      "Cell \u001b[0;32mIn[7], line 36\u001b[0m\n\u001b[1;32m     33\u001b[0m     loss\u001b[38;5;241m.\u001b[39mbackward()\n\u001b[1;32m     34\u001b[0m     optimizer\u001b[38;5;241m.\u001b[39mstep()\n\u001b[0;32m---> 36\u001b[0m     correct \u001b[38;5;241m+\u001b[39m\u001b[38;5;241m=\u001b[39m \u001b[43mtorch\u001b[49m\u001b[38;5;241;43m.\u001b[39;49m\u001b[43msum\u001b[49m\u001b[43m(\u001b[49m\u001b[43mtorch\u001b[49m\u001b[38;5;241;43m.\u001b[39;49m\u001b[43margmax\u001b[49m\u001b[43m(\u001b[49m\u001b[43mlogits\u001b[49m\u001b[43m,\u001b[49m\u001b[43m \u001b[49m\u001b[38;5;241;43m1\u001b[39;49m\u001b[43m)\u001b[49m\u001b[43m \u001b[49m\u001b[38;5;241;43m==\u001b[39;49m\u001b[43m \u001b[49m\u001b[43mlabels\u001b[49m\u001b[43m)\u001b[49m\u001b[38;5;241;43m.\u001b[39;49m\u001b[43mitem\u001b[49m\u001b[43m(\u001b[49m\u001b[43m)\u001b[49m\n\u001b[1;32m     38\u001b[0m \u001b[38;5;28mprint\u001b[39m(\u001b[38;5;124m'\u001b[39m\u001b[38;5;124mEpoch : \u001b[39m\u001b[38;5;132;01m%d\u001b[39;00m\u001b[38;5;124m, Train Accuracy : \u001b[39m\u001b[38;5;132;01m%.2f\u001b[39;00m\u001b[38;5;132;01m%%\u001b[39;00m\u001b[38;5;124m'\u001b[39m \u001b[38;5;241m%\u001b[39m (i, correct \u001b[38;5;241m*\u001b[39m \u001b[38;5;241m100\u001b[39m \u001b[38;5;241m/\u001b[39m \u001b[38;5;28mlen\u001b[39m(subset)))\n",
      "\u001b[0;31mRuntimeError\u001b[0m: CUDA error: device-side assert triggered\nCUDA kernel errors might be asynchronously reported at some other API call,so the stacktrace below might be incorrect.\nFor debugging consider passing CUDA_LAUNCH_BLOCKING=1."
     ]
    }
   ],
   "source": [
    "class CNN_classifier(nn.Module):\n",
    "    def __init__(self, model):\n",
    "        super().__init__()\n",
    "        self.CNN = model\n",
    "        self.mlp = nn.Linear(100, 2) # Only two classes: major and minor\n",
    "\n",
    "    def forward(self, x):\n",
    "        x = self.CNN(x)\n",
    "        x = self.mlp(x)\n",
    "        return x\n",
    "    \n",
    "class_dataset = TensorDataset(X_train, y_train) # 데이터와 라벨 간의 pair\n",
    "batch_size = 32\n",
    "\n",
    "class_dataloader = DataLoader(\n",
    "            class_dataset,\n",
    "            batch_size = batch_size)\n",
    "\n",
    "classifier = CNN_classifier(model).to(device)\n",
    "classifier_loss = nn.CrossEntropyLoss()\n",
    "epochs = 10\n",
    "classifier.train()\n",
    "optimizer = torch.optim.Adam(classifier.parameters(), lr=1e-4)\n",
    "\n",
    "for i in range(1, epochs + 1):\n",
    "    correct = 0\n",
    "    for data, labels in tqdm(class_dataloader):\n",
    "        data, labels = data.to(device), labels.to(device)\n",
    "        logits = classifier(data)\n",
    "        loss = classifier_loss(logits, labels)\n",
    "\n",
    "        optimizer.zero_grad()\n",
    "        loss.backward()\n",
    "        optimizer.step()\n",
    "\n",
    "        correct += torch.sum(torch.argmax(logits, 1) == labels).item()\n",
    "\n",
    "    print('Epoch : %d, Train Accuracy : %.2f%%' % (i, correct * 100 / len(subset)))"
   ]
  },
  {
   "cell_type": "markdown",
   "id": "959ef1f0-9490-458a-a2f8-35afca8eea84",
   "metadata": {
    "execution": {
     "iopub.execute_input": "2023-08-08T07:49:22.774749Z",
     "iopub.status.busy": "2023-08-08T07:49:22.774234Z",
     "iopub.status.idle": "2023-08-08T07:49:22.779510Z",
     "shell.execute_reply": "2023-08-08T07:49:22.778527Z",
     "shell.execute_reply.started": "2023-08-08T07:49:22.774714Z"
    }
   },
   "source": [
    "### 2) Test Classification model"
   ]
  },
  {
   "cell_type": "code",
   "execution_count": null,
   "id": "5dfc1bfd-c6bd-4e16-92e8-79d1c9844e1b",
   "metadata": {
    "execution": {
     "iopub.status.busy": "2023-08-09T00:33:59.091410Z",
     "iopub.status.idle": "2023-08-09T00:33:59.091842Z",
     "shell.execute_reply": "2023-08-09T00:33:59.091731Z",
     "shell.execute_reply.started": "2023-08-09T00:33:59.091721Z"
    },
    "tags": []
   },
   "outputs": [],
   "source": [
    "testset = datasets.MNIST(root='./data', train=False, download=True, transform=MNIST_transform)\n",
    "\n",
    "# Prepare the custom test dataset\n",
    "test_major_class_num = 180 # You can set appropriate numbers\n",
    "test_minor_class_num = 60\n",
    "test_images = []\n",
    "test_targets = []\n",
    "\n",
    "for i in range(10):\n",
    "    class_indices = np.where(np.array(testset.targets) == i)[0]\n",
    "    num_samples = test_major_class_num if i < 3 else test_minor_class_num\n",
    "    selected_indices = class_indices[:num_samples]\n",
    "\n",
    "    for idx in selected_indices:\n",
    "        test_images.append(testset[idx][0])\n",
    "        test_targets.append(0 if i < 3 else 1) # New labels: 0 for major, 1 for minor\n",
    "\n",
    "# Convert to PyTorch tensors\n",
    "test_images = torch.stack(test_images)\n",
    "test_targets = torch.tensor(test_targets, dtype=torch.long)\n",
    "\n",
    "# Create a TensorDataset with the selected instances and modified labels\n",
    "test_subset = TensorDataset(test_images, test_targets)\n",
    "test_dataloader = DataLoader(test_subset, batch_size=64, shuffle=False)\n",
    "\n",
    "# Evaluate the classifier\n",
    "classifier.eval() # Set to evaluation mode\n",
    "correct = 0\n",
    "with torch.no_grad():\n",
    "    for data, labels in tqdm(test_dataloader):\n",
    "        data, labels = data.to(device), labels.to(device)\n",
    "        logits = classifier(data)\n",
    "        correct += torch.sum(torch.argmax(logits, 1) == labels).item()\n",
    "\n",
    "print('Test Accuracy : %.2f%%' % (correct * 100 / len(test_subset)))\n"
   ]
  },
  {
   "cell_type": "code",
   "execution_count": null,
   "id": "ae760d03-d6e7-48a1-a3e1-4e3c8f6926d9",
   "metadata": {
    "execution": {
     "iopub.status.busy": "2023-08-09T00:33:59.093428Z",
     "iopub.status.idle": "2023-08-09T00:33:59.094094Z",
     "shell.execute_reply": "2023-08-09T00:33:59.093946Z",
     "shell.execute_reply.started": "2023-08-09T00:33:59.093933Z"
    }
   },
   "outputs": [],
   "source": [
    "# Load the MNIST test set\n",
    "testset = MNIST(root='./data', train=False, download=True, transform=transforms.ToTensor())\n",
    "\n",
    "# Prepare the custom test dataset with 4000 instances\n",
    "test_images = []\n",
    "test_targets = []\n",
    "\n",
    "for i, (image, target) in enumerate(testset):\n",
    "    if len(test_images) >= 4000:\n",
    "        break\n",
    "    label = 0 if target < 3 else 1  # New labels: 0 for major, 1 for minor\n",
    "    test_images.append(image)\n",
    "    test_targets.append(label)\n",
    "\n",
    "# Convert to PyTorch tensors\n",
    "test_images = torch.stack(test_images)\n",
    "test_targets = torch.tensor(test_targets, dtype=torch.long)\n",
    "\n",
    "# Create a TensorDataset with the selected test instances and labels\n",
    "test_subset = TensorDataset(test_images, test_targets)\n",
    "test_dataloader = DataLoader(test_subset, batch_size=64, shuffle=False)\n",
    "\n",
    "# Testing the model\n",
    "classifier.eval()  # Set the model to evaluation mode\n",
    "correct = 0\n",
    "with torch.no_grad():\n",
    "    for data, labels in tqdm(test_dataloader):\n",
    "        data, labels = data.to(device), labels.to(device)\n",
    "        logits = classifier(data)\n",
    "        correct += torch.sum(torch.argmax(logits, 1) == labels).item()\n",
    "\n",
    "print('Test Accuracy : %.2f%%' % (correct * 100 / len(test_subset)))\n"
   ]
  },
  {
   "cell_type": "code",
   "execution_count": null,
   "id": "382f67d4-b2f6-49c6-a132-5e5a17972a53",
   "metadata": {},
   "outputs": [],
   "source": []
  }
 ],
 "metadata": {
  "kernelspec": {
   "display_name": "torch1.12.1-py3.8-cuda11.3",
   "language": "python",
   "name": "torch1.12.1-py3.8-cuda11.3"
  },
  "language_info": {
   "codemirror_mode": {
    "name": "ipython",
    "version": 3
   },
   "file_extension": ".py",
   "mimetype": "text/x-python",
   "name": "python",
   "nbconvert_exporter": "python",
   "pygments_lexer": "ipython3",
   "version": "3.8.10"
  }
 },
 "nbformat": 4,
 "nbformat_minor": 5
}

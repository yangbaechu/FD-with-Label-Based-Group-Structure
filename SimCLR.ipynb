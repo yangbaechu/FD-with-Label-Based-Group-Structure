{
 "cells": [
  {
   "cell_type": "markdown",
   "id": "5dcc94fb-f197-4571-a4c8-c09c6f067fb1",
   "metadata": {},
   "source": [
    "## 1. Prepare Data, Network"
   ]
  },
  {
   "cell_type": "code",
   "execution_count": 1,
   "id": "407c1471-43b9-4740-901c-5527993b073c",
   "metadata": {
    "execution": {
     "iopub.execute_input": "2023-08-15T11:50:57.716035Z",
     "iopub.status.busy": "2023-08-15T11:50:57.715830Z",
     "iopub.status.idle": "2023-08-15T11:51:16.910332Z",
     "shell.execute_reply": "2023-08-15T11:51:16.908844Z",
     "shell.execute_reply.started": "2023-08-15T11:50:57.716015Z"
    },
    "tags": []
   },
   "outputs": [
    {
     "name": "stderr",
     "output_type": "stream",
     "text": [
      "/usr/local/lib/python3.8/dist-packages/sklearn/datasets/_openml.py:932: FutureWarning: The default value of `parser` will change from `'liac-arff'` to `'auto'` in 1.4. You can set `parser='auto'` to silence this warning. Therefore, an `ImportError` will be raised from 1.4 if the dataset is dense and pandas is not installed. Note that the pandas parser may return different data types. See the Notes Section in fetch_openml's API doc for details.\n",
      "  warn(\n"
     ]
    },
    {
     "name": "stdout",
     "output_type": "stream",
     "text": [
      "torch.Size([6000, 1, 28, 28])\n",
      "torch.Size([6000])\n",
      "torch.Size([10000, 1, 28, 28])\n",
      "torch.Size([10000])\n"
     ]
    }
   ],
   "source": [
    "from sklearn.datasets import fetch_openml\n",
    "import torch\n",
    "import numpy as np\n",
    "import matplotlib.pyplot as plt\n",
    "\n",
    "mnist = fetch_openml('mnist_784')\n",
    "\n",
    "device = torch.device('cuda:0') if torch.cuda.is_available() else torch.device('cpu')\n",
    "\n",
    "X_train = torch.tensor(np.array(mnist.data)).float().reshape(-1, 1, 28, 28)[:6000].to(device)\n",
    "y_train = torch.tensor(np.array(list(map(np.int_, mnist.target))))[:6000].to(device)\n",
    "\n",
    "X_test = torch.tensor(np.array(mnist.data)).float().reshape(-1, 1, 28, 28)[60000:].to(device)\n",
    "y_test = torch.tensor(np.array(list(map(np.int_, mnist.target))))[60000:].to(device)\n",
    "\n",
    "print(X_train.shape) # torch.Size([60000, 1, 28, 28])\n",
    "print(y_train.shape) # torch.Size([60000])\n",
    "\n",
    "print(X_test.shape) # torch.Size([10000, 1, 28, 28])\n",
    "print(y_test.shape) # torch.Size([10000])"
   ]
  },
  {
   "cell_type": "code",
   "execution_count": 2,
   "id": "c095b4e6-4e97-4f81-936b-0848621b4355",
   "metadata": {
    "execution": {
     "iopub.execute_input": "2023-08-15T11:51:16.911972Z",
     "iopub.status.busy": "2023-08-15T11:51:16.911694Z",
     "iopub.status.idle": "2023-08-15T11:51:16.916828Z",
     "shell.execute_reply": "2023-08-15T11:51:16.915898Z",
     "shell.execute_reply.started": "2023-08-15T11:51:16.911955Z"
    }
   },
   "outputs": [],
   "source": [
    "def cutout_and_rotate(image):\n",
    "    image = image.clone().detach() # 얕은 복사 문제 주의(원본 유지)\n",
    "    x_start = np.random.randint(20) # cut out 시작할 x축 위치(0~19 중 1개)\n",
    "    y_start = np.random.randint(20) # cut out 시작할 y축 위치(0~19 중 1개)\n",
    "\n",
    "    image[..., x_start:x_start+9, y_start:y_start+9] = 255 / 2 # 해당 부분 회색 마킹\n",
    "    return torch.rot90(image, 1, [-2, -1]) # 마지막 두 axis 기준 90도 회전"
   ]
  },
  {
   "cell_type": "code",
   "execution_count": 3,
   "id": "0d3a2744-b6d5-48a9-a28a-f8780b826a59",
   "metadata": {
    "execution": {
     "iopub.execute_input": "2023-08-15T11:51:16.918296Z",
     "iopub.status.busy": "2023-08-15T11:51:16.917818Z",
     "iopub.status.idle": "2023-08-15T11:51:16.924483Z",
     "shell.execute_reply": "2023-08-15T11:51:16.923654Z",
     "shell.execute_reply.started": "2023-08-15T11:51:16.918273Z"
    }
   },
   "outputs": [],
   "source": [
    "import torch.nn as nn\n",
    "import torch.nn.functional as F\n",
    "\n",
    "class Representation(nn.Module):\n",
    "    def __init__(self):\n",
    "        super(Representation, self).__init__()\n",
    "        self.conv1 = nn.Conv2d(in_channels=1, out_channels=10, kernel_size=5, stride=1)\n",
    "        self.conv2 = nn.Conv2d(in_channels=10, out_channels=20, kernel_size=5, stride=1)\n",
    "        self.fc = nn.Linear(4 * 4 * 20, 100)\n",
    "\n",
    "    def forward(self, x):\n",
    "        x = F.relu(self.conv1(x)) # (batch, 1, 28, 28) -> (batch, 10, 24, 24)\n",
    "\n",
    "        x = F.max_pool2d(x, kernel_size=2, stride=2) # (batch, 10, 24, 24) -> (batch, 10, 12, 12)\n",
    "\n",
    "        x = F.relu(self.conv2(x)) # (batch, 10, 12, 12) -> (batch, 20, 8, 8)\n",
    "\n",
    "        x = F.max_pool2d(x, kernel_size=2, stride=2) # (batch, 20, 8, 8) -> (batch, 20, 4, 4)\n",
    "\n",
    "        x = x.view(-1, 4 * 4 * 20) # (batch, 20, 4, 4) -> (batch, 320)\n",
    "\n",
    "        x = F.relu(self.fc(x)) # (batch, 320) -> (batch, 100)\n",
    "        return x # (batch, 100)"
   ]
  },
  {
   "cell_type": "code",
   "execution_count": 4,
   "id": "389537d6-1aa2-4aac-9045-4cbf692cb0c3",
   "metadata": {
    "execution": {
     "iopub.execute_input": "2023-08-15T11:51:16.925638Z",
     "iopub.status.busy": "2023-08-15T11:51:16.925420Z",
     "iopub.status.idle": "2023-08-15T11:51:16.934271Z",
     "shell.execute_reply": "2023-08-15T11:51:16.933594Z",
     "shell.execute_reply.started": "2023-08-15T11:51:16.925618Z"
    },
    "tags": []
   },
   "outputs": [],
   "source": [
    "class SimCLR_Loss(nn.Module):\n",
    "    def __init__(self, batch_size, temperature):\n",
    "        super().__init__()\n",
    "        self.batch_size = batch_size\n",
    "        self.temperature = temperature\n",
    "\n",
    "        self.mask = self.mask_correlated_samples(batch_size)\n",
    "        self.criterion = nn.CrossEntropyLoss(reduction=\"sum\")\n",
    "        self.similarity_f = nn.CosineSimilarity(dim=2)\n",
    "\n",
    "    # loss 분모 부분의 negative sample 간의 내적 합만을 가져오기 위한 마스킹 행렬\n",
    "    def mask_correlated_samples(self, batch_size):\n",
    "        N = 2 * batch_size\n",
    "        mask = torch.ones((N, N), dtype=bool)\n",
    "        mask = mask.fill_diagonal_(0)\n",
    "        \n",
    "        for i in range(batch_size):\n",
    "            mask[i, batch_size + i] = 0\n",
    "            mask[batch_size + i, i] = 0\n",
    "        return mask\n",
    "\n",
    "    def forward(self, z_i, z_j):\n",
    "\n",
    "        N = 2 * self.batch_size\n",
    "\n",
    "        z = torch.cat((z_i, z_j), dim=0)\n",
    "\n",
    "        sim = self.similarity_f(z.unsqueeze(1), z.unsqueeze(0)) / self.temperature\n",
    "\n",
    "        # loss 분자 부분의 원본 - augmentation 이미지 간의 내적 합을 가져오기 위한 부분\n",
    "        sim_i_j = torch.diag(sim, self.batch_size)\n",
    "        sim_j_i = torch.diag(sim, -self.batch_size)\n",
    "        \n",
    "        positive_samples = torch.cat((sim_i_j, sim_j_i), dim=0).reshape(N, 1)\n",
    "        negative_samples = sim[self.mask].reshape(N, -1)\n",
    "\n",
    "\n",
    "        labels = torch.from_numpy(np.array([0]*N)).reshape(-1).to(positive_samples.device).long()\n",
    "\n",
    "        logits = torch.cat((positive_samples, negative_samples), dim=1)\n",
    "        loss = self.criterion(logits, labels)\n",
    "        loss /= N\n",
    "        \n",
    "        return loss"
   ]
  },
  {
   "cell_type": "markdown",
   "id": "698e59dd-c8a0-4a5c-8db2-ac1d14c6cd13",
   "metadata": {},
   "source": [
    "## 2. Representation Learning"
   ]
  },
  {
   "cell_type": "code",
   "execution_count": 5,
   "id": "08165b15-664c-49b8-a7f6-f7ca637a2bdd",
   "metadata": {
    "execution": {
     "iopub.execute_input": "2023-08-15T11:51:16.935213Z",
     "iopub.status.busy": "2023-08-15T11:51:16.935068Z",
     "iopub.status.idle": "2023-08-15T11:51:21.934284Z",
     "shell.execute_reply": "2023-08-15T11:51:21.933427Z",
     "shell.execute_reply.started": "2023-08-15T11:51:16.935201Z"
    },
    "tags": []
   },
   "outputs": [
    {
     "data": {
      "application/vnd.jupyter.widget-view+json": {
       "model_id": "478fd33f28074fbfaa94c3f6d6750d51",
       "version_major": 2,
       "version_minor": 0
      },
      "text/plain": [
       "  0%|          | 0/50 [00:00<?, ?it/s]"
      ]
     },
     "metadata": {},
     "output_type": "display_data"
    },
    {
     "name": "stdout",
     "output_type": "stream",
     "text": [
      "Epoch : 1, Avg Loss : 5.2142\n"
     ]
    },
    {
     "data": {
      "application/vnd.jupyter.widget-view+json": {
       "model_id": "ee6d81936eed4354a1373c869fcc81cb",
       "version_major": 2,
       "version_minor": 0
      },
      "text/plain": [
       "  0%|          | 0/50 [00:00<?, ?it/s]"
      ]
     },
     "metadata": {},
     "output_type": "display_data"
    },
    {
     "name": "stdout",
     "output_type": "stream",
     "text": [
      "Epoch : 2, Avg Loss : 4.6447\n"
     ]
    },
    {
     "data": {
      "application/vnd.jupyter.widget-view+json": {
       "model_id": "0a5b8fd3c20745f7b9df2cfdde3de425",
       "version_major": 2,
       "version_minor": 0
      },
      "text/plain": [
       "  0%|          | 0/50 [00:00<?, ?it/s]"
      ]
     },
     "metadata": {},
     "output_type": "display_data"
    },
    {
     "name": "stdout",
     "output_type": "stream",
     "text": [
      "Epoch : 3, Avg Loss : 4.3325\n"
     ]
    },
    {
     "data": {
      "application/vnd.jupyter.widget-view+json": {
       "model_id": "6f235fe3040143cf91377816af08a803",
       "version_major": 2,
       "version_minor": 0
      },
      "text/plain": [
       "  0%|          | 0/50 [00:00<?, ?it/s]"
      ]
     },
     "metadata": {},
     "output_type": "display_data"
    },
    {
     "name": "stdout",
     "output_type": "stream",
     "text": [
      "Epoch : 4, Avg Loss : 4.2345\n"
     ]
    },
    {
     "data": {
      "application/vnd.jupyter.widget-view+json": {
       "model_id": "e269cd8149e74151a46c408c7bc1944e",
       "version_major": 2,
       "version_minor": 0
      },
      "text/plain": [
       "  0%|          | 0/50 [00:00<?, ?it/s]"
      ]
     },
     "metadata": {},
     "output_type": "display_data"
    },
    {
     "name": "stdout",
     "output_type": "stream",
     "text": [
      "Epoch : 5, Avg Loss : 4.1610\n"
     ]
    },
    {
     "data": {
      "application/vnd.jupyter.widget-view+json": {
       "model_id": "eb442037a08c404ca87dde943062d36c",
       "version_major": 2,
       "version_minor": 0
      },
      "text/plain": [
       "  0%|          | 0/50 [00:00<?, ?it/s]"
      ]
     },
     "metadata": {},
     "output_type": "display_data"
    },
    {
     "name": "stdout",
     "output_type": "stream",
     "text": [
      "Epoch : 6, Avg Loss : 4.1270\n"
     ]
    },
    {
     "data": {
      "application/vnd.jupyter.widget-view+json": {
       "model_id": "106ab9a170e149c5a526c0f9641e0223",
       "version_major": 2,
       "version_minor": 0
      },
      "text/plain": [
       "  0%|          | 0/50 [00:00<?, ?it/s]"
      ]
     },
     "metadata": {},
     "output_type": "display_data"
    },
    {
     "name": "stdout",
     "output_type": "stream",
     "text": [
      "Epoch : 7, Avg Loss : 4.1015\n"
     ]
    },
    {
     "data": {
      "application/vnd.jupyter.widget-view+json": {
       "model_id": "a42abbe24cc7447ea693c3b9db78e19a",
       "version_major": 2,
       "version_minor": 0
      },
      "text/plain": [
       "  0%|          | 0/50 [00:00<?, ?it/s]"
      ]
     },
     "metadata": {},
     "output_type": "display_data"
    },
    {
     "name": "stdout",
     "output_type": "stream",
     "text": [
      "Epoch : 8, Avg Loss : 4.0764\n"
     ]
    },
    {
     "data": {
      "application/vnd.jupyter.widget-view+json": {
       "model_id": "5fe152b205414c88a7ef300ce2922246",
       "version_major": 2,
       "version_minor": 0
      },
      "text/plain": [
       "  0%|          | 0/50 [00:00<?, ?it/s]"
      ]
     },
     "metadata": {},
     "output_type": "display_data"
    },
    {
     "name": "stdout",
     "output_type": "stream",
     "text": [
      "Epoch : 9, Avg Loss : 4.0608\n"
     ]
    },
    {
     "data": {
      "application/vnd.jupyter.widget-view+json": {
       "model_id": "b1ca08caf3d24ce8b40ebb7c1956acb3",
       "version_major": 2,
       "version_minor": 0
      },
      "text/plain": [
       "  0%|          | 0/50 [00:00<?, ?it/s]"
      ]
     },
     "metadata": {},
     "output_type": "display_data"
    },
    {
     "name": "stdout",
     "output_type": "stream",
     "text": [
      "Epoch : 10, Avg Loss : 4.0527\n"
     ]
    }
   ],
   "source": [
    "from torch.utils.data import TensorDataset, DataLoader, Subset\n",
    "from tqdm.notebook import tqdm\n",
    "import torch\n",
    "import numpy as np\n",
    "\n",
    "X_train_aug = cutout_and_rotate(X_train) # 각 X_train 데이터에 대하여 augmentation\n",
    "X_train_aug = X_train_aug.to(device) # 학습을 위하여 GPU에 선언\n",
    "\n",
    "dataset = TensorDataset(X_train, X_train_aug) # augmentation된 데이터와 pair\n",
    "\n",
    "# Select a random subset of 5000 samples\n",
    "indices = np.random.choice(len(dataset), 5000, replace=False)\n",
    "subset_dataset = Subset(dataset, indices)\n",
    "\n",
    "batch_size = 100\n",
    "dataloader = DataLoader(\n",
    "            subset_dataset,\n",
    "            batch_size = batch_size)\n",
    "\n",
    "model = Representation() # 모델 변수 선언\n",
    "loss_func = SimCLR_Loss(batch_size, temperature = 0.5) # loss 함수 선언\n",
    "\n",
    "# train 코드 예시\n",
    "epochs = 10\n",
    "model.to(device)\n",
    "model.train()\n",
    "\n",
    "optimizer = torch.optim.Adam(model.parameters(), lr=1e-4)\n",
    "\n",
    "for i in range(1, epochs + 1):\n",
    "    total_loss = 0\n",
    "    for data in tqdm(dataloader):\n",
    "        origin_vec = model(data[0])\n",
    "        aug_vec = model(data[1])\n",
    "\n",
    "        loss = loss_func(origin_vec, aug_vec)\n",
    "        total_loss += loss.item()\n",
    "\n",
    "        optimizer.zero_grad()\n",
    "        loss.backward()\n",
    "        optimizer.step()\n",
    "\n",
    "    print('Epoch : %d, Avg Loss : %.4f'%(i, total_loss / len(dataloader)))\n"
   ]
  },
  {
   "cell_type": "markdown",
   "id": "488659ad-54aa-4204-aadf-631d98180976",
   "metadata": {},
   "source": [
    "## 3. Classification"
   ]
  },
  {
   "cell_type": "markdown",
   "id": "31acac92-5ffe-4555-9df0-0b62993889fd",
   "metadata": {
    "execution": {
     "iopub.execute_input": "2023-08-08T07:44:08.749883Z",
     "iopub.status.busy": "2023-08-08T07:44:08.749342Z",
     "iopub.status.idle": "2023-08-08T07:44:08.755487Z",
     "shell.execute_reply": "2023-08-08T07:44:08.754319Z",
     "shell.execute_reply.started": "2023-08-08T07:44:08.749845Z"
    }
   },
   "source": [
    "### 1) Prepare dataset"
   ]
  },
  {
   "cell_type": "code",
   "execution_count": 6,
   "id": "bfd50b77-0847-4c3e-87be-9393a0c07b74",
   "metadata": {
    "execution": {
     "iopub.execute_input": "2023-08-15T11:51:21.935658Z",
     "iopub.status.busy": "2023-08-15T11:51:21.935393Z",
     "iopub.status.idle": "2023-08-15T11:51:22.349367Z",
     "shell.execute_reply": "2023-08-15T11:51:22.348235Z",
     "shell.execute_reply.started": "2023-08-15T11:51:21.935640Z"
    },
    "tags": []
   },
   "outputs": [],
   "source": [
    "from torchvision.datasets import MNIST\n",
    "from torch.utils.data import DataLoader, TensorDataset\n",
    "import torch\n",
    "import torch.nn as nn\n",
    "from tqdm import tqdm\n",
    "from torchvision import datasets, transforms\n",
    "\n",
    "major_class_num = 420\n",
    "minor_class_num = 180\n",
    "# Define the transformations: Convert images to tensor & normalize\n",
    "MNIST_transform = transforms.Compose([\n",
    "    transforms.ToTensor(),\n",
    "    transforms.Normalize((0.5,), (0.5,))  # Normalizing with mean=0.5 and std=0.5 for MNIST\n",
    "])\n",
    "trainset = datasets.MNIST(root='./data', train=True, download=True, transform=MNIST_transform)\n",
    "\n",
    "major_classes = [3, 4, 5] # Define major classes\n",
    "minor_classes = [0, 1, 2, 6, 7, 8, 9] # Define minor classes\n",
    "\n",
    "images = []\n",
    "targets = []\n",
    "\n",
    "# Select samples from major classes\n",
    "for i in major_classes:\n",
    "    class_indices = np.where(np.array(trainset.targets) == i)[0]\n",
    "    selected_indices = class_indices[:major_class_num]\n",
    "\n",
    "    for idx in selected_indices:\n",
    "        images.append(trainset[idx][0])\n",
    "        targets.append(0) # New label: 0 for major\n",
    "\n",
    "# Select samples from minor classes\n",
    "for i in minor_classes:\n",
    "    class_indices = np.where(np.array(trainset.targets) == i)[0]\n",
    "    selected_indices = class_indices[:minor_class_num]\n",
    "\n",
    "    for idx in selected_indices:\n",
    "        images.append(trainset[idx][0])\n",
    "        targets.append(1) # New label: 1 for minor\n",
    "\n",
    "# Convert to PyTorch tensors\n",
    "images = torch.stack(images)\n",
    "targets = torch.tensor(targets, dtype=torch.long)\n",
    "\n",
    "# Create a TensorDataset with the selected instances and modified labels\n",
    "subset = TensorDataset(images, targets)\n",
    "class_dataloader = DataLoader(subset, batch_size=64, shuffle=True)\n"
   ]
  },
  {
   "cell_type": "markdown",
   "id": "6fe497dd-dcb2-490d-8ba4-721cc185f58b",
   "metadata": {},
   "source": [
    "### 2) Train Classifier\n"
   ]
  },
  {
   "cell_type": "code",
   "execution_count": 7,
   "id": "5ee3e040-7c32-48d4-80e6-b531bde4b8d7",
   "metadata": {
    "execution": {
     "iopub.execute_input": "2023-08-15T11:51:22.351837Z",
     "iopub.status.busy": "2023-08-15T11:51:22.351674Z",
     "iopub.status.idle": "2023-08-15T11:51:22.355196Z",
     "shell.execute_reply": "2023-08-15T11:51:22.354484Z",
     "shell.execute_reply.started": "2023-08-15T11:51:22.351821Z"
    }
   },
   "outputs": [],
   "source": [
    "import os\n",
    "os.environ['CUDA_LAUNCH_BLOCKING'] = '1'"
   ]
  },
  {
   "cell_type": "code",
   "execution_count": 8,
   "id": "4dc25123-3be1-46ae-a1c4-4a491ed5746e",
   "metadata": {
    "execution": {
     "iopub.execute_input": "2023-08-15T11:51:22.356014Z",
     "iopub.status.busy": "2023-08-15T11:51:22.355863Z",
     "iopub.status.idle": "2023-08-15T11:51:23.712062Z",
     "shell.execute_reply": "2023-08-15T11:51:23.711149Z",
     "shell.execute_reply.started": "2023-08-15T11:51:22.355981Z"
    },
    "tags": []
   },
   "outputs": [
    {
     "name": "stderr",
     "output_type": "stream",
     "text": [
      "100%|██████████| 40/40 [00:00<00:00, 309.26it/s]\n"
     ]
    },
    {
     "name": "stdout",
     "output_type": "stream",
     "text": [
      "Epoch : 1, Train Accuracy : 64.01%\n"
     ]
    },
    {
     "name": "stderr",
     "output_type": "stream",
     "text": [
      "100%|██████████| 40/40 [00:00<00:00, 314.57it/s]\n"
     ]
    },
    {
     "name": "stdout",
     "output_type": "stream",
     "text": [
      "Epoch : 2, Train Accuracy : 76.39%\n"
     ]
    },
    {
     "name": "stderr",
     "output_type": "stream",
     "text": [
      "100%|██████████| 40/40 [00:00<00:00, 294.72it/s]\n"
     ]
    },
    {
     "name": "stdout",
     "output_type": "stream",
     "text": [
      "Epoch : 3, Train Accuracy : 81.07%\n"
     ]
    },
    {
     "name": "stderr",
     "output_type": "stream",
     "text": [
      "100%|██████████| 40/40 [00:00<00:00, 311.85it/s]\n"
     ]
    },
    {
     "name": "stdout",
     "output_type": "stream",
     "text": [
      "Epoch : 4, Train Accuracy : 81.94%\n"
     ]
    },
    {
     "name": "stderr",
     "output_type": "stream",
     "text": [
      "100%|██████████| 40/40 [00:00<00:00, 296.76it/s]\n"
     ]
    },
    {
     "name": "stdout",
     "output_type": "stream",
     "text": [
      "Epoch : 5, Train Accuracy : 82.66%\n"
     ]
    },
    {
     "name": "stderr",
     "output_type": "stream",
     "text": [
      "100%|██████████| 40/40 [00:00<00:00, 289.37it/s]\n"
     ]
    },
    {
     "name": "stdout",
     "output_type": "stream",
     "text": [
      "Epoch : 6, Train Accuracy : 84.48%\n"
     ]
    },
    {
     "name": "stderr",
     "output_type": "stream",
     "text": [
      "100%|██████████| 40/40 [00:00<00:00, 287.32it/s]\n"
     ]
    },
    {
     "name": "stdout",
     "output_type": "stream",
     "text": [
      "Epoch : 7, Train Accuracy : 86.15%\n"
     ]
    },
    {
     "name": "stderr",
     "output_type": "stream",
     "text": [
      "100%|██████████| 40/40 [00:00<00:00, 312.31it/s]\n"
     ]
    },
    {
     "name": "stdout",
     "output_type": "stream",
     "text": [
      "Epoch : 8, Train Accuracy : 88.17%\n"
     ]
    },
    {
     "name": "stderr",
     "output_type": "stream",
     "text": [
      "100%|██████████| 40/40 [00:00<00:00, 301.24it/s]\n"
     ]
    },
    {
     "name": "stdout",
     "output_type": "stream",
     "text": [
      "Epoch : 9, Train Accuracy : 89.80%\n"
     ]
    },
    {
     "name": "stderr",
     "output_type": "stream",
     "text": [
      "100%|██████████| 40/40 [00:00<00:00, 313.94it/s]"
     ]
    },
    {
     "name": "stdout",
     "output_type": "stream",
     "text": [
      "Epoch : 10, Train Accuracy : 90.63%\n"
     ]
    },
    {
     "name": "stderr",
     "output_type": "stream",
     "text": [
      "\n"
     ]
    }
   ],
   "source": [
    "class CNN_classifier(nn.Module):\n",
    "    def __init__(self, model):\n",
    "        super().__init__()\n",
    "        self.CNN = model\n",
    "        self.mlp = nn.Linear(100, 2) # Only two classes: major and minor\n",
    "\n",
    "    def forward(self, x):\n",
    "        x = self.CNN(x)\n",
    "        x = self.mlp(x)\n",
    "        return x\n",
    "\n",
    "\n",
    "classifier = CNN_classifier(model).to(device)\n",
    "classifier_loss = nn.CrossEntropyLoss()\n",
    "epochs = 10\n",
    "classifier.train()\n",
    "optimizer = torch.optim.Adam(classifier.parameters(), lr=1e-4)\n",
    "\n",
    "for i in range(1, epochs + 1):\n",
    "    correct = 0\n",
    "    for data, labels in tqdm(class_dataloader):\n",
    "        data, labels = data.to(device), labels.to(device)\n",
    "        # print(labels.min(), labels.max()) # Should print 0 and 1\n",
    "        logits = classifier(data)\n",
    "        loss = classifier_loss(logits, labels)\n",
    "\n",
    "        optimizer.zero_grad()\n",
    "        loss.backward()\n",
    "        optimizer.step()\n",
    "\n",
    "        correct += torch.sum(torch.argmax(logits, 1) == labels).item()\n",
    "\n",
    "    print('Epoch : %d, Train Accuracy : %.2f%%' % (i, correct * 100 / len(subset)))"
   ]
  },
  {
   "cell_type": "markdown",
   "id": "959ef1f0-9490-458a-a2f8-35afca8eea84",
   "metadata": {
    "execution": {
     "iopub.execute_input": "2023-08-08T07:49:22.774749Z",
     "iopub.status.busy": "2023-08-08T07:49:22.774234Z",
     "iopub.status.idle": "2023-08-08T07:49:22.779510Z",
     "shell.execute_reply": "2023-08-08T07:49:22.778527Z",
     "shell.execute_reply.started": "2023-08-08T07:49:22.774714Z"
    }
   },
   "source": [
    "### 2) Test Classification model"
   ]
  },
  {
   "cell_type": "code",
   "execution_count": 9,
   "id": "5dfc1bfd-c6bd-4e16-92e8-79d1c9844e1b",
   "metadata": {
    "execution": {
     "iopub.execute_input": "2023-08-15T11:51:23.713729Z",
     "iopub.status.busy": "2023-08-15T11:51:23.713184Z",
     "iopub.status.idle": "2023-08-15T11:51:23.876840Z",
     "shell.execute_reply": "2023-08-15T11:51:23.876143Z",
     "shell.execute_reply.started": "2023-08-15T11:51:23.713704Z"
    },
    "tags": []
   },
   "outputs": [
    {
     "name": "stderr",
     "output_type": "stream",
     "text": [
      "100%|██████████| 15/15 [00:00<00:00, 1410.80it/s]"
     ]
    },
    {
     "name": "stdout",
     "output_type": "stream",
     "text": [
      "Test Accuracy : 85.62%\n"
     ]
    },
    {
     "name": "stderr",
     "output_type": "stream",
     "text": [
      "\n"
     ]
    }
   ],
   "source": [
    "import numpy as np\n",
    "from torchvision import datasets\n",
    "from torch.utils.data import TensorDataset, DataLoader\n",
    "from tqdm import tqdm\n",
    "\n",
    "testset = datasets.MNIST(root='./data', train=False, download=True, transform=MNIST_transform)\n",
    "\n",
    "# Prepare the custom test dataset\n",
    "test_major_class_num = 180 # You can set appropriate numbers\n",
    "test_minor_class_num = 60\n",
    "test_images = []\n",
    "test_targets = []\n",
    "\n",
    "for i in range(10):\n",
    "    class_indices = np.where(np.array(testset.targets) == i)[0]\n",
    "    np.random.shuffle(class_indices)  # Apply randomness by shuffling the indices\n",
    "    \n",
    "    num_samples = test_major_class_num if i < 3 else test_minor_class_num\n",
    "    selected_indices = class_indices[:num_samples]\n",
    "\n",
    "    for idx in selected_indices:\n",
    "        test_images.append(testset[idx][0])\n",
    "        test_targets.append(0 if 3 < i < 6 else 1) # New labels: 0 for major, 1 for minor\n",
    "\n",
    "# Convert to PyTorch tensors\n",
    "test_images = torch.stack(test_images)\n",
    "test_targets = torch.tensor(test_targets, dtype=torch.long)\n",
    "\n",
    "# Create a TensorDataset with the selected instances and modified labels\n",
    "test_subset = TensorDataset(test_images, test_targets)\n",
    "test_dataloader = DataLoader(test_subset, batch_size=64, shuffle=False)\n",
    "\n",
    "# Evaluate the classifier\n",
    "classifier.eval() # Set to evaluation mode\n",
    "correct = 0\n",
    "with torch.no_grad():\n",
    "    for data, labels in tqdm(test_dataloader):\n",
    "        data, labels = data.to(device), labels.to(device)\n",
    "        logits = classifier(data)\n",
    "        correct += torch.sum(torch.argmax(logits, 1) == labels).item()\n",
    "\n",
    "print('Test Accuracy : %.2f%%' % (correct * 100 / len(test_subset)))\n"
   ]
  },
  {
   "cell_type": "code",
   "execution_count": 11,
   "id": "ae760d03-d6e7-48a1-a3e1-4e3c8f6926d9",
   "metadata": {
    "execution": {
     "iopub.execute_input": "2023-08-15T11:52:12.263070Z",
     "iopub.status.busy": "2023-08-15T11:52:12.262659Z",
     "iopub.status.idle": "2023-08-15T11:52:12.573907Z",
     "shell.execute_reply": "2023-08-15T11:52:12.573006Z",
     "shell.execute_reply.started": "2023-08-15T11:52:12.263039Z"
    },
    "tags": []
   },
   "outputs": [
    {
     "name": "stderr",
     "output_type": "stream",
     "text": [
      "100%|██████████| 63/63 [00:00<00:00, 1444.75it/s]"
     ]
    },
    {
     "name": "stdout",
     "output_type": "stream",
     "text": [
      "Test Accuracy : 82.72%\n"
     ]
    },
    {
     "name": "stderr",
     "output_type": "stream",
     "text": [
      "\n"
     ]
    },
    {
     "ename": "NameError",
     "evalue": "name 'sns' is not defined",
     "output_type": "error",
     "traceback": [
      "\u001b[0;31m---------------------------------------------------------------------------\u001b[0m",
      "\u001b[0;31mNameError\u001b[0m                                 Traceback (most recent call last)",
      "Cell \u001b[0;32mIn[11], line 49\u001b[0m\n\u001b[1;32m     47\u001b[0m \u001b[38;5;66;03m# Plot the confusion matrix\u001b[39;00m\n\u001b[1;32m     48\u001b[0m plt\u001b[38;5;241m.\u001b[39mfigure(figsize\u001b[38;5;241m=\u001b[39m(\u001b[38;5;241m8\u001b[39m, \u001b[38;5;241m6\u001b[39m))\n\u001b[0;32m---> 49\u001b[0m \u001b[43msns\u001b[49m\u001b[38;5;241m.\u001b[39mheatmap(confusion, annot\u001b[38;5;241m=\u001b[39m\u001b[38;5;28;01mTrue\u001b[39;00m, fmt\u001b[38;5;241m=\u001b[39m\u001b[38;5;124m\"\u001b[39m\u001b[38;5;124md\u001b[39m\u001b[38;5;124m\"\u001b[39m, cmap\u001b[38;5;241m=\u001b[39m\u001b[38;5;124m\"\u001b[39m\u001b[38;5;124mBlues\u001b[39m\u001b[38;5;124m\"\u001b[39m, xticklabels\u001b[38;5;241m=\u001b[39m[\u001b[38;5;124m'\u001b[39m\u001b[38;5;124mMajor\u001b[39m\u001b[38;5;124m'\u001b[39m, \u001b[38;5;124m'\u001b[39m\u001b[38;5;124mMinor\u001b[39m\u001b[38;5;124m'\u001b[39m], yticklabels\u001b[38;5;241m=\u001b[39m[\u001b[38;5;124m'\u001b[39m\u001b[38;5;124mMajor\u001b[39m\u001b[38;5;124m'\u001b[39m, \u001b[38;5;124m'\u001b[39m\u001b[38;5;124mMinor\u001b[39m\u001b[38;5;124m'\u001b[39m])\n\u001b[1;32m     50\u001b[0m plt\u001b[38;5;241m.\u001b[39mtitle(\u001b[38;5;124m'\u001b[39m\u001b[38;5;124mConfusion Matrix\u001b[39m\u001b[38;5;124m'\u001b[39m)\n\u001b[1;32m     51\u001b[0m plt\u001b[38;5;241m.\u001b[39mylabel(\u001b[38;5;124m'\u001b[39m\u001b[38;5;124mActual Label\u001b[39m\u001b[38;5;124m'\u001b[39m)\n",
      "\u001b[0;31mNameError\u001b[0m: name 'sns' is not defined"
     ]
    },
    {
     "data": {
      "text/plain": [
       "<Figure size 800x600 with 0 Axes>"
      ]
     },
     "metadata": {},
     "output_type": "display_data"
    }
   ],
   "source": [
    "# Load the MNIST test set\n",
    "testset = MNIST(root='./data', train=False, download=True, transform=transforms.ToTensor())\n",
    "\n",
    "# Prepare the custom test dataset with 4000 instances\n",
    "test_images = []\n",
    "test_targets = []\n",
    "\n",
    "for i, (image, target) in enumerate(testset):\n",
    "    if len(test_images) >= 4000:\n",
    "        break\n",
    "    label = 0 if 3 < target < 6 else 1  # New labels: 0 for major, 1 for minor\n",
    "    test_images.append(image)\n",
    "    test_targets.append(label)\n",
    "\n",
    "# Convert to PyTorch tensors\n",
    "test_images = torch.stack(test_images)\n",
    "test_targets = torch.tensor(test_targets, dtype=torch.long)\n",
    "\n",
    "# Create a TensorDataset with the selected test instances and labels\n",
    "test_subset = TensorDataset(test_images, test_targets)\n",
    "test_dataloader = DataLoader(test_subset, batch_size=64, shuffle=False)\n",
    "\n",
    "# Testing the model\n",
    "classifier.eval()  # Set the model to evaluation mode\n",
    "correct = 0\n",
    "predicted_labels = []\n",
    "true_labels = []\n",
    "\n",
    "with torch.no_grad():\n",
    "    for data, labels in tqdm(test_dataloader):\n",
    "        data, labels = data.to(device), labels.to(device)\n",
    "        logits = classifier(data)\n",
    "        preds = torch.argmax(logits, 1)\n",
    "        correct += torch.sum(preds == labels).item()\n",
    "\n",
    "        # Store predicted and true labels\n",
    "        predicted_labels.extend(preds.cpu().numpy())\n",
    "        true_labels.extend(labels.cpu().numpy())\n",
    "\n",
    "print('Test Accuracy : %.2f%%' % (correct * 100 / len(test_subset)))\n",
    "\n",
    "# Create the confusion matrix\n",
    "confusion = np.zeros((2, 2), dtype=int)\n",
    "for true, pred in zip(true_labels, predicted_labels):\n",
    "    confusion[true][pred] += 1\n",
    "\n",
    "# Plot the confusion matrix\n",
    "plt.figure(figsize=(8, 6))\n",
    "sns.heatmap(confusion, annot=True, fmt=\"d\", cmap=\"Blues\", xticklabels=['Major', 'Minor'], yticklabels=['Major', 'Minor'])\n",
    "plt.title('Confusion Matrix')\n",
    "plt.ylabel('Actual Label')\n",
    "plt.xlabel('Predicted Label')\n",
    "plt.show()"
   ]
  },
  {
   "cell_type": "code",
   "execution_count": null,
   "id": "7efe48d7-700e-4e09-be2a-65098b57c70c",
   "metadata": {},
   "outputs": [],
   "source": []
  }
 ],
 "metadata": {
  "kernelspec": {
   "display_name": "torch1.12.1-py3.8-cuda11.3",
   "language": "python",
   "name": "torch1.12.1-py3.8-cuda11.3"
  },
  "language_info": {
   "codemirror_mode": {
    "name": "ipython",
    "version": 3
   },
   "file_extension": ".py",
   "mimetype": "text/x-python",
   "name": "python",
   "nbconvert_exporter": "python",
   "pygments_lexer": "ipython3",
   "version": "3.8.10"
  }
 },
 "nbformat": 4,
 "nbformat_minor": 5
}

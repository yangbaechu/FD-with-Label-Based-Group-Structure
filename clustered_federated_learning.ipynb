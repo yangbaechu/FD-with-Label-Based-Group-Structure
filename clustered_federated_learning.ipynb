{
 "cells": [
  {
   "cell_type": "markdown",
   "metadata": {},
   "source": [
    "## 1. 데이터 준비"
   ]
  },
  {
   "cell_type": "code",
   "execution_count": 1,
   "metadata": {
    "execution": {
     "iopub.execute_input": "2023-07-02T11:58:11.915598Z",
     "iopub.status.busy": "2023-07-02T11:58:11.915172Z",
     "iopub.status.idle": "2023-07-02T11:58:13.370379Z",
     "shell.execute_reply": "2023-07-02T11:58:13.369458Z",
     "shell.execute_reply.started": "2023-07-02T11:58:11.915570Z"
    }
   },
   "outputs": [],
   "source": [
    "%matplotlib inline\n",
    "from IPython.display import clear_output\n",
    "import os\n",
    "from copy import deepcopy\n",
    "import pickle\n",
    "\n",
    "import torch\n",
    "from torch.utils.data import DataLoader\n",
    "from torchvision import datasets, transforms\n",
    "import pandas as pd\n",
    "import numpy as np\n",
    "import matplotlib.pyplot as plt\n",
    "\n",
    "from models import ConvNet\n",
    "from helper import ExperimentLogger, display_train_stats\n",
    "from fl_devices import Server, Client\n",
    "from data_utils import split_not_contain_every_class, split_contain_every_class, generate_server_idcs, CustomSubset, split_noniid\n",
    "\n",
    "\n",
    "torch.manual_seed(42)\n",
    "np.random.seed(42)"
   ]
  },
  {
   "cell_type": "code",
   "execution_count": 2,
   "metadata": {
    "execution": {
     "iopub.execute_input": "2023-07-02T11:58:13.371786Z",
     "iopub.status.busy": "2023-07-02T11:58:13.371478Z",
     "iopub.status.idle": "2023-07-02T11:58:13.376057Z",
     "shell.execute_reply": "2023-07-02T11:58:13.375382Z",
     "shell.execute_reply.started": "2023-07-02T11:58:13.371767Z"
    },
    "tags": []
   },
   "outputs": [],
   "source": [
    "COMMUNICATION_ROUNDS = 50\n",
    "EPS_1 = 0.4\n",
    "EPS_2 = 1.6\n",
    "N_CLIENTS = 9\n",
    "\n",
    "total_client_data = 1000\n",
    "data_per_class = 50\n",
    "ALPHA = 1"
   ]
  },
  {
   "cell_type": "code",
   "execution_count": 3,
   "metadata": {
    "execution": {
     "iopub.execute_input": "2023-07-02T11:58:13.377273Z",
     "iopub.status.busy": "2023-07-02T11:58:13.376855Z",
     "iopub.status.idle": "2023-07-02T11:58:13.427150Z",
     "shell.execute_reply": "2023-07-02T11:58:13.426227Z",
     "shell.execute_reply.started": "2023-07-02T11:58:13.377254Z"
    },
    "tags": []
   },
   "outputs": [],
   "source": [
    "data = datasets.MNIST(root=\"MNIST/\", download=False)\n",
    "\n",
    "mapp = np.array(['0', '1', '2', '3', '4', '5', '6', '7', '8', '9'], dtype='<U1')\n",
    "\n",
    "idcs = np.random.permutation(len(data))"
   ]
  },
  {
   "cell_type": "code",
   "execution_count": 9,
   "metadata": {
    "execution": {
     "iopub.execute_input": "2023-07-02T12:10:52.069397Z",
     "iopub.status.busy": "2023-07-02T12:10:52.068938Z",
     "iopub.status.idle": "2023-07-02T12:10:52.087617Z",
     "shell.execute_reply": "2023-07-02T12:10:52.086731Z",
     "shell.execute_reply.started": "2023-07-02T12:10:52.069361Z"
    },
    "tags": []
   },
   "outputs": [],
   "source": [
    "def do_experiments(total_client_data=total_client_data, data_per_class=data_per_class, ALPHA=ALPHA):\n",
    "    train_idcs, test_idcs = idcs[:total_client_data], idcs[total_client_data:12000]\n",
    "    train_labels = data.train_labels.numpy()\n",
    "    test_labels = data.train_labels.numpy()[total_client_data:]\n",
    "\n",
    "    client_idcs = split_noniid(train_idcs, train_labels, alpha=ALPHA, n_clients=N_CLIENTS)\n",
    "    server_idcs = generate_server_idcs(test_idcs, test_labels)\n",
    "\n",
    "    client_data = [CustomSubset(data, idcs) for idcs in client_idcs]\n",
    "    test_data = CustomSubset(data, server_idcs, transforms.Compose([transforms.ToTensor()]))\n",
    "    \n",
    "    for i, client_datum in enumerate(client_data):\n",
    "        client_datum.subset_transform = transforms.Compose([transforms.ToTensor()])\n",
    "\n",
    "    server = Server(ConvNet, lambda x : torch.optim.SGD(x, lr=0.1, momentum=0.9),test_data)\n",
    "    distillation_data = server.make_distillation_data(data_per_class=data_per_class)\n",
    "    torch.save(distillation_data, f'distillation_data_{data_per_class}_per_class.pth')\n",
    "\n",
    "    distillation_data = torch.load(f'distillation_data_{data_per_class}_per_class.pth')\n",
    "\n",
    "    clients = [Client(ConvNet, lambda x : torch.optim.SGD(x, lr=0.1, momentum=0.9), dat, i, distillation_data) \n",
    "               for i, dat in enumerate(client_data)]\n",
    "\n",
    "    def aggregate(cluster_indices_new):\n",
    "        cluster_indices = cluster_indices_new\n",
    "        client_clusters = [[clients[i] for i in idcs] for idcs in cluster_indices]\n",
    "\n",
    "        server.aggregate_clusterwise(client_clusters)\n",
    "\n",
    "        return cluster_indices\n",
    "\n",
    "    cfl_stats = ExperimentLogger()\n",
    "\n",
    "    cluster_indices = [np.arange(len(clients)).astype(\"int\")]\n",
    "    client_clusters = [[clients[i] for i in idcs] for idcs in cluster_indices]\n",
    "\n",
    "\n",
    "    for c_round in range(1, COMMUNICATION_ROUNDS+1):\n",
    "\n",
    "        if c_round == 1:\n",
    "            for client in clients:\n",
    "                client.synchronize_with_server(server)\n",
    "\n",
    "        participating_clients = server.select_clients(clients, frac=1.0)\n",
    "\n",
    "        for client in participating_clients:\n",
    "            if c_round == 1:\n",
    "                client.distill()\n",
    "\n",
    "            train_stats = client.compute_weight_update(epochs=1) #train client\n",
    "\n",
    "            if c_round == 1000:\n",
    "                client.reset()\n",
    "\n",
    "        cluster_indices_new = []\n",
    "\n",
    "        for idc in cluster_indices:\n",
    "            max_norm = server.compute_max_update_norm([clients[i] for i in idc])\n",
    "            mean_norm = server.compute_mean_update_norm([clients[i] for i in idc])\n",
    "\n",
    "            #cluster 나누는 기준\n",
    "            if c_round == COMMUNICATION_ROUNDS: #무조건 한번 나누기\n",
    "                similarities = server.compute_pairwise_similarities(clients)\n",
    "\n",
    "                server.cache_model(idc, clients[idc[0]].W, acc_clients)\n",
    "\n",
    "                c1, c2, c3 = server.cluster_clients_GMM(similarities[idc][:,idc])\n",
    "                cluster_indices_new += [c1, c2, c3]\n",
    "\n",
    "        if c_round == 1000:\n",
    "            cluster_indices = aggregate(cluster_indices_new)\n",
    "\n",
    "        acc_clients = [client.evaluate() for client in clients]\n",
    "\n",
    "        if c_round == COMMUNICATION_ROUNDS: #무조건 한번 나누기\n",
    "            label_accuracies = pd.DataFrame()\n",
    "            label_predicted = pd.DataFrame()\n",
    "            label_soft_sum = pd.DataFrame()\n",
    "            label_diff = pd.DataFrame()\n",
    "\n",
    "            for i, client in enumerate(clients):\n",
    "                acc, pred, sum_, diff = server.evaluate(client.model)\n",
    "                # Convert each dictionary to a DataFrame and append to the respective DataFrame\n",
    "                label_accuracies = label_accuracies.append(pd.DataFrame(acc, index=[i]))\n",
    "                label_predicted = label_predicted.append(pd.DataFrame(pred, index=[i]))\n",
    "                label_soft_sum = label_soft_sum.append(pd.DataFrame(sum_, index=[i]))\n",
    "                label_diff = label_diff.append(pd.DataFrame(diff, index=[i]))\n",
    "\n",
    "            # Reset index for all DataFrames\n",
    "            label_accuracies.reset_index(drop=True, inplace=True)\n",
    "            label_predicted.reset_index(drop=True, inplace=True)\n",
    "            label_soft_sum.reset_index(drop=True, inplace=True)\n",
    "            label_diff.reset_index(drop=True, inplace=True)\n",
    "\n",
    "        if c_round == 1:\n",
    "            first_accuracies = pd.DataFrame()\n",
    "            for i, client in enumerate(clients):\n",
    "                first_acc, pred, sum_, diff = server.evaluate(client.model)\n",
    "                first_accuracies = first_accuracies.append(pd.DataFrame(first_acc, index=[i]))\n",
    "            first_accuracies = first_accuracies.fillna(0)\n",
    "\n",
    "            client_acc_after_distill = sum(acc_clients)/len(acc_clients)\n",
    "            global_acc_after_distill = np.mean(np.ravel(first_accuracies.values))\n",
    "\n",
    "\n",
    "        elif c_round == COMMUNICATION_ROUNDS:\n",
    "            client_acc_final = sum(acc_clients)/len(acc_clients)\n",
    "            global_acc_final = np.mean(np.ravel(label_accuracies.values))\n",
    "\n",
    "        average_dw = server.get_average_dw(clients)\n",
    "        #print(average_dw)\n",
    "        cfl_stats.log({\"acc_clients\" : acc_clients, \"mean_norm\" : mean_norm, \"max_norm\" : max_norm,\n",
    "                      \"rounds\" : c_round, \"clusters\" : cluster_indices, \"average_dw\": average_dw})\n",
    "\n",
    "\n",
    "        display_train_stats(cfl_stats, EPS_1, EPS_2, COMMUNICATION_ROUNDS)\n",
    "\n",
    "\n",
    "    for idc in cluster_indices:    \n",
    "        server.cache_model(idc, clients[idc[0]].W, acc_clients)\n",
    "    \n",
    "    client_acc_after_distill = ronud(client_acc_after_distill, 3)\n",
    "    global_acc_after_distill = round(global_acc_after_distill, 3)\n",
    "    client_acc_final = round(client_acc_final, 3)\n",
    "    global_acc_final = round(global_acc_final, 3)\n",
    "    \n",
    "    return client_acc_after_distill, global_acc_after_distill, client_acc_final, global_acc_final\n",
    "\n",
    "    print(client_acc_after_distill, global_acc_after_distill)\n",
    "    print(client_acc_final, global_acc_final)"
   ]
  },
  {
   "cell_type": "code",
   "execution_count": 5,
   "metadata": {
    "execution": {
     "iopub.execute_input": "2023-07-02T11:58:13.452425Z",
     "iopub.status.busy": "2023-07-02T11:58:13.452253Z",
     "iopub.status.idle": "2023-07-02T11:58:13.455753Z",
     "shell.execute_reply": "2023-07-02T11:58:13.454973Z",
     "shell.execute_reply.started": "2023-07-02T11:58:13.452411Z"
    }
   },
   "outputs": [],
   "source": [
    "#client_acc_after_distill, global_acc_after_distill, client_acc_final, global_acc_final = do_experiments(total_client_data=total_client_data, data_per_class=data_per_class, ALPHA)"
   ]
  },
  {
   "cell_type": "code",
   "execution_count": 6,
   "metadata": {
    "execution": {
     "iopub.execute_input": "2023-07-02T11:58:13.456855Z",
     "iopub.status.busy": "2023-07-02T11:58:13.456486Z",
     "iopub.status.idle": "2023-07-02T12:01:10.328021Z",
     "shell.execute_reply": "2023-07-02T12:01:10.327420Z",
     "shell.execute_reply.started": "2023-07-02T11:58:13.456833Z"
    }
   },
   "outputs": [
    {
     "data": {
      "image/png": "[encoded data removed]",
      "text/plain": [
       "<Figure size 1200x400 with 2 Axes>"
      ]
     },
     "metadata": {},
     "output_type": "display_data"
    }
   ],
   "source": [
    "# Define the directory where you want to save the results\n",
    "save_dir = 'results/data_amount'\n",
    "os.makedirs(save_dir, exist_ok=True)  # Create directory if it doesn't exist\n",
    "\n",
    "# Define the different total_client_data values\n",
    "total_client_data_values = [100, 200, 500]\n",
    "\n",
    "results = {}\n",
    "\n",
    "# Loop over the total_client_data values\n",
    "for total_client_data in total_client_data_values:\n",
    "    # Call the function and save the results\n",
    "    client_acc_after_distill, global_acc_after_distill, client_acc_final, global_acc_final = do_experiments(\n",
    "        total_client_data=total_client_data, \n",
    "        data_per_class=data_per_class, \n",
    "        ALPHA=ALPHA\n",
    "    )\n",
    "\n",
    "    # Save the results in the results dictionary\n",
    "    results[total_client_data] = {\n",
    "        'client_acc_after_distill': client_acc_after_distill, \n",
    "        'global_acc_after_distill': global_acc_after_distill, \n",
    "        'client_acc_final': client_acc_final, \n",
    "        'global_acc_final': global_acc_final\n",
    "    }\n",
    "\n",
    "# Save the results dictionary to disk\n",
    "with open(os.path.join(save_dir, 'results.pkl'), 'wb') as f:\n",
    "    pickle.dump(results, f)"
   ]
  },
  {
   "cell_type": "code",
   "execution_count": 8,
   "metadata": {
    "execution": {
     "iopub.execute_input": "2023-07-02T12:07:43.595752Z",
     "iopub.status.busy": "2023-07-02T12:07:43.595321Z",
     "iopub.status.idle": "2023-07-02T12:07:43.605161Z",
     "shell.execute_reply": "2023-07-02T12:07:43.604357Z",
     "shell.execute_reply.started": "2023-07-02T12:07:43.595709Z"
    },
    "tags": []
   },
   "outputs": [
    {
     "name": "stdout",
     "output_type": "stream",
     "text": [
      "total_client_data: 100\n",
      "client_acc_after_distill: 0.7685185185185186\n",
      "global_acc_after_distill: 0.7653786575157596\n",
      "client_acc_final: 0.3777777777777778\n",
      "global_acc_final: 0.3543584188408763\n",
      "-----------------------------\n",
      "total_client_data: 200\n",
      "client_acc_after_distill: 0.9563492063492062\n",
      "global_acc_after_distill: 0.9004561427071945\n",
      "client_acc_final: 0.5034391534391535\n",
      "global_acc_final: 0.5127401567639327\n",
      "-----------------------------\n",
      "total_client_data: 500\n",
      "client_acc_after_distill: 0.9324533605751356\n",
      "global_acc_after_distill: 0.8572093689871386\n",
      "client_acc_final: 0.7409067154036194\n",
      "global_acc_final: 0.6760932221410186\n",
      "-----------------------------\n"
     ]
    }
   ],
   "source": [
    "# Define the directory where the results are saved\n",
    "save_dir = 'results/data_amount'\n",
    "\n",
    "# Open and load the results dictionary\n",
    "with open(os.path.join(save_dir, 'results.pkl'), 'rb') as f:\n",
    "    results = pickle.load(f)\n",
    "\n",
    "# Now you can access the results\n",
    "for total_client_data, result in results.items():\n",
    "    print(f\"total_client_data: {total_client_data}\")\n",
    "    print(f\"client_acc_after_distill: {result['client_acc_after_distill']}\")\n",
    "    print(f\"global_acc_after_distill: {result['global_acc_after_distill']}\")\n",
    "    print(f\"client_acc_final: {result['client_acc_final']}\")\n",
    "    print(f\"global_acc_final: {result['global_acc_final']}\")\n",
    "    print(\"-----------------------------\")"
   ]
  },
  {
   "cell_type": "code",
   "execution_count": 7,
   "metadata": {
    "execution": {
     "iopub.execute_input": "2023-07-02T12:01:10.328934Z",
     "iopub.status.busy": "2023-07-02T12:01:10.328794Z",
     "iopub.status.idle": "2023-07-02T12:01:10.424595Z",
     "shell.execute_reply": "2023-07-02T12:01:10.423576Z",
     "shell.execute_reply.started": "2023-07-02T12:01:10.328920Z"
    },
    "tags": []
   },
   "outputs": [
    {
     "ename": "NameError",
     "evalue": "name 'first_accuracies' is not defined",
     "output_type": "error",
     "traceback": [
      "\u001b[0;31m---------------------------------------------------------------------------\u001b[0m",
      "\u001b[0;31mNameError\u001b[0m                                 Traceback (most recent call last)",
      "Cell \u001b[0;32mIn[7], line 1\u001b[0m\n\u001b[0;32m----> 1\u001b[0m \u001b[43mfirst_accuracies\u001b[49m\n",
      "\u001b[0;31mNameError\u001b[0m: name 'first_accuracies' is not defined"
     ]
    }
   ],
   "source": [
    "first_accuracies"
   ]
  },
  {
   "cell_type": "code",
   "execution_count": null,
   "metadata": {
    "execution": {
     "iopub.status.busy": "2023-07-02T12:01:10.425095Z",
     "iopub.status.idle": "2023-07-02T12:01:10.425284Z",
     "shell.execute_reply": "2023-07-02T12:01:10.425196Z",
     "shell.execute_reply.started": "2023-07-02T12:01:10.425181Z"
    },
    "tags": []
   },
   "outputs": [],
   "source": [
    "label_accuracies.sort_index(axis=1)"
   ]
  },
  {
   "cell_type": "code",
   "execution_count": null,
   "metadata": {
    "execution": {
     "iopub.status.busy": "2023-07-02T12:01:10.426183Z",
     "iopub.status.idle": "2023-07-02T12:01:10.426354Z",
     "shell.execute_reply": "2023-07-02T12:01:10.426276Z",
     "shell.execute_reply.started": "2023-07-02T12:01:10.426266Z"
    }
   },
   "outputs": [],
   "source": [
    "label_soft_sum.sort_index(axis=1)"
   ]
  },
  {
   "cell_type": "code",
   "execution_count": null,
   "metadata": {
    "execution": {
     "iopub.status.busy": "2023-07-02T12:01:10.427296Z",
     "iopub.status.idle": "2023-07-02T12:01:10.427529Z",
     "shell.execute_reply": "2023-07-02T12:01:10.427416Z",
     "shell.execute_reply.started": "2023-07-02T12:01:10.427404Z"
    }
   },
   "outputs": [],
   "source": [
    "label_diff.sort_index(axis=1)"
   ]
  },
  {
   "cell_type": "code",
   "execution_count": null,
   "metadata": {
    "execution": {
     "iopub.status.busy": "2023-07-02T12:01:10.429006Z",
     "iopub.status.idle": "2023-07-02T12:01:10.429321Z",
     "shell.execute_reply": "2023-07-02T12:01:10.429158Z",
     "shell.execute_reply.started": "2023-07-02T12:01:10.429142Z"
    }
   },
   "outputs": [],
   "source": [
    "label_predicted.sort_index(axis=1)"
   ]
  },
  {
   "cell_type": "code",
   "execution_count": null,
   "metadata": {
    "execution": {
     "iopub.status.busy": "2023-07-02T12:01:10.430973Z",
     "iopub.status.idle": "2023-07-02T12:01:10.431307Z",
     "shell.execute_reply": "2023-07-02T12:01:10.431127Z",
     "shell.execute_reply.started": "2023-07-02T12:01:10.431111Z"
    },
    "tags": []
   },
   "outputs": [],
   "source": [
    "from sklearn.decomposition import PCA\n",
    "# Instantiate PCA\n",
    "pca = PCA(n_components=2)\n",
    "\n",
    "# Apply PCA to the dataframes\n",
    "label_accuracies_pca = pca.fit_transform(label_accuracies)\n",
    "label_predicted_pca = pca.fit_transform(label_predicted)\n",
    "label_soft_sum_pca = pca.fit_transform(label_soft_sum)\n",
    "label_diff_pca = pca.fit_transform(label_diff)\n",
    "transformed_data = pca.fit_transform(similarities)\n",
    "\n",
    "# Create labels\n",
    "labels = [0, 0, 0, 1, 1, 1, 2, 2, 2]\n",
    "\n",
    "fig, axs = plt.subplots(2, 2, figsize=(10, 10))\n",
    "\n",
    "# Scatter plots with larger dots\n",
    "dot_size = 50\n",
    "axs[0, 0].scatter(label_accuracies_pca[:, 0], label_accuracies_pca[:, 1], c=labels, s=dot_size)\n",
    "axs[0, 0].set_title('Label Accuracies')\n",
    "axs[0, 1].scatter(label_predicted_pca[:, 0], label_predicted_pca[:, 1], c=labels, s=dot_size)\n",
    "axs[0, 1].set_title('Label Predicted')\n",
    "axs[1, 0].scatter(label_soft_sum_pca[:, 0], label_soft_sum_pca[:, 1], c=labels, s=dot_size)\n",
    "axs[1, 0].set_title('Label Soft Sum')\n",
    "axs[1, 1].scatter(label_diff_pca[:, 0], label_diff_pca[:, 1], c=labels, s=dot_size)\n",
    "axs[1, 1].set_title('Label Soft Diff')\n",
    "\n",
    "plt.show()"
   ]
  },
  {
   "cell_type": "code",
   "execution_count": null,
   "metadata": {
    "execution": {
     "iopub.status.busy": "2023-07-02T12:01:10.432248Z",
     "iopub.status.idle": "2023-07-02T12:01:10.432547Z",
     "shell.execute_reply": "2023-07-02T12:01:10.432414Z",
     "shell.execute_reply.started": "2023-07-02T12:01:10.432398Z"
    }
   },
   "outputs": [],
   "source": [
    "from sklearn.metrics import silhouette_score\n",
    "\n",
    "# Calculate Silhouette Scores\n",
    "silhouette_accuracies = silhouette_score(label_accuracies_pca, labels)\n",
    "silhouette_predicted = silhouette_score(label_predicted_pca, labels)\n",
    "silhouette_soft_sum = silhouette_score(label_soft_sum_pca, labels)\n",
    "silhouette_diff = silhouette_score(label_diff_pca, labels)\n",
    "silhouette_transformed_data = silhouette_score(transformed_data, labels)\n",
    "\n",
    "print('Silhouette Score for Accuracies:', silhouette_accuracies)\n",
    "print('Silhouette Score for Predicted:', silhouette_predicted)\n",
    "print('Silhouette Score for Soft Sum:', silhouette_soft_sum)\n",
    "print('Silhouette Score for diff:', silhouette_diff)\n",
    "print('Silhouette Score for Model params:', silhouette_transformed_data)\n",
    "\n"
   ]
  },
  {
   "cell_type": "code",
   "execution_count": null,
   "metadata": {
    "execution": {
     "iopub.status.busy": "2023-07-02T12:01:10.433673Z",
     "iopub.status.idle": "2023-07-02T12:01:10.433969Z",
     "shell.execute_reply": "2023-07-02T12:01:10.433833Z",
     "shell.execute_reply.started": "2023-07-02T12:01:10.433817Z"
    }
   },
   "outputs": [],
   "source": [
    "#df.sort_index(axis=1)"
   ]
  },
  {
   "cell_type": "markdown",
   "metadata": {},
   "source": [
    "데이터 Cluster 별 모델 파라미터 분포"
   ]
  },
  {
   "cell_type": "code",
   "execution_count": null,
   "metadata": {
    "execution": {
     "iopub.status.busy": "2023-07-02T12:01:10.435241Z",
     "iopub.status.idle": "2023-07-02T12:01:10.435584Z",
     "shell.execute_reply": "2023-07-02T12:01:10.435432Z",
     "shell.execute_reply.started": "2023-07-02T12:01:10.435416Z"
    },
    "tags": []
   },
   "outputs": [],
   "source": [
    "from sklearn.decomposition import PCA\n",
    "import matplotlib.pyplot as plt\n",
    "import numpy as np\n",
    "\n",
    "# Fit and transform your data to 2D\n",
    "pca = PCA(n_components=2)\n",
    "transformed_data = pca.fit_transform(similarities)\n",
    "\n",
    "# Assign labels based on index ranges\n",
    "labels = [0, 0, 0, 1, 1, 1, 2, 2, 2]\n",
    "unique_labels = np.unique(labels)\n",
    "colors = plt.cm.Spectral(np.linspace(0, 0.35, len(unique_labels)))\n",
    "\n",
    "# Plot the transformed data with labels\n",
    "for label, color in zip(unique_labels, colors):\n",
    "    idx = np.where(labels == label)\n",
    "    plt.scatter(transformed_data[idx, 0], transformed_data[idx, 1], color=color, label=f'Cluster {label}')\n",
    "\n",
    "# Add a legend\n",
    "plt.legend()\n",
    "\n",
    "plt.show()\n"
   ]
  }
 ],
 "metadata": {
  "kernelspec": {
   "display_name": "torch1.12.1-py3.8-cuda11.3",
   "language": "python",
   "name": "torch1.12.1-py3.8-cuda11.3"
  },
  "language_info": {
   "codemirror_mode": {
    "name": "ipython",
    "version": 3
   },
   "file_extension": ".py",
   "mimetype": "text/x-python",
   "name": "python",
   "nbconvert_exporter": "python",
   "pygments_lexer": "ipython3",
   "version": "3.8.10"
  },
  "vscode": {
   "interpreter": {
    "hash": "f79394e62bebc70f4ea6374f6a04753660b8235adfdaf8a6dfe67d7c0f65c745"
   }
  }
 },
 "nbformat": 4,
 "nbformat_minor": 4
}
